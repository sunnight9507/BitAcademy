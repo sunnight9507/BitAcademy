{
 "cells": [
  {
   "cell_type": "code",
   "execution_count": 410,
   "metadata": {},
   "outputs": [],
   "source": [
    "import pymysql\n",
    "import pandas as pd\n",
    "import numpy as np\n",
    "import seaborn as sns\n",
    "import matplotlib.pyplot as plt\n",
    "import warnings\n",
    "import datetime as dt\n",
    "import math\n",
    "from random import *\n",
    "from dateutil.parser import parse\n",
    "warnings.filterwarnings(\"ignore\")\n",
    "\n",
    "plt.style.use('ggplot')"
   ]
  },
  {
   "cell_type": "code",
   "execution_count": 411,
   "metadata": {},
   "outputs": [],
   "source": [
    "dt_index = pd.DataFrame(pd.date_range(start='20110102', end='20191231')).rename(columns = {0 : 'date'})\n",
    "\n",
    "def load_potato_price():\n",
    "    print(\"======= data loading start ===========\")\n",
    "    conn = pymysql.connect(host='192.168.1.254', user='root', password='1234',\n",
    "                           db='crawling', charset='utf8')\n",
    "    curs = conn.cursor()\n",
    "    sql = \"\"\"\n",
    "    SELECT tbl_item.`품목`, tbl_item.`당일`, tbl_item.`전일`, tbl_item.`date`\n",
    "    FROM tbl_item WHERE tbl_item.`date` > '2011-01-01' and tbl_item.`품목` LIKE CONCAT('%' ,'%감자','%') \n",
    "    ORDER BY tbl_item.date ASC \n",
    "    \"\"\"\n",
    "    \n",
    "    curs.execute(sql)\n",
    "    rows = curs.fetchall()\n",
    "    print(\"{}개의 데이터 로딩\".format(len(rows)))\n",
    "    data = pd.DataFrame(rows, columns=['name','now','before','date'])\n",
    "    print(data.head(3))\n",
    "    print(\"======= data loading finish ===========\")\n",
    "    print()\n",
    "    return data\n",
    "\n",
    "def potato_price_processing(data):\n",
    "    print(\"======= data processing start ===========\")\n",
    "    print(data.shape)\n",
    "    # 중복값 제거\n",
    "    data = data.drop_duplicates()\n",
    "       \n",
    "    # before, now / string to int\n",
    "    data['before'] = data['before'].apply(lambda x : int(x.replace(',','')))\n",
    "    data['now'] = data['now'].apply(lambda x : int(x.replace(',','')))\n",
    "    \n",
    "    # name 통합\n",
    "    data['name'] = data['name'].apply(lambda x : x.replace('감자(수미)', '감자 수미').replace('감자(대지마)', '감자 대지'))\n",
    "    \n",
    "    # 감자 수미 or 감자 대지 선택\n",
    "    string = '감자 수미' # 감자 수미 or 감자 대지\n",
    "    subdata = data[data['name'] == '감자 대지']\n",
    "    data = data[data['name'] == string]\n",
    "    \n",
    "    # 20110101-20191231 인덱스 설정\n",
    "    data['date'] = data['date'].apply(lambda x : parse(str(x)))\n",
    "    data = pd.merge(dt_index, data, how = 'left', on = 'date').set_index('date')\n",
    "    \n",
    "    subdata['date'] = subdata['date'].apply(lambda x : parse(str(x)))\n",
    "    subdata = pd.merge(dt_index, subdata, how = 'left', on = 'date').set_index('date')\n",
    "    \n",
    "    # name 통일\n",
    "    data['name'] = string\n",
    "    \n",
    "    # null 값 채우기\n",
    "    # 1) 0값을 null값으로\n",
    "    def zero_to_nan(data):\n",
    "        if math.isnan(data): return data\n",
    "        elif data == 0: return np.nan\n",
    "        else: return data\n",
    "\n",
    "    data['before'] = data['before'].apply(zero_to_nan)\n",
    "    data['now'] = data['now'].apply(zero_to_nan)\n",
    "    \n",
    "    # 2) now가 null 값일 때 다음날 before값이 존재할 때\n",
    "    random_value = 10\n",
    "    data['Fill_value'] = data.shift(-1)['before']\n",
    "    data['now'] = data[['now', 'Fill_value']].apply(lambda x : x['Fill_value'] if math.isnan(x['now']) else x['now'], axis = 1)\n",
    "    \n",
    "    # 3) 2014-04-01 ~ 2015-04-40 수미 감자 null 값을 대지 감자 price로 대체\n",
    "    data['sub_now'] = subdata['now']\n",
    "    data['tmp_date'] = data.index\n",
    "    def fill_null_to_sub_now(data):\n",
    "        if str(data['tmp_date']) > '2014-03-31' and str(data['tmp_date']) <= '2015-04-30': return data['sub_now']\n",
    "        else: return data['now']\n",
    "    data['now'] = data[['now','tmp_date','sub_now']].apply(fill_null_to_sub_now, axis = 1)\n",
    "    \n",
    "    # 4) 이전 날의 값으로 null값 대체\n",
    "    data = data.fillna(method='ffill')\n",
    "    data = data.fillna(method='bfill')\n",
    "    \n",
    "    # 불필요한 columns drop\n",
    "    data.drop(['name','before','Fill_value','sub_now','tmp_date'],axis = 1,inplace = True)\n",
    "    \n",
    "    print(data.head())\n",
    "    print(data.isnull().sum().sum())\n",
    "    print(data.shape)\n",
    "    print(\"======= data processing finish ===========\")\n",
    "    print()\n",
    "    return data"
   ]
  },
  {
   "cell_type": "code",
   "execution_count": 412,
   "metadata": {},
   "outputs": [],
   "source": [
    "def processing_Exchange_Rate(data):\n",
    "    print('start')\n",
    "    # 20110101부터 정렬\n",
    "    data = data[::-1]\n",
    "    # format datetime으로 변경\n",
    "    data['날짜'] = data['날짜'].apply(lambda x : parse(x[:4] + x[6:8] + x[10:12]))\n",
    "    # 20110101-20191231 인덱스 설정\n",
    "    data = pd.merge(dt_index, data, how = 'left', left_on='date', right_on='날짜').set_index('date')\n",
    "    print('전처리 전 null 갯수 : {}'.format(data['종가'].isnull().sum()))\n",
    "    # type 변경 str -> float\n",
    "    data['종가'] = data['종가'].apply(lambda x : x if x is np.nan else float(x.replace(',','')))\n",
    "    data['오픈'] = data['오픈'].apply(lambda x : x if x is np.nan else float(x.replace(',','')))\n",
    "    \n",
    "    # 주말 Null값 채우기\n",
    "        \n",
    "    # 일요일 : 월요일 오픈 가격으로 대체\n",
    "    data['Fill_value'] = data.shift(-1)['오픈']\n",
    "    data['종가'] = data[['종가', 'Fill_value']].apply(lambda x : x['Fill_value'] if math.isnan(x['종가']) else x['종가'], axis = 1)\n",
    "    print('전처리 후 null 갯수 : {}'.format(data['종가'].isnull().sum()))\n",
    "    \n",
    "    # 토요일 : 금요일 종가 + random value\n",
    "    random_value = 3\n",
    "    data['Fill_value'] = data.shift(1)['종가']\n",
    "    data['종가'] = data[['종가', 'Fill_value']].apply(lambda x : x['Fill_value'] + uniform(-random_value, random_value) if math.isnan(x['종가']) else x['종가'], axis = 1)\n",
    "\n",
    "    data.drop(['날짜', '오픈', '고가', '저가', '변동 %', 'Fill_value'], axis = 1, inplace = True)    \n",
    "                      \n",
    "    print('전처리 후 null 갯수 : {}'.format(data['종가'].isnull().sum()))\n",
    "    \n",
    "    print('end')\n",
    "    return data"
   ]
  },
  {
   "cell_type": "code",
   "execution_count": 413,
   "metadata": {},
   "outputs": [
    {
     "name": "stdout",
     "output_type": "stream",
     "text": [
      "감자 가격 전처리\n",
      "======= data loading start ===========\n",
      "3574개의 데이터 로딩\n",
      "     name     now  before        date\n",
      "0  감자(수미)  31,911  31,948  2011-01-03\n",
      "1  감자(수미)  33,334  31,911  2011-01-04\n",
      "2  감자(수미)  33,502  33,334  2011-01-05\n",
      "======= data loading finish ===========\n",
      "\n",
      "======= data processing start ===========\n",
      "(3574, 4)\n",
      "                now\n",
      "date               \n",
      "2011-01-02  31948.0\n",
      "2011-01-03  31911.0\n",
      "2011-01-04  33334.0\n",
      "2011-01-05  33502.0\n",
      "2011-01-06  32851.0\n",
      "0\n",
      "(3286, 1)\n",
      "======= data processing finish ===========\n",
      "\n",
      "환율 전처리\n",
      "start\n",
      "전처리 전 null 갯수 : 939\n",
      "전처리 후 null 갯수 : 469\n",
      "전처리 후 null 갯수 : 0\n",
      "end\n"
     ]
    }
   ],
   "source": [
    "if __name__ == \"__main__\":\n",
    "    print('감자 가격 전처리')\n",
    "    potato_price = load_potato_price()\n",
    "    potato_price= potato_price_processing(potato_price)\n",
    "    \n",
    "    print('환율 전처리')\n",
    "    Exchange_Rate = processing_Exchange_Rate(pd.read_csv('USD_KRW.csv'))\n",
    "    Exchange_Rate.head(5)"
   ]
  },
  {
   "cell_type": "code",
   "execution_count": 414,
   "metadata": {},
   "outputs": [
    {
     "data": {
      "text/html": [
       "<div>\n",
       "<style scoped>\n",
       "    .dataframe tbody tr th:only-of-type {\n",
       "        vertical-align: middle;\n",
       "    }\n",
       "\n",
       "    .dataframe tbody tr th {\n",
       "        vertical-align: top;\n",
       "    }\n",
       "\n",
       "    .dataframe thead th {\n",
       "        text-align: right;\n",
       "    }\n",
       "</style>\n",
       "<table border=\"1\" class=\"dataframe\">\n",
       "  <thead>\n",
       "    <tr style=\"text-align: right;\">\n",
       "      <th></th>\n",
       "      <th>now</th>\n",
       "      <th>종가</th>\n",
       "    </tr>\n",
       "  </thead>\n",
       "  <tbody>\n",
       "    <tr>\n",
       "      <th>now</th>\n",
       "      <td>1.00000</td>\n",
       "      <td>-0.08084</td>\n",
       "    </tr>\n",
       "    <tr>\n",
       "      <th>종가</th>\n",
       "      <td>-0.08084</td>\n",
       "      <td>1.00000</td>\n",
       "    </tr>\n",
       "  </tbody>\n",
       "</table>\n",
       "</div>"
      ],
      "text/plain": [
       "         now       종가\n",
       "now  1.00000 -0.08084\n",
       "종가  -0.08084  1.00000"
      ]
     },
     "execution_count": 414,
     "metadata": {},
     "output_type": "execute_result"
    }
   ],
   "source": [
    "pd.merge(potato_price, Exchange_Rate, on = 'date').corr()"
   ]
  },
  {
   "cell_type": "code",
   "execution_count": 415,
   "metadata": {},
   "outputs": [
    {
     "data": {
      "text/plain": [
       "<matplotlib.axes._subplots.AxesSubplot at 0x2005971b518>"
      ]
     },
     "execution_count": 415,
     "metadata": {},
     "output_type": "execute_result"
    },
    {
     "data": {
      "image/png": "[encoded data removed]",
      "text/plain": [
       "<Figure size 432x288 with 1 Axes>"
      ]
     },
     "metadata": {},
     "output_type": "display_data"
    }
   ],
   "source": [
    "potato_price.plot()"
   ]
  },
  {
   "cell_type": "code",
   "execution_count": 416,
   "metadata": {},
   "outputs": [
    {
     "data": {
      "text/plain": [
       "<matplotlib.axes._subplots.AxesSubplot at 0x200596f3b70>"
      ]
     },
     "execution_count": 416,
     "metadata": {},
     "output_type": "execute_result"
    },
    {
     "data": {
      "image/png": "[encoded data removed]",
      "text/plain": [
       "<Figure size 432x288 with 1 Axes>"
      ]
     },
     "metadata": {},
     "output_type": "display_data"
    }
   ],
   "source": [
    "Exchange_Rate.plot()"
   ]
  }
 ],
 "metadata": {
  "kernelspec": {
   "display_name": "Python 3",
   "language": "python",
   "name": "python3"
  },
  "language_info": {
   "codemirror_mode": {
    "name": "ipython",
    "version": 3
   },
   "file_extension": ".py",
   "mimetype": "text/x-python",
   "name": "python",
   "nbconvert_exporter": "python",
   "pygments_lexer": "ipython3",
   "version": "3.6.10"
  }
 },
 "nbformat": 4,
 "nbformat_minor": 4
}
