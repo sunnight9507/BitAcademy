{
 "cells": [
  {
   "cell_type": "code",
   "execution_count": 66,
   "metadata": {},
   "outputs": [
    {
     "name": "stdout",
     "output_type": "stream",
     "text": [
      "0.17.0\n"
     ]
    },
    {
     "data": {
      "text/html": [
       "        <script type=\"text/javascript\">\n",
       "        window.PlotlyConfig = {MathJaxConfig: 'local'};\n",
       "        if (window.MathJax) {MathJax.Hub.Config({SVG: {font: \"STIX-Web\"}});}\n",
       "        if (typeof require !== 'undefined') {\n",
       "        require.undef(\"plotly\");\n",
       "        requirejs.config({\n",
       "            paths: {\n",
       "                'plotly': ['https://cdn.plot.ly/plotly-latest.min']\n",
       "            }\n",
       "        });\n",
       "        require(['plotly'], function(Plotly) {\n",
       "            window._Plotly = Plotly;\n",
       "        });\n",
       "        }\n",
       "        </script>\n",
       "        "
      ]
     },
     "metadata": {},
     "output_type": "display_data"
    }
   ],
   "source": [
    "import plotly as py\n",
    "import cufflinks as cf\n",
    "import pandas as pd\n",
    "import numpy as np\n",
    "import seaborn as sns\n",
    "import matplotlib.pyplot as plt\n",
    "import warnings\n",
    "import datetime as dt\n",
    "import math\n",
    "from random import *\n",
    "from dateutil.parser import parse\n",
    "warnings.filterwarnings(\"ignore\")\n",
    "\n",
    "plt.style.use('ggplot')\n",
    "print(cf.__version__)\n",
    "\n",
    "# %config InlineBackend.figure_format = 'retina'\n",
    "cf.go_offline()"
   ]
  },
  {
   "cell_type": "code",
   "execution_count": 82,
   "metadata": {},
   "outputs": [],
   "source": [
    "dt_index = pd.DataFrame(pd.date_range(start='20100101', end='20191231')).rename(columns = {0 : 'date'})\n",
    "\n",
    "def processing_Exchange_Rate(data):\n",
    "    print('start')\n",
    "    # 20100101부터 정렬\n",
    "    data = data[::-1]\n",
    "    # format datetime으로 변경\n",
    "    data['날짜'] = data['날짜'].apply(lambda x : parse(x[:4] + x[6:8] + x[10:12]))\n",
    "    # 20100101-20191231 인덱스 설정\n",
    "    data = pd.merge(dt_index, data, how = 'left', left_on='date', right_on='날짜').set_index('date')\n",
    "    print('전처리 전 null 갯수 : {}'.format(data['종가'].isnull().sum()))\n",
    "    # type 변경 str -> float\n",
    "    data['종가'] = data['종가'].apply(lambda x : x if x is np.nan else float(x.replace(',','')))\n",
    "    data['오픈'] = data['오픈'].apply(lambda x : x if x is np.nan else float(x.replace(',','')))\n",
    "    \n",
    "    # 주말 Null값 채우기\n",
    "    # 일요일 : 월요일 오픈 가격으로 대체\n",
    "    data['Fill_value'] = data.shift(-1)['오픈']\n",
    "    data['종가'] = data[['종가', 'Fill_value']].apply(lambda x : x['Fill_value'] if math.isnan(x['종가']) else x, axis = 1)\n",
    "    print('전처리 후 null 갯수 : {}'.format(data['종가'].isnull().sum()))\n",
    "    # 토요일 : 금요일 종가 + random value\n",
    "    random_value = 3\n",
    "    data['Fill_value'] = data.shift(1)['종가']\n",
    "    data['종가'] = data[['종가', 'Fill_value']].apply(lambda x : x['Fill_value'] + uniform(-random_value, random_value) if math.isnan(x['종가']) else x, axis = 1)\n",
    "\n",
    "    data.drop(['날짜', '오픈', '고가', '저가', '변동 %', 'Fill_value'], axis = 1, inplace = True)    \n",
    "                      \n",
    "    print('전처리 후 null 갯수 : {}'.format(data['종가'].isnull().sum()))\n",
    "    \n",
    "    print('end')\n",
    "    return data"
   ]
  },
  {
   "cell_type": "code",
   "execution_count": 83,
   "metadata": {},
   "outputs": [
    {
     "name": "stdout",
     "output_type": "stream",
     "text": [
      "start\n",
      "전처리 전 null 갯수 : 1044\n",
      "전처리 후 null 갯수 : 522\n",
      "전처리 후 null 갯수 : 0\n",
      "end\n"
     ]
    },
    {
     "data": {
      "text/html": [
       "<div>\n",
       "<style scoped>\n",
       "    .dataframe tbody tr th:only-of-type {\n",
       "        vertical-align: middle;\n",
       "    }\n",
       "\n",
       "    .dataframe tbody tr th {\n",
       "        vertical-align: top;\n",
       "    }\n",
       "\n",
       "    .dataframe thead th {\n",
       "        text-align: right;\n",
       "    }\n",
       "</style>\n",
       "<table border=\"1\" class=\"dataframe\">\n",
       "  <thead>\n",
       "    <tr style=\"text-align: right;\">\n",
       "      <th></th>\n",
       "      <th>종가</th>\n",
       "    </tr>\n",
       "    <tr>\n",
       "      <th>date</th>\n",
       "      <th></th>\n",
       "    </tr>\n",
       "  </thead>\n",
       "  <tbody>\n",
       "    <tr>\n",
       "      <th>2010-01-01</th>\n",
       "      <td>1166.080000</td>\n",
       "    </tr>\n",
       "    <tr>\n",
       "      <th>2010-01-02</th>\n",
       "      <td>1163.278731</td>\n",
       "    </tr>\n",
       "    <tr>\n",
       "      <th>2010-01-03</th>\n",
       "      <td>1164.070000</td>\n",
       "    </tr>\n",
       "    <tr>\n",
       "      <th>2010-01-04</th>\n",
       "      <td>1150.000000</td>\n",
       "    </tr>\n",
       "    <tr>\n",
       "      <th>2010-01-05</th>\n",
       "      <td>1140.200000</td>\n",
       "    </tr>\n",
       "  </tbody>\n",
       "</table>\n",
       "</div>"
      ],
      "text/plain": [
       "                     종가\n",
       "date                   \n",
       "2010-01-01  1166.080000\n",
       "2010-01-02  1163.278731\n",
       "2010-01-03  1164.070000\n",
       "2010-01-04  1150.000000\n",
       "2010-01-05  1140.200000"
      ]
     },
     "execution_count": 83,
     "metadata": {},
     "output_type": "execute_result"
    }
   ],
   "source": [
    "Exchange_Rate = processing_Exchange_Rate(pd.read_csv('USD_KRW.csv'))\n",
    "Exchange_Rate.head(5)"
   ]
  }
 ],
 "metadata": {
  "kernelspec": {
   "display_name": "Python 3",
   "language": "python",
   "name": "python3"
  },
  "language_info": {
   "codemirror_mode": {
    "name": "ipython",
    "version": 3
   },
   "file_extension": ".py",
   "mimetype": "text/x-python",
   "name": "python",
   "nbconvert_exporter": "python",
   "pygments_lexer": "ipython3",
   "version": "3.7.3"
  }
 },
 "nbformat": 4,
 "nbformat_minor": 2
}
