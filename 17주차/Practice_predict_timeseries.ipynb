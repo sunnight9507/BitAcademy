{
  "nbformat": 4,
  "nbformat_minor": 0,
  "metadata": {
    "colab": {
      "name": "Practice_predict_timeseries",
      "provenance": [],
      "collapsed_sections": []
    },
    "kernelspec": {
      "name": "python3",
      "display_name": "Python 3"
    },
    "accelerator": "GPU"
  },
  "cells": [
    {
      "cell_type": "code",
      "metadata": {
        "id": "yZrhd98xUc62",
        "colab_type": "code",
        "outputId": "d96939de-dc42-4475-e117-71b1d85afbfe",
        "colab": {
          "base_uri": "https://localhost:8080/",
          "height": 35
        }
      },
      "source": [
        "#필요 라이브러리 임포트\n",
        "from IPython.display import display\n",
        "import numpy as np\n",
        "import matplotlib.pyplot as plt\n",
        "import pandas as pd\n",
        "from sklearn.model_selection import train_test_split\n",
        "import warnings\n",
        "warnings.filterwarnings(action='ignore')\n",
        "plt.rcParams['axes.unicode_minus'] = False\n",
        "from sklearn.preprocessing import minmax_scale\n",
        "from sklearn.preprocessing import LabelEncoder\n",
        "from sklearn.model_selection import KFold\n",
        "from sklearn.preprocessing import OneHotEncoder\n",
        "import seaborn as sns\n",
        "import lightgbm as lgb\n",
        "from sklearn.model_selection import cross_val_score\n",
        "\n",
        "# 구글 드라이버 이용\n",
        "from google.colab import drive\n",
        "\n",
        "drive.mount('/content/gdrive')"
      ],
      "execution_count": 206,
      "outputs": [
        {
          "output_type": "stream",
          "text": [
            "Drive already mounted at /content/gdrive; to attempt to forcibly remount, call drive.mount(\"/content/gdrive\", force_remount=True).\n"
          ],
          "name": "stdout"
        }
      ]
    },
    {
      "cell_type": "code",
      "metadata": {
        "id": "n_iDU7x-9jpP",
        "colab_type": "code",
        "colab": {}
      },
      "source": [
        "%matplotlib inline\n",
        "import datetime as dt\n",
        "import matplotlib.pyplot as plt\n",
        "import tensorflow as tf\n",
        "import numpy as np\n",
        "import pandas as pd\n",
        "import os\n",
        "from sklearn.preprocessing import MinMaxScaler\n",
        "from datetime import timedelta\n",
        "from dateutil.parser import parse\n",
        "\n",
        "from tensorflow.keras.models import Sequential\n",
        "from tensorflow.keras.layers import Input, Dense, GRU, Embedding\n",
        "from tensorflow.keras.optimizers import RMSprop\n",
        "from tensorflow.keras.callbacks import EarlyStopping, ModelCheckpoint, TensorBoard, ReduceLROnPlateau\n",
        "from tensorflow.keras.backend import square, mean"
      ],
      "execution_count": 0,
      "outputs": []
    },
    {
      "cell_type": "code",
      "metadata": {
        "id": "gp9YiA0GGgZv",
        "colab_type": "code",
        "outputId": "eea8fb53-863c-4246-9ec3-c1d32e9d6ed9",
        "colab": {
          "base_uri": "https://localhost:8080/",
          "height": 71
        }
      },
      "source": [
        "print(tf.__version__)\n",
        "\n",
        "print(tf.keras.__version__)\n",
        "\n",
        "print(pd.__version__)"
      ],
      "execution_count": 208,
      "outputs": [
        {
          "output_type": "stream",
          "text": [
            "2.2.0-rc4\n",
            "2.3.0-tf\n",
            "1.0.3\n"
          ],
          "name": "stdout"
        }
      ]
    },
    {
      "cell_type": "code",
      "metadata": {
        "id": "omcLWVrg9-Ei",
        "colab_type": "code",
        "outputId": "23494b48-15ed-493d-8a43-e0fc604fffe4",
        "colab": {
          "base_uri": "https://localhost:8080/",
          "height": 265
        }
      },
      "source": [
        "# 파일 불러오기 예시\n",
        "# pd.read_csv('/content/gdrive/My Drive/Colab Notebooks/train.csv')\n",
        "\n",
        "# 4319\n",
        "data = pd.read_csv('/content/gdrive/My Drive/Colab Notebooks/result.csv', encoding='cp949').set_index('date')\n",
        "print(data.shape)\n",
        "data.head(2)"
      ],
      "execution_count": 354,
      "outputs": [
        {
          "output_type": "stream",
          "text": [
            "(1501, 27)\n"
          ],
          "name": "stdout"
        },
        {
          "output_type": "execute_result",
          "data": {
            "text/html": [
              "<div>\n",
              "<style scoped>\n",
              "    .dataframe tbody tr th:only-of-type {\n",
              "        vertical-align: middle;\n",
              "    }\n",
              "\n",
              "    .dataframe tbody tr th {\n",
              "        vertical-align: top;\n",
              "    }\n",
              "\n",
              "    .dataframe thead th {\n",
              "        text-align: right;\n",
              "    }\n",
              "</style>\n",
              "<table border=\"1\" class=\"dataframe\">\n",
              "  <thead>\n",
              "    <tr style=\"text-align: right;\">\n",
              "      <th></th>\n",
              "      <th>stock_Asia</th>\n",
              "      <th>stock_Jobi</th>\n",
              "      <th>stock_Hyosung</th>\n",
              "      <th>stock_Farming</th>\n",
              "      <th>stock_Namhae_Chemical</th>\n",
              "      <th>stock_KGChemical</th>\n",
              "      <th>stock_Nongwoo_Bio</th>\n",
              "      <th>stock_Sungbo_Chemical</th>\n",
              "      <th>stock_Asia_Tech</th>\n",
              "      <th>stock_Eastern_Agro</th>\n",
              "      <th>stock_KPX</th>\n",
              "      <th>potato_price</th>\n",
              "      <th>tomato</th>\n",
              "      <th>green_pepper</th>\n",
              "      <th>red_pepper</th>\n",
              "      <th>cabbage</th>\n",
              "      <th>cabbage1</th>\n",
              "      <th>onion</th>\n",
              "      <th>carrot</th>\n",
              "      <th>green_onion</th>\n",
              "      <th>cucumber</th>\n",
              "      <th>Exchange_Rate</th>\n",
              "      <th>KOSPI</th>\n",
              "      <th>Dubai</th>\n",
              "      <th>Brent</th>\n",
              "      <th>WTI</th>\n",
              "      <th>시장금리</th>\n",
              "    </tr>\n",
              "    <tr>\n",
              "      <th>date</th>\n",
              "      <th></th>\n",
              "      <th></th>\n",
              "      <th></th>\n",
              "      <th></th>\n",
              "      <th></th>\n",
              "      <th></th>\n",
              "      <th></th>\n",
              "      <th></th>\n",
              "      <th></th>\n",
              "      <th></th>\n",
              "      <th></th>\n",
              "      <th></th>\n",
              "      <th></th>\n",
              "      <th></th>\n",
              "      <th></th>\n",
              "      <th></th>\n",
              "      <th></th>\n",
              "      <th></th>\n",
              "      <th></th>\n",
              "      <th></th>\n",
              "      <th></th>\n",
              "      <th></th>\n",
              "      <th></th>\n",
              "      <th></th>\n",
              "      <th></th>\n",
              "      <th></th>\n",
              "      <th></th>\n",
              "    </tr>\n",
              "  </thead>\n",
              "  <tbody>\n",
              "    <tr>\n",
              "      <th>2014-08-01</th>\n",
              "      <td>3300.0</td>\n",
              "      <td>12000.0</td>\n",
              "      <td>17300.0</td>\n",
              "      <td>5780.0</td>\n",
              "      <td>9260.0</td>\n",
              "      <td>13700.0</td>\n",
              "      <td>20650.0</td>\n",
              "      <td>42350.0</td>\n",
              "      <td>3455.0</td>\n",
              "      <td>6380.0</td>\n",
              "      <td>3020.0</td>\n",
              "      <td>18593.0</td>\n",
              "      <td>8158.0</td>\n",
              "      <td>24381.0</td>\n",
              "      <td>28722.0</td>\n",
              "      <td>5388.0</td>\n",
              "      <td>5534.0</td>\n",
              "      <td>593.0</td>\n",
              "      <td>39369.0</td>\n",
              "      <td>1156.0</td>\n",
              "      <td>62722.0</td>\n",
              "      <td>1037.75</td>\n",
              "      <td>2073.10</td>\n",
              "      <td>677.23</td>\n",
              "      <td>676.71</td>\n",
              "      <td>631.78</td>\n",
              "      <td>2.48</td>\n",
              "    </tr>\n",
              "    <tr>\n",
              "      <th>2014-08-04</th>\n",
              "      <td>3300.0</td>\n",
              "      <td>12000.0</td>\n",
              "      <td>17350.0</td>\n",
              "      <td>5900.0</td>\n",
              "      <td>9280.0</td>\n",
              "      <td>13700.0</td>\n",
              "      <td>21100.0</td>\n",
              "      <td>43050.0</td>\n",
              "      <td>3465.0</td>\n",
              "      <td>6370.0</td>\n",
              "      <td>3050.0</td>\n",
              "      <td>20535.0</td>\n",
              "      <td>7925.0</td>\n",
              "      <td>32983.0</td>\n",
              "      <td>41805.0</td>\n",
              "      <td>9059.0</td>\n",
              "      <td>4286.0</td>\n",
              "      <td>600.0</td>\n",
              "      <td>41218.0</td>\n",
              "      <td>1510.0</td>\n",
              "      <td>43128.0</td>\n",
              "      <td>1033.35</td>\n",
              "      <td>2080.42</td>\n",
              "      <td>670.67</td>\n",
              "      <td>685.36</td>\n",
              "      <td>639.07</td>\n",
              "      <td>2.48</td>\n",
              "    </tr>\n",
              "  </tbody>\n",
              "</table>\n",
              "</div>"
            ],
            "text/plain": [
              "            stock_Asia  stock_Jobi  stock_Hyosung  ...   Brent     WTI  시장금리\n",
              "date                                               ...                      \n",
              "2014-08-01      3300.0     12000.0        17300.0  ...  676.71  631.78  2.48\n",
              "2014-08-04      3300.0     12000.0        17350.0  ...  685.36  639.07  2.48\n",
              "\n",
              "[2 rows x 27 columns]"
            ]
          },
          "metadata": {
            "tags": []
          },
          "execution_count": 354
        }
      ]
    },
    {
      "cell_type": "code",
      "metadata": {
        "id": "_Ne9OEtvQdrg",
        "colab_type": "code",
        "colab": {}
      },
      "source": [
        "data.loc[str(parse(data.index[-1]).date() + timedelta(days=1))] = [np.nan for _ in range(data.shape[1])]"
      ],
      "execution_count": 0,
      "outputs": []
    },
    {
      "cell_type": "code",
      "metadata": {
        "id": "d84giyFSRJDT",
        "colab_type": "code",
        "outputId": "707c7436-3791-4578-f098-cc1812529788",
        "colab": {
          "base_uri": "https://localhost:8080/",
          "height": 247
        }
      },
      "source": [
        "data.tail(2)"
      ],
      "execution_count": 357,
      "outputs": [
        {
          "output_type": "execute_result",
          "data": {
            "text/html": [
              "<div>\n",
              "<style scoped>\n",
              "    .dataframe tbody tr th:only-of-type {\n",
              "        vertical-align: middle;\n",
              "    }\n",
              "\n",
              "    .dataframe tbody tr th {\n",
              "        vertical-align: top;\n",
              "    }\n",
              "\n",
              "    .dataframe thead th {\n",
              "        text-align: right;\n",
              "    }\n",
              "</style>\n",
              "<table border=\"1\" class=\"dataframe\">\n",
              "  <thead>\n",
              "    <tr style=\"text-align: right;\">\n",
              "      <th></th>\n",
              "      <th>stock_Asia</th>\n",
              "      <th>stock_Jobi</th>\n",
              "      <th>stock_Hyosung</th>\n",
              "      <th>stock_Farming</th>\n",
              "      <th>stock_Namhae_Chemical</th>\n",
              "      <th>stock_KGChemical</th>\n",
              "      <th>stock_Nongwoo_Bio</th>\n",
              "      <th>stock_Sungbo_Chemical</th>\n",
              "      <th>stock_Asia_Tech</th>\n",
              "      <th>stock_Eastern_Agro</th>\n",
              "      <th>stock_KPX</th>\n",
              "      <th>potato_price</th>\n",
              "      <th>tomato</th>\n",
              "      <th>green_pepper</th>\n",
              "      <th>red_pepper</th>\n",
              "      <th>cabbage</th>\n",
              "      <th>cabbage1</th>\n",
              "      <th>onion</th>\n",
              "      <th>carrot</th>\n",
              "      <th>green_onion</th>\n",
              "      <th>cucumber</th>\n",
              "      <th>Exchange_Rate</th>\n",
              "      <th>KOSPI</th>\n",
              "      <th>Dubai</th>\n",
              "      <th>Brent</th>\n",
              "      <th>WTI</th>\n",
              "      <th>시장금리</th>\n",
              "    </tr>\n",
              "    <tr>\n",
              "      <th>date</th>\n",
              "      <th></th>\n",
              "      <th></th>\n",
              "      <th></th>\n",
              "      <th></th>\n",
              "      <th></th>\n",
              "      <th></th>\n",
              "      <th></th>\n",
              "      <th></th>\n",
              "      <th></th>\n",
              "      <th></th>\n",
              "      <th></th>\n",
              "      <th></th>\n",
              "      <th></th>\n",
              "      <th></th>\n",
              "      <th></th>\n",
              "      <th></th>\n",
              "      <th></th>\n",
              "      <th></th>\n",
              "      <th></th>\n",
              "      <th></th>\n",
              "      <th></th>\n",
              "      <th></th>\n",
              "      <th></th>\n",
              "      <th></th>\n",
              "      <th></th>\n",
              "      <th></th>\n",
              "      <th></th>\n",
              "    </tr>\n",
              "  </thead>\n",
              "  <tbody>\n",
              "    <tr>\n",
              "      <th>2020-03-31</th>\n",
              "      <td>3750.0</td>\n",
              "      <td>12350.0</td>\n",
              "      <td>5400.0</td>\n",
              "      <td>9580.0</td>\n",
              "      <td>6990.0</td>\n",
              "      <td>10850.0</td>\n",
              "      <td>8800.0</td>\n",
              "      <td>3300.0</td>\n",
              "      <td>3590.0</td>\n",
              "      <td>5400.0</td>\n",
              "      <td>5300.0</td>\n",
              "      <td>53052.0</td>\n",
              "      <td>17980.0</td>\n",
              "      <td>35960.0</td>\n",
              "      <td>44016.0</td>\n",
              "      <td>7887.0</td>\n",
              "      <td>12311.0</td>\n",
              "      <td>1279.0</td>\n",
              "      <td>68390.0</td>\n",
              "      <td>844.0</td>\n",
              "      <td>43002.0</td>\n",
              "      <td>1218.8</td>\n",
              "      <td>1754.64</td>\n",
              "      <td>180.17</td>\n",
              "      <td>174.87</td>\n",
              "      <td>157.49</td>\n",
              "      <td>0.8</td>\n",
              "    </tr>\n",
              "    <tr>\n",
              "      <th>2020-04-01</th>\n",
              "      <td>NaN</td>\n",
              "      <td>NaN</td>\n",
              "      <td>NaN</td>\n",
              "      <td>NaN</td>\n",
              "      <td>NaN</td>\n",
              "      <td>NaN</td>\n",
              "      <td>NaN</td>\n",
              "      <td>NaN</td>\n",
              "      <td>NaN</td>\n",
              "      <td>NaN</td>\n",
              "      <td>NaN</td>\n",
              "      <td>NaN</td>\n",
              "      <td>NaN</td>\n",
              "      <td>NaN</td>\n",
              "      <td>NaN</td>\n",
              "      <td>NaN</td>\n",
              "      <td>NaN</td>\n",
              "      <td>NaN</td>\n",
              "      <td>NaN</td>\n",
              "      <td>NaN</td>\n",
              "      <td>NaN</td>\n",
              "      <td>NaN</td>\n",
              "      <td>NaN</td>\n",
              "      <td>NaN</td>\n",
              "      <td>NaN</td>\n",
              "      <td>NaN</td>\n",
              "      <td>NaN</td>\n",
              "    </tr>\n",
              "  </tbody>\n",
              "</table>\n",
              "</div>"
            ],
            "text/plain": [
              "            stock_Asia  stock_Jobi  stock_Hyosung  ...   Brent     WTI  시장금리\n",
              "date                                               ...                      \n",
              "2020-03-31      3750.0     12350.0         5400.0  ...  174.87  157.49   0.8\n",
              "2020-04-01         NaN         NaN            NaN  ...     NaN     NaN   NaN\n",
              "\n",
              "[2 rows x 27 columns]"
            ]
          },
          "metadata": {
            "tags": []
          },
          "execution_count": 357
        }
      ]
    },
    {
      "cell_type": "code",
      "metadata": {
        "id": "ZnkkHDvbWo1V",
        "colab_type": "code",
        "outputId": "301ebaa1-51bd-49f3-8376-4796282bcab8",
        "colab": {
          "base_uri": "https://localhost:8080/",
          "height": 173
        }
      },
      "source": [
        "target_names = ['stock_Asia','potato_price']\n",
        "#df = data[]\n",
        "shift_steps = 1\n",
        "\n",
        "df = data[target_names].shift(1)\n",
        "\n",
        "df.tail(3)"
      ],
      "execution_count": 361,
      "outputs": [
        {
          "output_type": "execute_result",
          "data": {
            "text/html": [
              "<div>\n",
              "<style scoped>\n",
              "    .dataframe tbody tr th:only-of-type {\n",
              "        vertical-align: middle;\n",
              "    }\n",
              "\n",
              "    .dataframe tbody tr th {\n",
              "        vertical-align: top;\n",
              "    }\n",
              "\n",
              "    .dataframe thead th {\n",
              "        text-align: right;\n",
              "    }\n",
              "</style>\n",
              "<table border=\"1\" class=\"dataframe\">\n",
              "  <thead>\n",
              "    <tr style=\"text-align: right;\">\n",
              "      <th></th>\n",
              "      <th>stock_Asia</th>\n",
              "      <th>potato_price</th>\n",
              "    </tr>\n",
              "    <tr>\n",
              "      <th>date</th>\n",
              "      <th></th>\n",
              "      <th></th>\n",
              "    </tr>\n",
              "  </thead>\n",
              "  <tbody>\n",
              "    <tr>\n",
              "      <th>2020-03-30</th>\n",
              "      <td>2885.0</td>\n",
              "      <td>40648.0</td>\n",
              "    </tr>\n",
              "    <tr>\n",
              "      <th>2020-03-31</th>\n",
              "      <td>2885.0</td>\n",
              "      <td>40346.0</td>\n",
              "    </tr>\n",
              "    <tr>\n",
              "      <th>2020-04-01</th>\n",
              "      <td>3750.0</td>\n",
              "      <td>53052.0</td>\n",
              "    </tr>\n",
              "  </tbody>\n",
              "</table>\n",
              "</div>"
            ],
            "text/plain": [
              "            stock_Asia  potato_price\n",
              "date                                \n",
              "2020-03-30      2885.0       40648.0\n",
              "2020-03-31      2885.0       40346.0\n",
              "2020-04-01      3750.0       53052.0"
            ]
          },
          "metadata": {
            "tags": []
          },
          "execution_count": 361
        }
      ]
    },
    {
      "cell_type": "code",
      "metadata": {
        "id": "iScDFzA_WWuX",
        "colab_type": "code",
        "outputId": "73b3a765-b1ac-4e8b-baa3-c68404b2cf6f",
        "colab": {
          "base_uri": "https://localhost:8080/",
          "height": 107
        }
      },
      "source": [
        "df_targets = df['stock_Asia'].shift(-shift_steps)\n",
        "# df_targets = df.shift(-shift_steps)\n",
        "\n",
        "df_targets.tail(3)"
      ],
      "execution_count": 363,
      "outputs": [
        {
          "output_type": "execute_result",
          "data": {
            "text/plain": [
              "date\n",
              "2020-03-30    2885.0\n",
              "2020-03-31    3750.0\n",
              "2020-04-01       NaN\n",
              "Name: stock_Asia, dtype: float64"
            ]
          },
          "metadata": {
            "tags": []
          },
          "execution_count": 363
        }
      ]
    },
    {
      "cell_type": "code",
      "metadata": {
        "id": "E_Wj265dWfBj",
        "colab_type": "code",
        "outputId": "1426fab5-bd8a-4571-94e3-4b5374ea964a",
        "colab": {
          "base_uri": "https://localhost:8080/",
          "height": 53
        }
      },
      "source": [
        "x_data = df.values[shift_steps:-shift_steps]\n",
        "\n",
        "print(type(x_data))\n",
        "print(\"Shape:\", x_data.shape)"
      ],
      "execution_count": 364,
      "outputs": [
        {
          "output_type": "stream",
          "text": [
            "<class 'numpy.ndarray'>\n",
            "Shape: (1500, 2)\n"
          ],
          "name": "stdout"
        }
      ]
    },
    {
      "cell_type": "code",
      "metadata": {
        "id": "zbJxICySmOM5",
        "colab_type": "code",
        "outputId": "ae2fdc5d-dfd4-4345-a4ba-989e4da25c4f",
        "colab": {
          "base_uri": "https://localhost:8080/",
          "height": 53
        }
      },
      "source": [
        "y_data = df_targets.values[shift_steps:-shift_steps].reshape(-1,1)\n",
        "\n",
        "print(type(y_data))\n",
        "print(\"Shape:\", y_data.shape)"
      ],
      "execution_count": 366,
      "outputs": [
        {
          "output_type": "stream",
          "text": [
            "<class 'numpy.ndarray'>\n",
            "Shape: (1500, 1)\n"
          ],
          "name": "stdout"
        }
      ]
    },
    {
      "cell_type": "code",
      "metadata": {
        "id": "k7ydy2gimdQR",
        "colab_type": "code",
        "colab": {
          "base_uri": "https://localhost:8080/",
          "height": 107
        },
        "outputId": "4571323c-925e-43a1-80bd-ae163689f318"
      },
      "source": [
        "num_data = len(x_data)\n",
        "print(num_data)\n",
        "train_split = 0.9\n",
        "\n",
        "num_train = int(train_split * num_data)\n",
        "print(num_train)\n",
        "\n",
        "num_test = num_data - num_train\n",
        "print(num_test)\n",
        "\n",
        "x_train = x_data[0:num_train]\n",
        "x_test = x_data[num_train:]\n",
        "print(len(x_train) + len(x_test))\n",
        "\n",
        "y_train = y_data[0:num_train]\n",
        "y_test = y_data[num_train:]\n",
        "print(len(y_train) + len(y_test))"
      ],
      "execution_count": 375,
      "outputs": [
        {
          "output_type": "stream",
          "text": [
            "1500\n",
            "1350\n",
            "150\n",
            "1500\n",
            "1500\n"
          ],
          "name": "stdout"
        }
      ]
    },
    {
      "cell_type": "code",
      "metadata": {
        "id": "c6QAwY0Amsb7",
        "colab_type": "code",
        "outputId": "0b4f58e4-f089-43bf-ff4e-144d9e9e7c1b",
        "colab": {
          "base_uri": "https://localhost:8080/",
          "height": 35
        }
      },
      "source": [
        "# input 갯수\n",
        "num_x_signals = x_data.shape[1]\n",
        "# output 갯수\n",
        "num_y_signals = y_data.shape[1]\n",
        "\n",
        "num_x_signals, num_y_signals"
      ],
      "execution_count": 376,
      "outputs": [
        {
          "output_type": "execute_result",
          "data": {
            "text/plain": [
              "(2, 1)"
            ]
          },
          "metadata": {
            "tags": []
          },
          "execution_count": 376
        }
      ]
    },
    {
      "cell_type": "code",
      "metadata": {
        "id": "H1abwULdm-tF",
        "colab_type": "code",
        "colab": {}
      },
      "source": [
        "# Scaled Data\n",
        "x_scaler = MinMaxScaler()\n",
        "\n",
        "x_train_scaled = x_scaler.fit_transform(x_train)\n",
        "x_test_scaled = x_scaler.transform(x_test)\n",
        "\n",
        "y_scaler = MinMaxScaler()\n",
        "y_train_scaled = y_scaler.fit_transform(y_train)\n",
        "y_test_scaled = y_scaler.transform(y_test)\n",
        "# print(\"Min:\", np.min(x_train_scaled))\n",
        "# print(\"Max:\", np.max(x_train_scaled))"
      ],
      "execution_count": 0,
      "outputs": []
    },
    {
      "cell_type": "code",
      "metadata": {
        "id": "7Yf42IubnI9w",
        "colab_type": "code",
        "colab": {}
      },
      "source": [
        "def batch_generator(batch_size, sequence_length):\n",
        "    \"\"\"\n",
        "    Generator function for creating random batches of training-data.\n",
        "    \"\"\"\n",
        "\n",
        "    # Infinite loop.\n",
        "    while True:\n",
        "        # Allocate a new array for the batch of input-signals.\n",
        "        x_shape = (batch_size, sequence_length, num_x_signals)\n",
        "        x_batch = np.zeros(shape=x_shape, dtype=np.float16)\n",
        "\n",
        "        # Allocate a new array for the batch of output-signals.\n",
        "        y_shape = (batch_size, sequence_length, num_y_signals)\n",
        "        y_batch = np.zeros(shape=y_shape, dtype=np.float16)\n",
        "\n",
        "        # Fill the batch with random sequences of data.\n",
        "        for i in range(batch_size):\n",
        "            # Get a random start-index.\n",
        "            # This points somewhere into the training-data.\n",
        "            idx = np.random.randint(num_train - sequence_length)\n",
        "            \n",
        "            # Copy the sequences of data starting at this index.\n",
        "            x_batch[i] = x_train_scaled[idx:idx+sequence_length]\n",
        "            y_batch[i] = y_train_scaled[idx:idx+sequence_length]\n",
        "        \n",
        "        yield (x_batch, y_batch)"
      ],
      "execution_count": 0,
      "outputs": []
    },
    {
      "cell_type": "code",
      "metadata": {
        "id": "6LawG5nZnLd7",
        "colab_type": "code",
        "colab": {}
      },
      "source": [
        "batch_size = 256"
      ],
      "execution_count": 0,
      "outputs": []
    },
    {
      "cell_type": "code",
      "metadata": {
        "id": "9xJ4dBBJnOaK",
        "colab_type": "code",
        "outputId": "3041ef9a-56e9-49fb-f886-0abe86817307",
        "colab": {
          "base_uri": "https://localhost:8080/",
          "height": 35
        }
      },
      "source": [
        "sequence_length = 365\n",
        "sequence_length"
      ],
      "execution_count": 383,
      "outputs": [
        {
          "output_type": "execute_result",
          "data": {
            "text/plain": [
              "365"
            ]
          },
          "metadata": {
            "tags": []
          },
          "execution_count": 383
        }
      ]
    },
    {
      "cell_type": "code",
      "metadata": {
        "id": "P_TiRo_QnePc",
        "colab_type": "code",
        "colab": {}
      },
      "source": [
        "generator = batch_generator(batch_size=batch_size, sequence_length=sequence_length)"
      ],
      "execution_count": 0,
      "outputs": []
    },
    {
      "cell_type": "code",
      "metadata": {
        "id": "8Ff-YQCpngcM",
        "colab_type": "code",
        "colab": {}
      },
      "source": [
        "x_batch, y_batch = next(generator)"
      ],
      "execution_count": 0,
      "outputs": []
    },
    {
      "cell_type": "code",
      "metadata": {
        "id": "M7rICSwpniDl",
        "colab_type": "code",
        "outputId": "1eeb0e22-4db8-4f70-de50-09aaa4311dac",
        "colab": {
          "base_uri": "https://localhost:8080/",
          "height": 53
        }
      },
      "source": [
        "print(x_batch.shape)\n",
        "print(y_batch.shape)"
      ],
      "execution_count": 386,
      "outputs": [
        {
          "output_type": "stream",
          "text": [
            "(256, 365, 2)\n",
            "(256, 365, 1)\n"
          ],
          "name": "stdout"
        }
      ]
    },
    {
      "cell_type": "code",
      "metadata": {
        "id": "v9yhrlHOn_sr",
        "colab_type": "code",
        "colab": {}
      },
      "source": [
        "validation_data = (np.expand_dims(x_test_scaled, axis=0),\n",
        "                   np.expand_dims(y_test_scaled, axis=0))"
      ],
      "execution_count": 0,
      "outputs": []
    },
    {
      "cell_type": "code",
      "metadata": {
        "id": "ftEWjGfMogHG",
        "colab_type": "code",
        "colab": {}
      },
      "source": [
        "model = Sequential()\n",
        "\n",
        "model.add(GRU(units=512,\n",
        "              return_sequences=True,\n",
        "              input_shape=(None, num_x_signals,)))\n",
        "\n",
        "model.add(Dense(num_y_signals, activation='sigmoid'))"
      ],
      "execution_count": 0,
      "outputs": []
    },
    {
      "cell_type": "code",
      "metadata": {
        "id": "iiUwAHWOoh1j",
        "colab_type": "code",
        "colab": {}
      },
      "source": [
        "warmup_steps = 100"
      ],
      "execution_count": 0,
      "outputs": []
    },
    {
      "cell_type": "code",
      "metadata": {
        "id": "Beu_14SOowcU",
        "colab_type": "code",
        "colab": {}
      },
      "source": [
        "def loss_mse_warmup(y_true, y_pred):\n",
        "    \"\"\"\n",
        "    Calculate the Mean Squared Error between y_true and y_pred,\n",
        "    but ignore the beginning \"warmup\" part of the sequences.\n",
        "    \n",
        "    y_true is the desired output.\n",
        "    y_pred is the model's output.\n",
        "    \"\"\"\n",
        "\n",
        "    # The shape of both input tensors are:\n",
        "    # [batch_size, sequence_length, num_y_signals].\n",
        "\n",
        "    # Ignore the \"warmup\" parts of the sequences\n",
        "    # by taking slices of the tensors.\n",
        "    y_true_slice = y_true[:, warmup_steps:, :]\n",
        "    y_pred_slice = y_pred[:, warmup_steps:, :]\n",
        "\n",
        "    # These sliced tensors both have this shape:\n",
        "    # [batch_size, sequence_length - warmup_steps, num_y_signals]\n",
        "\n",
        "    # Calculat the Mean Squared Error and use it as loss.\n",
        "    mse = mean(square(y_true_slice - y_pred_slice))\n",
        "    \n",
        "    return mse"
      ],
      "execution_count": 0,
      "outputs": []
    },
    {
      "cell_type": "code",
      "metadata": {
        "id": "yfcmBrNIo19j",
        "colab_type": "code",
        "outputId": "e3846ba0-662c-4360-9bd5-d519e549331c",
        "colab": {
          "base_uri": "https://localhost:8080/",
          "height": 233
        }
      },
      "source": [
        "optimizer = RMSprop(lr=1e-3)\n",
        "\n",
        "model.compile(loss=loss_mse_warmup, optimizer=optimizer)\n",
        "\n",
        "model.summary()"
      ],
      "execution_count": 391,
      "outputs": [
        {
          "output_type": "stream",
          "text": [
            "Model: \"sequential_5\"\n",
            "_________________________________________________________________\n",
            "Layer (type)                 Output Shape              Param #   \n",
            "=================================================================\n",
            "gru_5 (GRU)                  (None, None, 512)         792576    \n",
            "_________________________________________________________________\n",
            "dense_5 (Dense)              (None, None, 1)           513       \n",
            "=================================================================\n",
            "Total params: 793,089\n",
            "Trainable params: 793,089\n",
            "Non-trainable params: 0\n",
            "_________________________________________________________________\n"
          ],
          "name": "stdout"
        }
      ]
    },
    {
      "cell_type": "code",
      "metadata": {
        "id": "4_i944y7o4zT",
        "colab_type": "code",
        "colab": {}
      },
      "source": [
        "path_checkpoint = '23_checkpoint.keras'\n",
        "callback_checkpoint = ModelCheckpoint(filepath=path_checkpoint,\n",
        "                                      monitor='val_loss',\n",
        "                                      verbose=1,\n",
        "                                      save_weights_only=True,\n",
        "                                      save_best_only=True)\n",
        "\n",
        "callback_early_stopping = EarlyStopping(monitor='val_loss',\n",
        "                                        patience=5, verbose=1)\n",
        "\n",
        "callback_tensorboard = TensorBoard(log_dir='./23_logs/',\n",
        "                                   histogram_freq=0,\n",
        "                                   write_graph=False)\n",
        "\n",
        "callback_reduce_lr = ReduceLROnPlateau(monitor='val_loss',\n",
        "                                       factor=0.1,\n",
        "                                       min_lr=1e-4,\n",
        "                                       patience=0,\n",
        "                                       verbose=1)\n",
        "\n",
        "callbacks = [callback_early_stopping,\n",
        "             callback_checkpoint,\n",
        "             callback_tensorboard,\n",
        "             callback_reduce_lr]"
      ],
      "execution_count": 0,
      "outputs": []
    },
    {
      "cell_type": "code",
      "metadata": {
        "id": "dYEVe2YTpHHT",
        "colab_type": "code",
        "outputId": "0a803738-2948-4792-b50f-c47ae4ec66c5",
        "colab": {
          "base_uri": "https://localhost:8080/",
          "height": 1000
        }
      },
      "source": [
        "%%time\n",
        "model.fit(x=generator,\n",
        "          epochs=20,\n",
        "          steps_per_epoch=100,\n",
        "          validation_data=validation_data,\n",
        "          callbacks=callbacks)"
      ],
      "execution_count": 394,
      "outputs": [
        {
          "output_type": "stream",
          "text": [
            "Epoch 1/20\n",
            "100/100 [==============================] - ETA: 0s - loss: 0.0089\n",
            "Epoch 00001: val_loss improved from inf to 0.01691, saving model to 23_checkpoint.keras\n",
            "100/100 [==============================] - 24s 243ms/step - loss: 0.0089 - val_loss: 0.0169 - lr: 0.0010\n",
            "Epoch 2/20\n",
            "100/100 [==============================] - ETA: 0s - loss: 0.0030\n",
            "Epoch 00002: val_loss improved from 0.01691 to 0.00901, saving model to 23_checkpoint.keras\n",
            "100/100 [==============================] - 24s 240ms/step - loss: 0.0030 - val_loss: 0.0090 - lr: 0.0010\n",
            "Epoch 3/20\n",
            "100/100 [==============================] - ETA: 0s - loss: 0.0022\n",
            "Epoch 00003: val_loss improved from 0.00901 to 0.00716, saving model to 23_checkpoint.keras\n",
            "100/100 [==============================] - 24s 245ms/step - loss: 0.0022 - val_loss: 0.0072 - lr: 0.0010\n",
            "Epoch 4/20\n",
            "100/100 [==============================] - ETA: 0s - loss: 0.0018\n",
            "Epoch 00004: val_loss improved from 0.00716 to 0.00609, saving model to 23_checkpoint.keras\n",
            "100/100 [==============================] - 25s 245ms/step - loss: 0.0018 - val_loss: 0.0061 - lr: 0.0010\n",
            "Epoch 5/20\n",
            "100/100 [==============================] - ETA: 0s - loss: 0.0016\n",
            "Epoch 00005: val_loss improved from 0.00609 to 0.00513, saving model to 23_checkpoint.keras\n",
            "100/100 [==============================] - 25s 248ms/step - loss: 0.0016 - val_loss: 0.0051 - lr: 0.0010\n",
            "Epoch 6/20\n",
            "100/100 [==============================] - ETA: 0s - loss: 0.0015\n",
            "Epoch 00006: val_loss improved from 0.00513 to 0.00501, saving model to 23_checkpoint.keras\n",
            "100/100 [==============================] - 25s 250ms/step - loss: 0.0015 - val_loss: 0.0050 - lr: 0.0010\n",
            "Epoch 7/20\n",
            "100/100 [==============================] - ETA: 0s - loss: 0.0015\n",
            "Epoch 00007: val_loss improved from 0.00501 to 0.00440, saving model to 23_checkpoint.keras\n",
            "100/100 [==============================] - 25s 250ms/step - loss: 0.0015 - val_loss: 0.0044 - lr: 0.0010\n",
            "Epoch 8/20\n",
            "100/100 [==============================] - ETA: 0s - loss: 0.0014\n",
            "Epoch 00008: val_loss improved from 0.00440 to 0.00343, saving model to 23_checkpoint.keras\n",
            "100/100 [==============================] - 25s 251ms/step - loss: 0.0014 - val_loss: 0.0034 - lr: 0.0010\n",
            "Epoch 9/20\n",
            "100/100 [==============================] - ETA: 0s - loss: 0.0014\n",
            "Epoch 00009: val_loss did not improve from 0.00343\n",
            "\n",
            "Epoch 00009: ReduceLROnPlateau reducing learning rate to 0.00010000000474974513.\n",
            "100/100 [==============================] - 25s 251ms/step - loss: 0.0014 - val_loss: 0.0036 - lr: 0.0010\n",
            "Epoch 10/20\n",
            "100/100 [==============================] - ETA: 0s - loss: 0.0011\n",
            "Epoch 00010: val_loss improved from 0.00343 to 0.00233, saving model to 23_checkpoint.keras\n",
            "100/100 [==============================] - 25s 254ms/step - loss: 0.0011 - val_loss: 0.0023 - lr: 1.0000e-04\n",
            "Epoch 11/20\n",
            "100/100 [==============================] - ETA: 0s - loss: 0.0010\n",
            "Epoch 00011: val_loss did not improve from 0.00233\n",
            "\n",
            "Epoch 00011: ReduceLROnPlateau reducing learning rate to 0.0001.\n",
            "100/100 [==============================] - 25s 254ms/step - loss: 0.0010 - val_loss: 0.0024 - lr: 1.0000e-04\n",
            "Epoch 12/20\n",
            "100/100 [==============================] - ETA: 0s - loss: 0.0010\n",
            "Epoch 00012: val_loss improved from 0.00233 to 0.00231, saving model to 23_checkpoint.keras\n",
            "100/100 [==============================] - 25s 251ms/step - loss: 0.0010 - val_loss: 0.0023 - lr: 1.0000e-04\n",
            "Epoch 13/20\n",
            "100/100 [==============================] - ETA: 0s - loss: 9.8682e-04\n",
            "Epoch 00013: val_loss did not improve from 0.00231\n",
            "100/100 [==============================] - 25s 254ms/step - loss: 9.8682e-04 - val_loss: 0.0024 - lr: 1.0000e-04\n",
            "Epoch 14/20\n",
            "100/100 [==============================] - ETA: 0s - loss: 9.7692e-04\n",
            "Epoch 00014: val_loss did not improve from 0.00231\n",
            "100/100 [==============================] - 25s 254ms/step - loss: 9.7692e-04 - val_loss: 0.0024 - lr: 1.0000e-04\n",
            "Epoch 15/20\n",
            "100/100 [==============================] - ETA: 0s - loss: 9.6224e-04\n",
            "Epoch 00015: val_loss did not improve from 0.00231\n",
            "100/100 [==============================] - 25s 252ms/step - loss: 9.6224e-04 - val_loss: 0.0024 - lr: 1.0000e-04\n",
            "Epoch 16/20\n",
            "100/100 [==============================] - ETA: 0s - loss: 9.4970e-04\n",
            "Epoch 00016: val_loss did not improve from 0.00231\n",
            "100/100 [==============================] - 25s 252ms/step - loss: 9.4970e-04 - val_loss: 0.0023 - lr: 1.0000e-04\n",
            "Epoch 17/20\n",
            "100/100 [==============================] - ETA: 0s - loss: 9.3196e-04\n",
            "Epoch 00017: val_loss did not improve from 0.00231\n",
            "100/100 [==============================] - 25s 252ms/step - loss: 9.3196e-04 - val_loss: 0.0023 - lr: 1.0000e-04\n",
            "Epoch 00017: early stopping\n",
            "CPU times: user 3min 37s, sys: 1min 38s, total: 5min 15s\n",
            "Wall time: 7min 10s\n"
          ],
          "name": "stdout"
        },
        {
          "output_type": "execute_result",
          "data": {
            "text/plain": [
              "<tensorflow.python.keras.callbacks.History at 0x7f2579b68a90>"
            ]
          },
          "metadata": {
            "tags": []
          },
          "execution_count": 394
        }
      ]
    },
    {
      "cell_type": "code",
      "metadata": {
        "id": "Z-XjYD_o1Ewd",
        "colab_type": "code",
        "colab": {}
      },
      "source": [
        "# result_lst = []"
      ],
      "execution_count": 0,
      "outputs": []
    },
    {
      "cell_type": "code",
      "metadata": {
        "id": "2IE0jg01pjUF",
        "colab_type": "code",
        "outputId": "ebc89dc6-1052-48d9-ae1f-01cd651e55e8",
        "colab": {
          "base_uri": "https://localhost:8080/",
          "height": 71
        }
      },
      "source": [
        "result = model.evaluate(x=np.expand_dims(x_test_scaled, axis=0),\n",
        "                        y=np.expand_dims(y_test_scaled, axis=0))\n",
        "\n",
        "print(\"loss (test-set):\", result)\n",
        "\n",
        "result_lst.append([str([str(i) for i in df.columns]), (round(result,5))])\n",
        "print(result_lst)"
      ],
      "execution_count": 397,
      "outputs": [
        {
          "output_type": "stream",
          "text": [
            "1/1 [==============================] - 0s 1ms/step - loss: 0.0023\n",
            "loss (test-set): 0.0023258933797478676\n",
            "[[\"['stock_Asia']\", 0.00211], [\"['stock_Asia', 'potato_price']\", 0.00233]]\n"
          ],
          "name": "stdout"
        }
      ]
    },
    {
      "cell_type": "code",
      "metadata": {
        "id": "kaQ922Ox8Vl6",
        "colab_type": "code",
        "outputId": "76d20cbf-7697-41cc-9565-b34d7d45ce93",
        "colab": {
          "base_uri": "https://localhost:8080/",
          "height": 111
        }
      },
      "source": [
        "pd.DataFrame(result_lst, columns = ['name', 'error']).sort_values(by = 'error')"
      ],
      "execution_count": 398,
      "outputs": [
        {
          "output_type": "execute_result",
          "data": {
            "text/html": [
              "<div>\n",
              "<style scoped>\n",
              "    .dataframe tbody tr th:only-of-type {\n",
              "        vertical-align: middle;\n",
              "    }\n",
              "\n",
              "    .dataframe tbody tr th {\n",
              "        vertical-align: top;\n",
              "    }\n",
              "\n",
              "    .dataframe thead th {\n",
              "        text-align: right;\n",
              "    }\n",
              "</style>\n",
              "<table border=\"1\" class=\"dataframe\">\n",
              "  <thead>\n",
              "    <tr style=\"text-align: right;\">\n",
              "      <th></th>\n",
              "      <th>name</th>\n",
              "      <th>error</th>\n",
              "    </tr>\n",
              "  </thead>\n",
              "  <tbody>\n",
              "    <tr>\n",
              "      <th>0</th>\n",
              "      <td>['stock_Asia']</td>\n",
              "      <td>0.00211</td>\n",
              "    </tr>\n",
              "    <tr>\n",
              "      <th>1</th>\n",
              "      <td>['stock_Asia', 'potato_price']</td>\n",
              "      <td>0.00233</td>\n",
              "    </tr>\n",
              "  </tbody>\n",
              "</table>\n",
              "</div>"
            ],
            "text/plain": [
              "                             name    error\n",
              "0                  ['stock_Asia']  0.00211\n",
              "1  ['stock_Asia', 'potato_price']  0.00233"
            ]
          },
          "metadata": {
            "tags": []
          },
          "execution_count": 398
        }
      ]
    },
    {
      "cell_type": "code",
      "metadata": {
        "id": "Yq031ADVqDty",
        "colab_type": "code",
        "colab": {}
      },
      "source": [
        "def plot_comparison(start_idx, length=100, train=True):\n",
        "    \"\"\"\n",
        "    Plot the predicted and true output-signals.\n",
        "    \n",
        "    :param start_idx: Start-index for the time-series.\n",
        "    :param length: Sequence-length to process and plot.\n",
        "    :param train: Boolean whether to use training- or test-set.\n",
        "    \"\"\"\n",
        "    \n",
        "    if train:\n",
        "        # Use training-data.\n",
        "        x = x_train_scaled\n",
        "        y_true = y_train\n",
        "    else:\n",
        "        # Use test-data.\n",
        "        x = x_test_scaled\n",
        "        y_true = y_test\n",
        "    \n",
        "    # End-index for the sequences.\n",
        "    end_idx = start_idx + length\n",
        "    \n",
        "    # Select the sequences from the given start-index and\n",
        "    # of the given length.\n",
        "    x = x[start_idx:end_idx]\n",
        "    y_true = y_true[start_idx:end_idx]\n",
        "    \n",
        "    # Input-signals for the model.\n",
        "    x = np.expand_dims(x, axis=0)\n",
        "\n",
        "    # Use the model to predict the output-signals.\n",
        "    y_pred = model.predict(x)\n",
        "    \n",
        "    # The output of the model is between 0 and 1.\n",
        "    # Do an inverse map to get it back to the scale\n",
        "    # of the original data-set.\n",
        "    y_pred_rescaled = y_scaler.inverse_transform(y_pred[0])\n",
        "    \n",
        "    signal = 0\n",
        "    \n",
        "    # Get the output-signal predicted by the model.\n",
        "    signal_pred = y_pred_rescaled[:, signal]\n",
        "    \n",
        "    # Get the true output-signal from the data-set.\n",
        "    signal_true = y_true[:, signal]\n",
        "\n",
        "    # Make the plotting-canvas bigger.\n",
        "    plt.figure(figsize=(15,5))\n",
        "    \n",
        "    # Plot and compare the two signals.\n",
        "    plt.plot(signal_true, label='true')\n",
        "    plt.plot(signal_pred, label='pred')\n",
        "    \n",
        "    # Plot grey box for warmup-period.\n",
        "    p = plt.axvspan(0, warmup_steps, facecolor='black', alpha=0.15)\n",
        "    \n",
        "    # Plot labels etc.\n",
        "    plt.ylabel(target_names[signal])\n",
        "    # plt.xlabel(np.array(dt_index.date))\n",
        "    \n",
        "    plt.legend()\n",
        "    plt.show()\n",
        "\n",
        "    # return signal_true, signal_pred"
      ],
      "execution_count": 0,
      "outputs": []
    },
    {
      "cell_type": "code",
      "metadata": {
        "id": "yig_QH-Soc1K",
        "colab_type": "code",
        "colab": {}
      },
      "source": [
        "def pred():\n",
        "  pred_x_data = df.values[shift_steps:]\n",
        "\n",
        "  pred_x_train_scaled = x_scaler.fit_transform(pred_x_data)\n",
        "\n",
        "  pred_x = np.expand_dims(pred_x_train_scaled, axis=0)\n",
        "\n",
        "  pred = model.predict(pred_x)\n",
        "\n",
        "  pred_rescaled = y_scaler.inverse_transform(pred[0])\n",
        "\n",
        "  pred = pred_rescaled[:, 0]\n",
        "\n",
        "  return pred[-1]"
      ],
      "execution_count": 0,
      "outputs": []
    },
    {
      "cell_type": "code",
      "metadata": {
        "id": "1u9EQiprob5K",
        "colab_type": "code",
        "colab": {
          "base_uri": "https://localhost:8080/",
          "height": 35
        },
        "outputId": "2cbb23b2-785a-48fc-f44c-f27b17b30a81"
      },
      "source": [
        "pred()"
      ],
      "execution_count": 405,
      "outputs": [
        {
          "output_type": "execute_result",
          "data": {
            "text/plain": [
              "3947.6445"
            ]
          },
          "metadata": {
            "tags": []
          },
          "execution_count": 405
        }
      ]
    },
    {
      "cell_type": "code",
      "metadata": {
        "id": "_aKqCWGOyzIL",
        "colab_type": "code",
        "colab": {
          "base_uri": "https://localhost:8080/",
          "height": 624
        },
        "outputId": "01c5d20f-f5a8-4016-9292-5cabb5035bb5"
      },
      "source": [
        "# stock_asia & potato을 이용한 예측\n",
        "plot_comparison(start_idx=0, length=len(y_train), train=True)\n",
        "plot_comparison(start_idx=0, length=len(y_test), train=False)"
      ],
      "execution_count": 404,
      "outputs": [
        {
          "output_type": "display_data",
          "data": {
            "image/png": "[encoded data removed]",
            "text/plain": [
              "<Figure size 1080x360 with 1 Axes>"
            ]
          },
          "metadata": {
            "tags": [],
            "needs_background": "light"
          }
        },
        {
          "output_type": "display_data",
          "data": {
            "image/png": "[encoded data removed]",
            "text/plain": [
              "<Figure size 1080x360 with 1 Axes>"
            ]
          },
          "metadata": {
            "tags": [],
            "needs_background": "light"
          }
        }
      ]
    },
    {
      "cell_type": "code",
      "metadata": {
        "id": "AZAygZO9dyZA",
        "colab_type": "code",
        "colab": {
          "base_uri": "https://localhost:8080/",
          "height": 626
        },
        "outputId": "5c43cb4e-e322-426e-fb4e-e0536e5e6193"
      },
      "source": [
        "# stock_asia을 이용한 예측\n",
        "plot_comparison(start_idx=0, length=len(y_train), train=True)\n",
        "plot_comparison(start_idx=0, length=len(y_test), train=False)"
      ],
      "execution_count": 349,
      "outputs": [
        {
          "output_type": "display_data",
          "data": {
            "image/png": "[encoded data removed]",
            "text/plain": [
              "<Figure size 1080x360 with 1 Axes>"
            ]
          },
          "metadata": {
            "tags": [],
            "needs_background": "light"
          }
        },
        {
          "output_type": "display_data",
          "data": {
            "image/png": "[encoded data removed]",
            "text/plain": [
              "<Figure size 1080x360 with 1 Axes>"
            ]
          },
          "metadata": {
            "tags": [],
            "needs_background": "light"
          }
        }
      ]
    }
  ]
}