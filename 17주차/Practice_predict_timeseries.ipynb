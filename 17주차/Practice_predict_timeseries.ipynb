{
  "nbformat": 4,
  "nbformat_minor": 0,
  "metadata": {
    "colab": {
      "name": "Practice_predict_timeseries",
      "provenance": [],
      "collapsed_sections": []
    },
    "kernelspec": {
      "name": "python3",
      "display_name": "Python 3"
    },
    "accelerator": "GPU"
  },
  "cells": [
    {
      "cell_type": "code",
      "metadata": {
        "id": "yZrhd98xUc62",
        "colab_type": "code",
        "outputId": "9b1b00eb-ea5f-447e-df9d-cfe0965b294e",
        "colab": {
          "base_uri": "https://localhost:8080/",
          "height": 35
        }
      },
      "source": [
        "#필요 라이브러리 임포트\n",
        "from IPython.display import display\n",
        "import numpy as np\n",
        "import matplotlib.pyplot as plt\n",
        "import pandas as pd\n",
        "from sklearn.model_selection import train_test_split\n",
        "import warnings\n",
        "warnings.filterwarnings(action='ignore')\n",
        "plt.rcParams['axes.unicode_minus'] = False\n",
        "from sklearn.preprocessing import minmax_scale\n",
        "from sklearn.preprocessing import LabelEncoder\n",
        "from sklearn.model_selection import KFold\n",
        "from sklearn.preprocessing import OneHotEncoder\n",
        "import seaborn as sns\n",
        "import lightgbm as lgb\n",
        "from sklearn.model_selection import cross_val_score\n",
        "\n",
        "# 구글 드라이버 이용\n",
        "from google.colab import drive\n",
        "\n",
        "drive.mount('/content/gdrive')"
      ],
      "execution_count": 70,
      "outputs": [
        {
          "output_type": "stream",
          "text": [
            "Drive already mounted at /content/gdrive; to attempt to forcibly remount, call drive.mount(\"/content/gdrive\", force_remount=True).\n"
          ],
          "name": "stdout"
        }
      ]
    },
    {
      "cell_type": "code",
      "metadata": {
        "id": "n_iDU7x-9jpP",
        "colab_type": "code",
        "colab": {}
      },
      "source": [
        "%matplotlib inline\n",
        "import matplotlib.pyplot as plt\n",
        "import tensorflow as tf\n",
        "import numpy as np\n",
        "import pandas as pd\n",
        "import os\n",
        "from sklearn.preprocessing import MinMaxScaler\n",
        "\n",
        "from tensorflow.keras.models import Sequential\n",
        "from tensorflow.keras.layers import Input, Dense, GRU, Embedding\n",
        "from tensorflow.keras.optimizers import RMSprop\n",
        "from tensorflow.keras.callbacks import EarlyStopping, ModelCheckpoint, TensorBoard, ReduceLROnPlateau\n",
        "from tensorflow.keras.backend import square, mean"
      ],
      "execution_count": 0,
      "outputs": []
    },
    {
      "cell_type": "code",
      "metadata": {
        "id": "gp9YiA0GGgZv",
        "colab_type": "code",
        "outputId": "bb8a3cbe-d8b7-45f1-f571-65f33034cd29",
        "colab": {
          "base_uri": "https://localhost:8080/",
          "height": 71
        }
      },
      "source": [
        "print(tf.__version__)\n",
        "\n",
        "print(tf.keras.__version__)\n",
        "\n",
        "print(pd.__version__)"
      ],
      "execution_count": 72,
      "outputs": [
        {
          "output_type": "stream",
          "text": [
            "2.2.0-rc3\n",
            "2.3.0-tf\n",
            "1.0.3\n"
          ],
          "name": "stdout"
        }
      ]
    },
    {
      "cell_type": "code",
      "metadata": {
        "id": "omcLWVrg9-Ei",
        "colab_type": "code",
        "outputId": "f1095de4-38b7-4bb7-a2f5-c31c3a1db510",
        "colab": {
          "base_uri": "https://localhost:8080/",
          "height": 265
        }
      },
      "source": [
        "# 파일 불러오기 예시\n",
        "# pd.read_csv('/content/gdrive/My Drive/Colab Notebooks/train.csv')\n",
        "\n",
        "# 4319\n",
        "data = pd.read_csv('/content/gdrive/My Drive/Colab Notebooks/result.csv', encoding='cp949').set_index('date')\n",
        "print(data.shape)\n",
        "data.head(2)"
      ],
      "execution_count": 73,
      "outputs": [
        {
          "output_type": "stream",
          "text": [
            "(1436, 27)\n"
          ],
          "name": "stdout"
        },
        {
          "output_type": "execute_result",
          "data": {
            "text/html": [
              "<div>\n",
              "<style scoped>\n",
              "    .dataframe tbody tr th:only-of-type {\n",
              "        vertical-align: middle;\n",
              "    }\n",
              "\n",
              "    .dataframe tbody tr th {\n",
              "        vertical-align: top;\n",
              "    }\n",
              "\n",
              "    .dataframe thead th {\n",
              "        text-align: right;\n",
              "    }\n",
              "</style>\n",
              "<table border=\"1\" class=\"dataframe\">\n",
              "  <thead>\n",
              "    <tr style=\"text-align: right;\">\n",
              "      <th></th>\n",
              "      <th>stock_Asia</th>\n",
              "      <th>stock_Jobi</th>\n",
              "      <th>stock_Hyosung</th>\n",
              "      <th>stock_Farming</th>\n",
              "      <th>stock_Namhae_Chemical</th>\n",
              "      <th>stock_KGChemical</th>\n",
              "      <th>stock_Nongwoo_Bio</th>\n",
              "      <th>stock_Sungbo_Chemical</th>\n",
              "      <th>stock_Asia_Tech</th>\n",
              "      <th>stock_Eastern_Agro</th>\n",
              "      <th>stock_KPX</th>\n",
              "      <th>potato_price</th>\n",
              "      <th>tomato</th>\n",
              "      <th>green_pepper</th>\n",
              "      <th>red_pepper</th>\n",
              "      <th>cabbage</th>\n",
              "      <th>cabbage1</th>\n",
              "      <th>onion</th>\n",
              "      <th>carrot</th>\n",
              "      <th>green_onion</th>\n",
              "      <th>cucumber</th>\n",
              "      <th>Exchange_Rate</th>\n",
              "      <th>KOSPI</th>\n",
              "      <th>Dubai</th>\n",
              "      <th>Brent</th>\n",
              "      <th>WTI</th>\n",
              "      <th>시장금리</th>\n",
              "    </tr>\n",
              "    <tr>\n",
              "      <th>date</th>\n",
              "      <th></th>\n",
              "      <th></th>\n",
              "      <th></th>\n",
              "      <th></th>\n",
              "      <th></th>\n",
              "      <th></th>\n",
              "      <th></th>\n",
              "      <th></th>\n",
              "      <th></th>\n",
              "      <th></th>\n",
              "      <th></th>\n",
              "      <th></th>\n",
              "      <th></th>\n",
              "      <th></th>\n",
              "      <th></th>\n",
              "      <th></th>\n",
              "      <th></th>\n",
              "      <th></th>\n",
              "      <th></th>\n",
              "      <th></th>\n",
              "      <th></th>\n",
              "      <th></th>\n",
              "      <th></th>\n",
              "      <th></th>\n",
              "      <th></th>\n",
              "      <th></th>\n",
              "      <th></th>\n",
              "    </tr>\n",
              "  </thead>\n",
              "  <tbody>\n",
              "    <tr>\n",
              "      <th>2014-08-01</th>\n",
              "      <td>3300.0</td>\n",
              "      <td>12000.0</td>\n",
              "      <td>17300.0</td>\n",
              "      <td>5780.0</td>\n",
              "      <td>9260.0</td>\n",
              "      <td>13700.0</td>\n",
              "      <td>20650.0</td>\n",
              "      <td>42350.0</td>\n",
              "      <td>3455.0</td>\n",
              "      <td>6380.0</td>\n",
              "      <td>3020.0</td>\n",
              "      <td>18593.0</td>\n",
              "      <td>8158.0</td>\n",
              "      <td>24381.0</td>\n",
              "      <td>28722.0</td>\n",
              "      <td>5388.0</td>\n",
              "      <td>5534.0</td>\n",
              "      <td>593.0</td>\n",
              "      <td>39369.0</td>\n",
              "      <td>1156.0</td>\n",
              "      <td>62722.0</td>\n",
              "      <td>1037.75</td>\n",
              "      <td>2073.10</td>\n",
              "      <td>677.23</td>\n",
              "      <td>676.71</td>\n",
              "      <td>631.78</td>\n",
              "      <td>2.48</td>\n",
              "    </tr>\n",
              "    <tr>\n",
              "      <th>2014-08-04</th>\n",
              "      <td>3300.0</td>\n",
              "      <td>12000.0</td>\n",
              "      <td>17350.0</td>\n",
              "      <td>5900.0</td>\n",
              "      <td>9280.0</td>\n",
              "      <td>13700.0</td>\n",
              "      <td>21100.0</td>\n",
              "      <td>43050.0</td>\n",
              "      <td>3465.0</td>\n",
              "      <td>6370.0</td>\n",
              "      <td>3050.0</td>\n",
              "      <td>20535.0</td>\n",
              "      <td>7925.0</td>\n",
              "      <td>32983.0</td>\n",
              "      <td>41805.0</td>\n",
              "      <td>9059.0</td>\n",
              "      <td>4286.0</td>\n",
              "      <td>600.0</td>\n",
              "      <td>41218.0</td>\n",
              "      <td>1510.0</td>\n",
              "      <td>43128.0</td>\n",
              "      <td>1033.35</td>\n",
              "      <td>2080.42</td>\n",
              "      <td>670.67</td>\n",
              "      <td>685.36</td>\n",
              "      <td>639.07</td>\n",
              "      <td>2.48</td>\n",
              "    </tr>\n",
              "  </tbody>\n",
              "</table>\n",
              "</div>"
            ],
            "text/plain": [
              "            stock_Asia  stock_Jobi  stock_Hyosung  ...   Brent     WTI  시장금리\n",
              "date                                               ...                      \n",
              "2014-08-01      3300.0     12000.0        17300.0  ...  676.71  631.78  2.48\n",
              "2014-08-04      3300.0     12000.0        17350.0  ...  685.36  639.07  2.48\n",
              "\n",
              "[2 rows x 27 columns]"
            ]
          },
          "metadata": {
            "tags": []
          },
          "execution_count": 73
        }
      ]
    },
    {
      "cell_type": "code",
      "metadata": {
        "id": "HazkkZs2qhJR",
        "colab_type": "code",
        "colab": {}
      },
      "source": [
        "target_names = ['stock_Jobi']"
      ],
      "execution_count": 0,
      "outputs": []
    },
    {
      "cell_type": "code",
      "metadata": {
        "id": "ZnkkHDvbWo1V",
        "colab_type": "code",
        "colab": {}
      },
      "source": [
        "df = data[['stock_Jobi','onion','carrot']]\n",
        "# df = data[target_names]\n",
        "shift_steps = 2"
      ],
      "execution_count": 0,
      "outputs": []
    },
    {
      "cell_type": "code",
      "metadata": {
        "id": "iScDFzA_WWuX",
        "colab_type": "code",
        "outputId": "58eebc77-4403-4e22-b812-89df2f2d03b0",
        "colab": {
          "base_uri": "https://localhost:8080/",
          "height": 143
        }
      },
      "source": [
        "df_targets = df['stock_Jobi'].shift(-shift_steps)\n",
        "#df_targets = df.shift(-shift_steps)\n",
        "\n",
        "df_targets.tail(5)"
      ],
      "execution_count": 78,
      "outputs": [
        {
          "output_type": "execute_result",
          "data": {
            "text/plain": [
              "date\n",
              "2019-12-25   NaN\n",
              "2019-12-26   NaN\n",
              "2019-12-27   NaN\n",
              "2019-12-30   NaN\n",
              "2019-12-31   NaN\n",
              "Name: stock_Jobi, dtype: float64"
            ]
          },
          "metadata": {
            "tags": []
          },
          "execution_count": 78
        }
      ]
    },
    {
      "cell_type": "code",
      "metadata": {
        "id": "E_Wj265dWfBj",
        "colab_type": "code",
        "outputId": "1229383b-c7af-4c86-9877-ad9a837c41ab",
        "colab": {
          "base_uri": "https://localhost:8080/",
          "height": 53
        }
      },
      "source": [
        "x_data = df.values[0:-shift_steps]\n",
        "\n",
        "print(type(x_data))\n",
        "print(\"Shape:\", x_data.shape)"
      ],
      "execution_count": 79,
      "outputs": [
        {
          "output_type": "stream",
          "text": [
            "<class 'numpy.ndarray'>\n",
            "Shape: (1431, 3)\n"
          ],
          "name": "stdout"
        }
      ]
    },
    {
      "cell_type": "code",
      "metadata": {
        "id": "zbJxICySmOM5",
        "colab_type": "code",
        "outputId": "b1c92635-3a94-4936-f0ea-6f5965a1f283",
        "colab": {
          "base_uri": "https://localhost:8080/",
          "height": 53
        }
      },
      "source": [
        "y_data = df_targets.values[:-shift_steps].reshape(-1,1)\n",
        "\n",
        "print(type(y_data))\n",
        "print(\"Shape:\", y_data.shape)"
      ],
      "execution_count": 80,
      "outputs": [
        {
          "output_type": "stream",
          "text": [
            "<class 'numpy.ndarray'>\n",
            "Shape: (1431, 1)\n"
          ],
          "name": "stdout"
        }
      ]
    },
    {
      "cell_type": "code",
      "metadata": {
        "id": "k7ydy2gimdQR",
        "colab_type": "code",
        "outputId": "80b3b53f-3a88-403e-a7fe-1f4ec9b5d6f6",
        "colab": {
          "base_uri": "https://localhost:8080/",
          "height": 35
        }
      },
      "source": [
        "num_data = len(x_data)\n",
        "num_data"
      ],
      "execution_count": 81,
      "outputs": [
        {
          "output_type": "execute_result",
          "data": {
            "text/plain": [
              "1431"
            ]
          },
          "metadata": {
            "tags": []
          },
          "execution_count": 81
        }
      ]
    },
    {
      "cell_type": "code",
      "metadata": {
        "id": "khjRP_0Bmipn",
        "colab_type": "code",
        "outputId": "67764eee-24aa-49d6-e0b3-01bd55c7a144",
        "colab": {
          "base_uri": "https://localhost:8080/",
          "height": 35
        }
      },
      "source": [
        "train_split = 0.9\n",
        "\n",
        "num_train = int(train_split * num_data)\n",
        "num_train"
      ],
      "execution_count": 82,
      "outputs": [
        {
          "output_type": "execute_result",
          "data": {
            "text/plain": [
              "1287"
            ]
          },
          "metadata": {
            "tags": []
          },
          "execution_count": 82
        }
      ]
    },
    {
      "cell_type": "code",
      "metadata": {
        "id": "4kY4GFGkmnLr",
        "colab_type": "code",
        "outputId": "0f31d3cb-a298-455b-a7c5-9a7b346d9d68",
        "colab": {
          "base_uri": "https://localhost:8080/",
          "height": 35
        }
      },
      "source": [
        "num_test = num_data - num_train\n",
        "num_test"
      ],
      "execution_count": 83,
      "outputs": [
        {
          "output_type": "execute_result",
          "data": {
            "text/plain": [
              "144"
            ]
          },
          "metadata": {
            "tags": []
          },
          "execution_count": 83
        }
      ]
    },
    {
      "cell_type": "code",
      "metadata": {
        "id": "lR8Iy60ymo1d",
        "colab_type": "code",
        "outputId": "c1d25efc-5c0b-433e-9fbc-5fc1e466fa2c",
        "colab": {
          "base_uri": "https://localhost:8080/",
          "height": 53
        }
      },
      "source": [
        "x_train = x_data[0:num_train]\n",
        "x_test = x_data[num_train:]\n",
        "print(len(x_train) + len(x_test))\n",
        "\n",
        "y_train = y_data[0:num_train]\n",
        "y_test = y_data[num_train:]\n",
        "print(len(y_train) + len(y_test))"
      ],
      "execution_count": 84,
      "outputs": [
        {
          "output_type": "stream",
          "text": [
            "1431\n",
            "1431\n"
          ],
          "name": "stdout"
        }
      ]
    },
    {
      "cell_type": "code",
      "metadata": {
        "id": "c6QAwY0Amsb7",
        "colab_type": "code",
        "outputId": "e8ecc997-f675-42a0-cc6b-ce6e6e1209a5",
        "colab": {
          "base_uri": "https://localhost:8080/",
          "height": 35
        }
      },
      "source": [
        "# input 갯수\n",
        "num_x_signals = x_data.shape[1]\n",
        "num_x_signals"
      ],
      "execution_count": 85,
      "outputs": [
        {
          "output_type": "execute_result",
          "data": {
            "text/plain": [
              "3"
            ]
          },
          "metadata": {
            "tags": []
          },
          "execution_count": 85
        }
      ]
    },
    {
      "cell_type": "code",
      "metadata": {
        "id": "P4klMpANm1_R",
        "colab_type": "code",
        "outputId": "15e2f59f-b273-46dd-dde4-ef8b4e24e761",
        "colab": {
          "base_uri": "https://localhost:8080/",
          "height": 35
        }
      },
      "source": [
        "# output 갯수\n",
        "num_y_signals = y_data.shape[1]\n",
        "num_y_signals"
      ],
      "execution_count": 86,
      "outputs": [
        {
          "output_type": "execute_result",
          "data": {
            "text/plain": [
              "1"
            ]
          },
          "metadata": {
            "tags": []
          },
          "execution_count": 86
        }
      ]
    },
    {
      "cell_type": "code",
      "metadata": {
        "id": "8YnoUWs3m3lR",
        "colab_type": "code",
        "outputId": "e7a6e0f1-54bd-468b-d14a-fdd596eb96a0",
        "colab": {
          "base_uri": "https://localhost:8080/",
          "height": 53
        }
      },
      "source": [
        "print(\"Min:\", np.min(x_train))\n",
        "print(\"Max:\", np.max(x_train))"
      ],
      "execution_count": 87,
      "outputs": [
        {
          "output_type": "stream",
          "text": [
            "Min: 424.0\n",
            "Max: 76280.0\n"
          ],
          "name": "stdout"
        }
      ]
    },
    {
      "cell_type": "code",
      "metadata": {
        "id": "H1abwULdm-tF",
        "colab_type": "code",
        "outputId": "3e92ec1c-c3cf-44e4-9f18-c5b483699809",
        "colab": {
          "base_uri": "https://localhost:8080/",
          "height": 53
        }
      },
      "source": [
        "# Scaled Data\n",
        "x_scaler = MinMaxScaler()\n",
        "\n",
        "x_train_scaled = x_scaler.fit_transform(x_train)\n",
        "\n",
        "print(\"Min:\", np.min(x_train_scaled))\n",
        "print(\"Max:\", np.max(x_train_scaled))"
      ],
      "execution_count": 88,
      "outputs": [
        {
          "output_type": "stream",
          "text": [
            "Min: 0.0\n",
            "Max: 1.0\n"
          ],
          "name": "stdout"
        }
      ]
    },
    {
      "cell_type": "code",
      "metadata": {
        "id": "b-9a1AnsnCfg",
        "colab_type": "code",
        "colab": {}
      },
      "source": [
        "x_test_scaled = x_scaler.transform(x_test)\n",
        "\n",
        "y_scaler = MinMaxScaler()\n",
        "y_train_scaled = y_scaler.fit_transform(y_train)\n",
        "y_test_scaled = y_scaler.transform(y_test)"
      ],
      "execution_count": 0,
      "outputs": []
    },
    {
      "cell_type": "code",
      "metadata": {
        "id": "RdA-5FppnHX6",
        "colab_type": "code",
        "outputId": "7e627af8-6286-4a7d-b47e-2822222561ab",
        "colab": {
          "base_uri": "https://localhost:8080/",
          "height": 53
        }
      },
      "source": [
        "print(x_train_scaled.shape)\n",
        "print(y_train_scaled.shape)"
      ],
      "execution_count": 90,
      "outputs": [
        {
          "output_type": "stream",
          "text": [
            "(1287, 3)\n",
            "(1287, 1)\n"
          ],
          "name": "stdout"
        }
      ]
    },
    {
      "cell_type": "code",
      "metadata": {
        "id": "7Yf42IubnI9w",
        "colab_type": "code",
        "colab": {}
      },
      "source": [
        "def batch_generator(batch_size, sequence_length):\n",
        "    \"\"\"\n",
        "    Generator function for creating random batches of training-data.\n",
        "    \"\"\"\n",
        "\n",
        "    # Infinite loop.\n",
        "    while True:\n",
        "        # Allocate a new array for the batch of input-signals.\n",
        "        x_shape = (batch_size, sequence_length, num_x_signals)\n",
        "        x_batch = np.zeros(shape=x_shape, dtype=np.float16)\n",
        "\n",
        "        # Allocate a new array for the batch of output-signals.\n",
        "        y_shape = (batch_size, sequence_length, num_y_signals)\n",
        "        y_batch = np.zeros(shape=y_shape, dtype=np.float16)\n",
        "\n",
        "        # Fill the batch with random sequences of data.\n",
        "        for i in range(batch_size):\n",
        "            # Get a random start-index.\n",
        "            # This points somewhere into the training-data.\n",
        "            idx = np.random.randint(num_train - sequence_length)\n",
        "            \n",
        "            # Copy the sequences of data starting at this index.\n",
        "            x_batch[i] = x_train_scaled[idx:idx+sequence_length]\n",
        "            y_batch[i] = y_train_scaled[idx:idx+sequence_length]\n",
        "        \n",
        "        yield (x_batch, y_batch)"
      ],
      "execution_count": 0,
      "outputs": []
    },
    {
      "cell_type": "code",
      "metadata": {
        "id": "6LawG5nZnLd7",
        "colab_type": "code",
        "colab": {}
      },
      "source": [
        "batch_size = 128"
      ],
      "execution_count": 0,
      "outputs": []
    },
    {
      "cell_type": "code",
      "metadata": {
        "id": "9xJ4dBBJnOaK",
        "colab_type": "code",
        "outputId": "0fe02748-67dc-46ee-9b81-e07186030c37",
        "colab": {
          "base_uri": "https://localhost:8080/",
          "height": 35
        }
      },
      "source": [
        "sequence_length = 365\n",
        "sequence_length"
      ],
      "execution_count": 93,
      "outputs": [
        {
          "output_type": "execute_result",
          "data": {
            "text/plain": [
              "365"
            ]
          },
          "metadata": {
            "tags": []
          },
          "execution_count": 93
        }
      ]
    },
    {
      "cell_type": "code",
      "metadata": {
        "id": "P_TiRo_QnePc",
        "colab_type": "code",
        "colab": {}
      },
      "source": [
        "generator = batch_generator(batch_size=batch_size, sequence_length=sequence_length)"
      ],
      "execution_count": 0,
      "outputs": []
    },
    {
      "cell_type": "code",
      "metadata": {
        "id": "8Ff-YQCpngcM",
        "colab_type": "code",
        "colab": {}
      },
      "source": [
        "x_batch, y_batch = next(generator)"
      ],
      "execution_count": 0,
      "outputs": []
    },
    {
      "cell_type": "code",
      "metadata": {
        "id": "M7rICSwpniDl",
        "colab_type": "code",
        "outputId": "083495c5-be34-4a91-ea84-22504cefdf45",
        "colab": {
          "base_uri": "https://localhost:8080/",
          "height": 53
        }
      },
      "source": [
        "print(x_batch.shape)\n",
        "print(y_batch.shape)"
      ],
      "execution_count": 96,
      "outputs": [
        {
          "output_type": "stream",
          "text": [
            "(128, 365, 3)\n",
            "(128, 365, 1)\n"
          ],
          "name": "stdout"
        }
      ]
    },
    {
      "cell_type": "code",
      "metadata": {
        "id": "v9yhrlHOn_sr",
        "colab_type": "code",
        "colab": {}
      },
      "source": [
        "validation_data = (np.expand_dims(x_test_scaled, axis=0),\n",
        "                   np.expand_dims(y_test_scaled, axis=0))"
      ],
      "execution_count": 0,
      "outputs": []
    },
    {
      "cell_type": "code",
      "metadata": {
        "id": "ftEWjGfMogHG",
        "colab_type": "code",
        "colab": {}
      },
      "source": [
        "model = Sequential()\n",
        "\n",
        "model.add(GRU(units=512,\n",
        "              return_sequences=True,\n",
        "              input_shape=(None, num_x_signals,)))\n",
        "\n",
        "model.add(Dense(num_y_signals, activation='sigmoid'))\n",
        "\n",
        "if False:\n",
        "    from tensorflow.python.keras.initializers import RandomUniform\n",
        "\n",
        "    # Maybe use lower init-ranges.\n",
        "    init = RandomUniform(minval=-0.05, maxval=0.05)\n",
        "\n",
        "    model.add(Dense(num_y_signals,\n",
        "                    activation='linear',\n",
        "                    kernel_initializer=init))"
      ],
      "execution_count": 0,
      "outputs": []
    },
    {
      "cell_type": "code",
      "metadata": {
        "id": "iiUwAHWOoh1j",
        "colab_type": "code",
        "colab": {}
      },
      "source": [
        "warmup_steps = 50"
      ],
      "execution_count": 0,
      "outputs": []
    },
    {
      "cell_type": "code",
      "metadata": {
        "id": "Beu_14SOowcU",
        "colab_type": "code",
        "colab": {}
      },
      "source": [
        "def loss_mse_warmup(y_true, y_pred):\n",
        "    \"\"\"\n",
        "    Calculate the Mean Squared Error between y_true and y_pred,\n",
        "    but ignore the beginning \"warmup\" part of the sequences.\n",
        "    \n",
        "    y_true is the desired output.\n",
        "    y_pred is the model's output.\n",
        "    \"\"\"\n",
        "\n",
        "    # The shape of both input tensors are:\n",
        "    # [batch_size, sequence_length, num_y_signals].\n",
        "\n",
        "    # Ignore the \"warmup\" parts of the sequences\n",
        "    # by taking slices of the tensors.\n",
        "    y_true_slice = y_true[:, warmup_steps:, :]\n",
        "    y_pred_slice = y_pred[:, warmup_steps:, :]\n",
        "\n",
        "    # These sliced tensors both have this shape:\n",
        "    # [batch_size, sequence_length - warmup_steps, num_y_signals]\n",
        "\n",
        "    # Calculat the Mean Squared Error and use it as loss.\n",
        "    mse = mean(square(y_true_slice - y_pred_slice))\n",
        "    \n",
        "    return mse"
      ],
      "execution_count": 0,
      "outputs": []
    },
    {
      "cell_type": "code",
      "metadata": {
        "id": "yfcmBrNIo19j",
        "colab_type": "code",
        "outputId": "a1ffdcab-4c6f-4937-a551-507bd3358942",
        "colab": {
          "base_uri": "https://localhost:8080/",
          "height": 233
        }
      },
      "source": [
        "optimizer = RMSprop(lr=1e-3)\n",
        "\n",
        "model.compile(loss=loss_mse_warmup, optimizer=optimizer)\n",
        "\n",
        "model.summary()"
      ],
      "execution_count": 101,
      "outputs": [
        {
          "output_type": "stream",
          "text": [
            "Model: \"sequential_1\"\n",
            "_________________________________________________________________\n",
            "Layer (type)                 Output Shape              Param #   \n",
            "=================================================================\n",
            "gru_1 (GRU)                  (None, None, 512)         794112    \n",
            "_________________________________________________________________\n",
            "dense_1 (Dense)              (None, None, 1)           513       \n",
            "=================================================================\n",
            "Total params: 794,625\n",
            "Trainable params: 794,625\n",
            "Non-trainable params: 0\n",
            "_________________________________________________________________\n"
          ],
          "name": "stdout"
        }
      ]
    },
    {
      "cell_type": "code",
      "metadata": {
        "id": "4_i944y7o4zT",
        "colab_type": "code",
        "colab": {}
      },
      "source": [
        "path_checkpoint = '23_checkpoint.keras'\n",
        "callback_checkpoint = ModelCheckpoint(filepath=path_checkpoint,\n",
        "                                      monitor='val_loss',\n",
        "                                      verbose=1,\n",
        "                                      save_weights_only=True,\n",
        "                                      save_best_only=True)"
      ],
      "execution_count": 0,
      "outputs": []
    },
    {
      "cell_type": "code",
      "metadata": {
        "id": "nZw7LJ3RpBxn",
        "colab_type": "code",
        "colab": {}
      },
      "source": [
        "callback_early_stopping = EarlyStopping(monitor='val_loss',\n",
        "                                        patience=5, verbose=1)"
      ],
      "execution_count": 0,
      "outputs": []
    },
    {
      "cell_type": "code",
      "metadata": {
        "id": "M39Gn7k2pDd1",
        "colab_type": "code",
        "colab": {}
      },
      "source": [
        "callback_tensorboard = TensorBoard(log_dir='./23_logs/',\n",
        "                                   histogram_freq=0,\n",
        "                                   write_graph=False)"
      ],
      "execution_count": 0,
      "outputs": []
    },
    {
      "cell_type": "code",
      "metadata": {
        "id": "v7R2s1TdpEvh",
        "colab_type": "code",
        "colab": {}
      },
      "source": [
        "callback_reduce_lr = ReduceLROnPlateau(monitor='val_loss',\n",
        "                                       factor=0.1,\n",
        "                                       min_lr=1e-4,\n",
        "                                       patience=0,\n",
        "                                       verbose=1)"
      ],
      "execution_count": 0,
      "outputs": []
    },
    {
      "cell_type": "code",
      "metadata": {
        "id": "ys-LcHx0pFxD",
        "colab_type": "code",
        "colab": {}
      },
      "source": [
        "callbacks = [callback_early_stopping,\n",
        "             callback_checkpoint,\n",
        "             callback_tensorboard,\n",
        "             callback_reduce_lr]"
      ],
      "execution_count": 0,
      "outputs": []
    },
    {
      "cell_type": "code",
      "metadata": {
        "id": "dYEVe2YTpHHT",
        "colab_type": "code",
        "outputId": "d1a1e133-7917-43b2-b16f-6ed7037d0070",
        "colab": {
          "base_uri": "https://localhost:8080/",
          "height": 593
        }
      },
      "source": [
        "%%time\n",
        "model.fit(x=generator,\n",
        "          epochs=20,\n",
        "          steps_per_epoch=100,\n",
        "          validation_data=validation_data,\n",
        "          callbacks=callbacks)"
      ],
      "execution_count": 107,
      "outputs": [
        {
          "output_type": "stream",
          "text": [
            "Epoch 1/20\n",
            "100/100 [==============================] - ETA: 0s - loss: 0.0149\n",
            "Epoch 00001: val_loss improved from inf to 0.01494, saving model to 23_checkpoint.keras\n",
            "100/100 [==============================] - 8s 78ms/step - loss: 0.0149 - val_loss: 0.0149 - lr: 0.0010\n",
            "Epoch 2/20\n",
            "100/100 [==============================] - ETA: 0s - loss: 0.0046\n",
            "Epoch 00002: val_loss did not improve from 0.01494\n",
            "\n",
            "Epoch 00002: ReduceLROnPlateau reducing learning rate to 0.00010000000474974513.\n",
            "100/100 [==============================] - 7s 74ms/step - loss: 0.0046 - val_loss: 0.0330 - lr: 0.0010\n",
            "Epoch 3/20\n",
            "100/100 [==============================] - ETA: 0s - loss: 0.0022\n",
            "Epoch 00003: val_loss did not improve from 0.01494\n",
            "\n",
            "Epoch 00003: ReduceLROnPlateau reducing learning rate to 0.0001.\n",
            "100/100 [==============================] - 7s 74ms/step - loss: 0.0022 - val_loss: 0.0675 - lr: 1.0000e-04\n",
            "Epoch 4/20\n",
            "100/100 [==============================] - ETA: 0s - loss: 0.0017\n",
            "Epoch 00004: val_loss did not improve from 0.01494\n",
            "100/100 [==============================] - 7s 74ms/step - loss: 0.0017 - val_loss: 0.0580 - lr: 1.0000e-04\n",
            "Epoch 5/20\n",
            "100/100 [==============================] - ETA: 0s - loss: 0.0016\n",
            "Epoch 00005: val_loss did not improve from 0.01494\n",
            "100/100 [==============================] - 7s 74ms/step - loss: 0.0016 - val_loss: 0.0665 - lr: 1.0000e-04\n",
            "Epoch 6/20\n",
            "100/100 [==============================] - ETA: 0s - loss: 0.0015\n",
            "Epoch 00006: val_loss did not improve from 0.01494\n",
            "100/100 [==============================] - 7s 74ms/step - loss: 0.0015 - val_loss: 0.0647 - lr: 1.0000e-04\n",
            "Epoch 00006: early stopping\n",
            "CPU times: user 30.4 s, sys: 8.35 s, total: 38.8 s\n",
            "Wall time: 46.7 s\n"
          ],
          "name": "stdout"
        },
        {
          "output_type": "execute_result",
          "data": {
            "text/plain": [
              "<tensorflow.python.keras.callbacks.History at 0x7efc805cc1d0>"
            ]
          },
          "metadata": {
            "tags": []
          },
          "execution_count": 107
        }
      ]
    },
    {
      "cell_type": "code",
      "metadata": {
        "id": "Z-XjYD_o1Ewd",
        "colab_type": "code",
        "colab": {}
      },
      "source": [
        "# result_lst = []"
      ],
      "execution_count": 0,
      "outputs": []
    },
    {
      "cell_type": "code",
      "metadata": {
        "id": "qxnuNpb1pJmY",
        "colab_type": "code",
        "colab": {}
      },
      "source": [
        "try:\n",
        "    model.load_weights(path_checkpoint)\n",
        "except Exception as error:\n",
        "    print(\"Error trying to load checkpoint.\")\n",
        "    print(error)"
      ],
      "execution_count": 0,
      "outputs": []
    },
    {
      "cell_type": "code",
      "metadata": {
        "id": "2IE0jg01pjUF",
        "colab_type": "code",
        "outputId": "1b1566e3-d9bb-498b-8db8-3683eec50fc7",
        "colab": {
          "base_uri": "https://localhost:8080/",
          "height": 71
        }
      },
      "source": [
        "result = model.evaluate(x=np.expand_dims(x_test_scaled, axis=0),\n",
        "                        y=np.expand_dims(y_test_scaled, axis=0))\n",
        "\n",
        "print(\"loss (test-set):\", result)\n",
        "\n",
        "result_lst.append([str([str(i) for i in df.columns]), (round(result,5))])\n",
        "print(result_lst)"
      ],
      "execution_count": 112,
      "outputs": [
        {
          "output_type": "stream",
          "text": [
            "1/1 [==============================] - 0s 1ms/step - loss: 0.0149\n",
            "loss (test-set): 0.014940822497010231\n",
            "[[\"['stock_Jobi', 'onion', 'carrot']\", 0.01494]]\n"
          ],
          "name": "stdout"
        }
      ]
    },
    {
      "cell_type": "code",
      "metadata": {
        "id": "kaQ922Ox8Vl6",
        "colab_type": "code",
        "outputId": "083f7bda-988b-416a-ab04-7da0ea6fdcf2",
        "colab": {
          "base_uri": "https://localhost:8080/",
          "height": 80
        }
      },
      "source": [
        "pd.DataFrame(result_lst, columns = ['name', 'error']).sort_values(by = 'error')"
      ],
      "execution_count": 113,
      "outputs": [
        {
          "output_type": "execute_result",
          "data": {
            "text/html": [
              "<div>\n",
              "<style scoped>\n",
              "    .dataframe tbody tr th:only-of-type {\n",
              "        vertical-align: middle;\n",
              "    }\n",
              "\n",
              "    .dataframe tbody tr th {\n",
              "        vertical-align: top;\n",
              "    }\n",
              "\n",
              "    .dataframe thead th {\n",
              "        text-align: right;\n",
              "    }\n",
              "</style>\n",
              "<table border=\"1\" class=\"dataframe\">\n",
              "  <thead>\n",
              "    <tr style=\"text-align: right;\">\n",
              "      <th></th>\n",
              "      <th>name</th>\n",
              "      <th>error</th>\n",
              "    </tr>\n",
              "  </thead>\n",
              "  <tbody>\n",
              "    <tr>\n",
              "      <th>0</th>\n",
              "      <td>['stock_Jobi', 'onion', 'carrot']</td>\n",
              "      <td>0.01494</td>\n",
              "    </tr>\n",
              "  </tbody>\n",
              "</table>\n",
              "</div>"
            ],
            "text/plain": [
              "                                name    error\n",
              "0  ['stock_Jobi', 'onion', 'carrot']  0.01494"
            ]
          },
          "metadata": {
            "tags": []
          },
          "execution_count": 113
        }
      ]
    },
    {
      "cell_type": "code",
      "metadata": {
        "id": "Yq031ADVqDty",
        "colab_type": "code",
        "colab": {}
      },
      "source": [
        "def plot_comparison(start_idx, length=100, train=True):\n",
        "    \"\"\"\n",
        "    Plot the predicted and true output-signals.\n",
        "    \n",
        "    :param start_idx: Start-index for the time-series.\n",
        "    :param length: Sequence-length to process and plot.\n",
        "    :param train: Boolean whether to use training- or test-set.\n",
        "    \"\"\"\n",
        "    \n",
        "    if train:\n",
        "        # Use training-data.\n",
        "        x = x_train_scaled\n",
        "        y_true = y_train\n",
        "    else:\n",
        "        # Use test-data.\n",
        "        x = x_test_scaled\n",
        "        y_true = y_test\n",
        "    \n",
        "    # End-index for the sequences.\n",
        "    end_idx = start_idx + length\n",
        "    \n",
        "    # Select the sequences from the given start-index and\n",
        "    # of the given length.\n",
        "    x = x[start_idx:end_idx]\n",
        "    y_true = y_true[start_idx:end_idx]\n",
        "    \n",
        "    # Input-signals for the model.\n",
        "    x = np.expand_dims(x, axis=0)\n",
        "\n",
        "    # Use the model to predict the output-signals.\n",
        "    y_pred = model.predict(x)\n",
        "    \n",
        "    # The output of the model is between 0 and 1.\n",
        "    # Do an inverse map to get it back to the scale\n",
        "    # of the original data-set.\n",
        "    y_pred_rescaled = y_scaler.inverse_transform(y_pred[0])\n",
        "    \n",
        "    # For each output-signal.\n",
        "    for signal in range(len(target_names)):\n",
        "        # Get the output-signal predicted by the model.\n",
        "        signal_pred = y_pred_rescaled[:, signal]\n",
        "        \n",
        "        # Get the true output-signal from the data-set.\n",
        "        signal_true = y_true[:, signal]\n",
        "\n",
        "        # Make the plotting-canvas bigger.\n",
        "        plt.figure(figsize=(15,5))\n",
        "        \n",
        "        # Plot and compare the two signals.\n",
        "        plt.plot(signal_true, label='true')\n",
        "        plt.plot(signal_pred, label='pred')\n",
        "        \n",
        "        # Plot grey box for warmup-period.\n",
        "        p = plt.axvspan(0, warmup_steps, facecolor='black', alpha=0.15)\n",
        "        \n",
        "        # Plot labels etc.\n",
        "        plt.ylabel(target_names[signal])\n",
        "        plt.legend()\n",
        "        plt.show()\n",
        "\n",
        "    return signal_true, signal_pred"
      ],
      "execution_count": 0,
      "outputs": []
    },
    {
      "cell_type": "code",
      "metadata": {
        "id": "5UBExSS97mNX",
        "colab_type": "code",
        "colab": {
          "base_uri": "https://localhost:8080/",
          "height": 321
        },
        "outputId": "fe8eb1cb-cc0c-471f-ff70-a62cb9a386c8"
      },
      "source": [
        "real_value, pred = plot_comparison(start_idx=0, length=150, train=False)"
      ],
      "execution_count": 115,
      "outputs": [
        {
          "output_type": "display_data",
          "data": {
            "image/png": "[encoded data removed]",
            "text/plain": [
              "<Figure size 1080x360 with 1 Axes>"
            ]
          },
          "metadata": {
            "tags": [],
            "needs_background": "light"
          }
        }
      ]
    },
    {
      "cell_type": "code",
      "metadata": {
        "id": "xUQi45mo7mDe",
        "colab_type": "code",
        "colab": {
          "base_uri": "https://localhost:8080/",
          "height": 235
        },
        "outputId": "6c57fd39-5b41-4be5-8451-71818f503a8d"
      },
      "source": [
        "df.tail()"
      ],
      "execution_count": 116,
      "outputs": [
        {
          "output_type": "execute_result",
          "data": {
            "text/html": [
              "<div>\n",
              "<style scoped>\n",
              "    .dataframe tbody tr th:only-of-type {\n",
              "        vertical-align: middle;\n",
              "    }\n",
              "\n",
              "    .dataframe tbody tr th {\n",
              "        vertical-align: top;\n",
              "    }\n",
              "\n",
              "    .dataframe thead th {\n",
              "        text-align: right;\n",
              "    }\n",
              "</style>\n",
              "<table border=\"1\" class=\"dataframe\">\n",
              "  <thead>\n",
              "    <tr style=\"text-align: right;\">\n",
              "      <th></th>\n",
              "      <th>stock_Jobi</th>\n",
              "      <th>onion</th>\n",
              "      <th>carrot</th>\n",
              "    </tr>\n",
              "    <tr>\n",
              "      <th>date</th>\n",
              "      <th></th>\n",
              "      <th></th>\n",
              "      <th></th>\n",
              "    </tr>\n",
              "  </thead>\n",
              "  <tbody>\n",
              "    <tr>\n",
              "      <th>2019-12-25</th>\n",
              "      <td>14700.0</td>\n",
              "      <td>787.0</td>\n",
              "      <td>41549.0</td>\n",
              "    </tr>\n",
              "    <tr>\n",
              "      <th>2019-12-26</th>\n",
              "      <td>14900.0</td>\n",
              "      <td>794.0</td>\n",
              "      <td>40595.0</td>\n",
              "    </tr>\n",
              "    <tr>\n",
              "      <th>2019-12-27</th>\n",
              "      <td>15150.0</td>\n",
              "      <td>820.0</td>\n",
              "      <td>38621.0</td>\n",
              "    </tr>\n",
              "    <tr>\n",
              "      <th>2019-12-30</th>\n",
              "      <td>15300.0</td>\n",
              "      <td>817.0</td>\n",
              "      <td>42100.0</td>\n",
              "    </tr>\n",
              "    <tr>\n",
              "      <th>2019-12-31</th>\n",
              "      <td>15300.0</td>\n",
              "      <td>809.0</td>\n",
              "      <td>38990.0</td>\n",
              "    </tr>\n",
              "  </tbody>\n",
              "</table>\n",
              "</div>"
            ],
            "text/plain": [
              "            stock_Jobi  onion   carrot\n",
              "date                                  \n",
              "2019-12-25     14700.0  787.0  41549.0\n",
              "2019-12-26     14900.0  794.0  40595.0\n",
              "2019-12-27     15150.0  820.0  38621.0\n",
              "2019-12-30     15300.0  817.0  42100.0\n",
              "2019-12-31     15300.0  809.0  38990.0"
            ]
          },
          "metadata": {
            "tags": []
          },
          "execution_count": 116
        }
      ]
    },
    {
      "cell_type": "code",
      "metadata": {
        "id": "wBP24gaF7l6B",
        "colab_type": "code",
        "colab": {
          "base_uri": "https://localhost:8080/",
          "height": 35
        },
        "outputId": "03da2f8c-99b2-4ea2-9e25-eef0e2a3a1d3"
      },
      "source": [
        "real_value[-5:]"
      ],
      "execution_count": 117,
      "outputs": [
        {
          "output_type": "execute_result",
          "data": {
            "text/plain": [
              "array([14700., 14900., 15150., 15300., 15300.])"
            ]
          },
          "metadata": {
            "tags": []
          },
          "execution_count": 117
        }
      ]
    },
    {
      "cell_type": "code",
      "metadata": {
        "id": "OdrrVoIjr0qP",
        "colab_type": "code",
        "colab": {
          "base_uri": "https://localhost:8080/",
          "height": 53
        },
        "outputId": "538fe478-1d59-43c6-f217-f3f717b132be"
      },
      "source": [
        "pred[-5:]"
      ],
      "execution_count": 118,
      "outputs": [
        {
          "output_type": "execute_result",
          "data": {
            "text/plain": [
              "array([17438.658, 17391.32 , 17305.928, 17181.174, 16981.656],\n",
              "      dtype=float32)"
            ]
          },
          "metadata": {
            "tags": []
          },
          "execution_count": 118
        }
      ]
    },
    {
      "cell_type": "code",
      "metadata": {
        "id": "w_pcWLEsvj6c",
        "colab_type": "code",
        "outputId": "b06d9350-3df1-4104-d7ba-f3630a76f916",
        "colab": {
          "base_uri": "https://localhost:8080/",
          "height": 1000
        }
      },
      "source": [
        "# stock_jobi & onion & carrot을 이용한 예측\n",
        "plot_comparison(start_idx=0, length=1400, train=True)\n",
        "plot_comparison(start_idx=0, length=150, train=False)"
      ],
      "execution_count": 119,
      "outputs": [
        {
          "output_type": "display_data",
          "data": {
            "image/png": "[encoded data removed]",
            "text/plain": [
              "<Figure size 1080x360 with 1 Axes>"
            ]
          },
          "metadata": {
            "tags": [],
            "needs_background": "light"
          }
        },
        {
          "output_type": "display_data",
          "data": {
            "image/png": "[encoded data removed]",
            "text/plain": [
              "<Figure size 1080x360 with 1 Axes>"
            ]
          },
          "metadata": {
            "tags": [],
            "needs_background": "light"
          }
        },
        {
          "output_type": "execute_result",
          "data": {
            "text/plain": [
              "(array([27000., 26300., 25550., 26800., 26800., 25750., 26400., 25150.,\n",
              "        24500., 23600., 23400., 24100., 24150., 23250., 23250., 23450.,\n",
              "        21700., 20850., 21250., 22500., 22150., 22000., 21950., 21150.,\n",
              "        21100., 21550., 21450., 21100., 20300., 19600., 18900., 17650.,\n",
              "        18150., 18650., 18400., 18350., 16400., 15650., 16150., 17450.,\n",
              "        17800., 18350., 18500., 18750., 18750., 17900., 18900., 18900.,\n",
              "        18900., 18500., 17950., 17050., 17300., 17700., 17900., 18450.,\n",
              "        18000., 18350., 18350., 18450., 18850., 18050., 19800., 20350.,\n",
              "        20350., 20350., 21600., 21300., 21650., 21750., 22000., 22100.,\n",
              "        21850., 20500., 20550., 20450., 20050., 20050., 20000., 20550.,\n",
              "        20550., 20150., 17800., 17850., 17850., 17900., 17900., 18450.,\n",
              "        18300., 18400., 18000., 18000., 17550., 17950., 17100., 17500.,\n",
              "        17150., 17150., 17350., 16950., 16950., 17000., 17300., 17450.,\n",
              "        17800., 17500., 17650., 17350., 17300., 17250., 17550., 17500.,\n",
              "        18150., 17650., 17100., 16850., 16500., 16600., 16700., 16450.,\n",
              "        16350., 16200., 15700., 15800., 15100., 14750., 15100., 15000.,\n",
              "        14850., 15200., 15700., 15700., 15700., 15150., 15550., 15350.,\n",
              "        15450., 14950., 14700., 14700., 14900., 15150., 15300., 15300.]),\n",
              " array([24316.334, 26432.893, 29166.182, 31107.002, 31840.049, 31658.58 ,\n",
              "        30810.379, 29539.826, 28610.643, 28472.578, 28728.658, 29099.348,\n",
              "        29207.918, 28859.166, 28043.889, 27058.611, 26471.672, 26473.363,\n",
              "        26730.455, 26999.45 , 27209.945, 27031.293, 26263.057, 25359.35 ,\n",
              "        24975.531, 25144.041, 25511.121, 25832.37 , 25860.887, 25588.625,\n",
              "        25300.299, 25136.53 , 25039.74 , 24811.768, 24342.916, 23646.98 ,\n",
              "        22642.371, 21744.678, 21280.28 , 21124.248, 21102.56 , 20754.363,\n",
              "        20062.365, 19407.021, 19178.568, 19440.541, 20048.021, 20762.367,\n",
              "        21448.428, 21962.848, 22093.225, 22052.43 , 22050.477, 22094.627,\n",
              "        22099.564, 21920.89 , 21436.494, 20906.137, 20601.58 , 20586.678,\n",
              "        20849.959, 21197.031, 21439.049, 21589.11 , 21664.357, 21717.148,\n",
              "        21699.07 , 21858.502, 22390.152, 23059.518, 23604.668, 24151.842,\n",
              "        24611.98 , 24902.357, 25122.754, 25272.312, 25332.992, 25230.717,\n",
              "        24817.357, 24237.992, 23739.518, 23356.82 , 23139.63 , 23108.537,\n",
              "        23334.639, 23711.834, 23986.486, 23524.666, 22458.828, 21425.117,\n",
              "        20773.518, 20532.766, 20634.52 , 20877.455, 21216.576, 21411.53 ,\n",
              "        21371.984, 21139.844, 20793.754, 20412.81 , 20114.232, 19970.758,\n",
              "        19933.697, 20004.898, 19977.639, 19932.82 , 19844.03 , 19870.293,\n",
              "        20021.012, 20242.576, 20466.941, 20563.87 , 20496.932, 20463.842,\n",
              "        20319.178, 20166.201, 20079.432, 20201.482, 20266.395, 20155.24 ,\n",
              "        19921.3  , 19649.656, 19332.021, 19032.08 , 18718.438, 18515.86 ,\n",
              "        18429.59 , 18246.498, 17959.05 , 17507.502, 17053.064, 16693.605,\n",
              "        16433.203, 16311.908, 16357.087, 16523.092, 16800.342, 17143.055,\n",
              "        17357.51 , 17438.658, 17391.32 , 17305.928, 17181.174, 16981.656],\n",
              "       dtype=float32))"
            ]
          },
          "metadata": {
            "tags": []
          },
          "execution_count": 119
        }
      ]
    },
    {
      "cell_type": "code",
      "metadata": {
        "id": "1GXHdqzQsCqw",
        "colab_type": "code",
        "outputId": "57b2f40f-3d7b-423e-bbf7-ce74602689cd",
        "colab": {
          "base_uri": "https://localhost:8080/",
          "height": 623
        }
      },
      "source": [
        "# stock_jobi만을 이용한 예측\n",
        "plot_comparison(start_idx=0, length=1400, train=True)\n",
        "plot_comparison(start_idx=0, length=150, train=False)"
      ],
      "execution_count": 0,
      "outputs": [
        {
          "output_type": "display_data",
          "data": {
            "image/png": "[encoded data removed]",
            "text/plain": [
              "<Figure size 1080x360 with 1 Axes>"
            ]
          },
          "metadata": {
            "tags": [],
            "needs_background": "light"
          }
        },
        {
          "output_type": "display_data",
          "data": {
            "image/png": "[encoded data removed]",
            "text/plain": [
              "<Figure size 1080x360 with 1 Axes>"
            ]
          },
          "metadata": {
            "tags": [],
            "needs_background": "light"
          }
        }
      ]
    }
  ]
}