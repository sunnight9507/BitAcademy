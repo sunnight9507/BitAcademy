{
 "cells": [
  {
   "cell_type": "markdown",
   "metadata": {},
   "source": [
    "## AIOps\n",
    "\n",
    "### AIOps란\n",
    "\n",
    "- AI기술을 IT 운영에 접목한 것으로 \"**IT운영을 위한 인공지능(Artificial Inteligence for IT Operations)**\"을 뜻한다.\n",
    "- 빅데이터 분석과 머신러닝, 기타 AI 기술을 활용해 IT인프라의 문제를 파악하고 해결책을 제시하는 과정을 자동화\n",
    "\n",
    "### AIOps를 구성하는 기술\n",
    "\n",
    "<img src=\"img/AIOps1.png\" width=\"550\" style=\"float: right\">\n",
    "\n",
    "- **데이터 소스**\n",
    "    - 광범위하면서도 다양, 데이터는 IT 분야(이벤트, 로그, 메트릭, 티켓, 모니터링, 작업 데이터 등)에서 제공\n",
    "- **빅데이터**\n",
    "    - 실시간 처리를 가능케 하는 최신 빅데이터 플랫폼이 포함, ex) Elastic Stack, Hadoop 2.0, 일부 Apache 기술 등\n",
    "- **규칙 및 패턴**\n",
    "    - 규칙 애플리케이션과 패턴 인식을 통해 활용성이 강화, 데이터의 정상 상태와 규칙성을 밝히면서 컨텍스트를 찾을 수 있다. 도메인에 따라 달라질 수 있다.\n",
    "- **도메인 알고리즘**\n",
    "    - IT 도메인 전문 지식을 활용하여 규칙과 패턴을 지능적으로 해석하고 기업 데이터 및 원하는 결과에 따라 이를 적용, 기업은 도메인 알고리즘을 통해 IT 관련 목표(예: 비정형 데이터의 상관관계 분석, 노이즈 제거, 이상 상황에 대한 알림, 문제 원인 식별, 기준 수립)를 달성 가능\n",
    "- **머신 러닝(ML)**\n",
    "    - 새로 도입된 데이터 및 알고리즘 분석 결과에 따라 자동으로 새로운 알고리즘을 생성하거나 기존 알고리즘을 변경 가능\n",
    "- **인공 지능(AI)**\n",
    "    - AI는 환경에서 알려지지 않은 항목과 새로운 항목에 맞춰 조정이 가능합니다.\n",
    "- **자동화**\n",
    "    - 머신 러닝과 AI가 생성하는 결과를 사용하여 식별된 문제와 상황에 맞는 대응 방법을 자동으로 생성하여 적용\n",
    "\n",
    "\n",
    "### AIOps 활용\n",
    "\n",
    "- 가트너는 아래 그림과 같이 AIOps가 IT운영 전반에 걸쳐 지속적인 통찰을 가능하게 한다고 설명\n",
    "- AIOps에서 Logs, Text, Wire, Metrics, API등의 데이터 유형들을 처리해 다음과 같이 활용할 수 있다.\n",
    "    - Causal Analysis(인과관계 분석)\n",
    "    - Anomaly detection(이상 탐지)\n",
    "    - Performance analysis(성과 분석)\n",
    "    - Prediction(예측)\n",
    "    - Correlation and contextualization(상관관계와 맥락화)\n",
    "    - Intelligent Remediation(지능적 개선)\n",
    "\n",
    "<img src=\"img/AIOps2.png\" width=\"700\" height=\"500\" />\n",
    "\n",
    "\n",
    "- 예시\n",
    "    - 출처 : ex-em(XAIOps)\n",
    "<img src=\"img/AIOps3.png\" width=\"1000\">\n",
    "\n",
    "\n",
    "### AIOps 도입 효과\n",
    "\n",
    "1) **업무의 효율성 증가**\n",
    "\n",
    "2) **운영 비용 감소 & 안정적이고 예측 가능한 인프라 제공**\n",
    "\n",
    "3) **기타 부서와의 협업 최대화**\n"
   ]
  },
  {
   "cell_type": "code",
   "execution_count": null,
   "metadata": {},
   "outputs": [],
   "source": []
  }
 ],
 "metadata": {
  "kernelspec": {
   "display_name": "Python 3",
   "language": "python",
   "name": "python3"
  },
  "language_info": {
   "codemirror_mode": {
    "name": "ipython",
    "version": 3
   },
   "file_extension": ".py",
   "mimetype": "text/x-python",
   "name": "python",
   "nbconvert_exporter": "python",
   "pygments_lexer": "ipython3",
   "version": "3.7.3"
  }
 },
 "nbformat": 4,
 "nbformat_minor": 2
}
