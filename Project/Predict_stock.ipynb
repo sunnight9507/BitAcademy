{
  "nbformat": 4,
  "nbformat_minor": 0,
  "metadata": {
    "colab": {
      "name": "Predict_stock",
      "provenance": [],
      "collapsed_sections": []
    },
    "kernelspec": {
      "name": "python3",
      "display_name": "Python 3"
    },
    "accelerator": "GPU"
  },
  "cells": [
    {
      "cell_type": "code",
      "metadata": {
        "id": "yZrhd98xUc62",
        "colab_type": "code",
        "outputId": "147d935e-f330-4098-801d-ef2856dcf7d5",
        "colab": {
          "base_uri": "https://localhost:8080/",
          "height": 35
        }
      },
      "source": [
        "#필요 라이브러리 임포트\n",
        "from IPython.display import display\n",
        "import warnings\n",
        "warnings.filterwarnings(action='ignore')\n",
        "\n",
        "# 구글 드라이버 이용\n",
        "from google.colab import drive\n",
        "\n",
        "drive.mount('/content/gdrive')"
      ],
      "execution_count": 7,
      "outputs": [
        {
          "output_type": "stream",
          "text": [
            "Drive already mounted at /content/gdrive; to attempt to forcibly remount, call drive.mount(\"/content/gdrive\", force_remount=True).\n"
          ],
          "name": "stdout"
        }
      ]
    },
    {
      "cell_type": "code",
      "metadata": {
        "id": "n_iDU7x-9jpP",
        "colab_type": "code",
        "colab": {}
      },
      "source": [
        "%matplotlib inline\n",
        "import datetime as dt\n",
        "import matplotlib.pyplot as plt\n",
        "import tensorflow as tf\n",
        "import numpy as np\n",
        "import pandas as pd\n",
        "import os\n",
        "from sklearn.preprocessing import MinMaxScaler\n",
        "from datetime import timedelta\n",
        "from dateutil.parser import parse\n",
        "\n",
        "from tensorflow.keras.models import Sequential\n",
        "from tensorflow.keras.layers import Input, Dense, GRU, Embedding\n",
        "from tensorflow.keras.optimizers import RMSprop\n",
        "from tensorflow.keras.callbacks import EarlyStopping, ModelCheckpoint, TensorBoard, ReduceLROnPlateau\n",
        "from tensorflow.keras.backend import square, mean"
      ],
      "execution_count": 0,
      "outputs": []
    },
    {
      "cell_type": "code",
      "metadata": {
        "id": "gp9YiA0GGgZv",
        "colab_type": "code",
        "outputId": "728a2d08-0380-4f0e-b24a-6d4b9933c105",
        "colab": {
          "base_uri": "https://localhost:8080/",
          "height": 71
        }
      },
      "source": [
        "print(tf.__version__)\n",
        "\n",
        "print(tf.keras.__version__)\n",
        "\n",
        "print(pd.__version__)"
      ],
      "execution_count": 11,
      "outputs": [
        {
          "output_type": "stream",
          "text": [
            "2.2.0\n",
            "2.3.0-tf\n",
            "1.0.3\n"
          ],
          "name": "stdout"
        }
      ]
    },
    {
      "cell_type": "code",
      "metadata": {
        "id": "omcLWVrg9-Ei",
        "colab_type": "code",
        "outputId": "a0f177dd-850a-4220-ce24-19b4c125ad6e",
        "colab": {
          "base_uri": "https://localhost:8080/",
          "height": 265
        }
      },
      "source": [
        "# 파일 불러오기 예시\n",
        "# pd.read_csv('/content/gdrive/My Drive/Colab Notebooks/train.csv')\n",
        "\n",
        "# 4319\n",
        "data = pd.read_csv('/content/gdrive/My Drive/Colab Notebooks/Bit_project/result.csv', encoding='cp949').set_index('date')\n",
        "print(data.shape)\n",
        "data.head(2)"
      ],
      "execution_count": 74,
      "outputs": [
        {
          "output_type": "stream",
          "text": [
            "(1501, 27)\n"
          ],
          "name": "stdout"
        },
        {
          "output_type": "execute_result",
          "data": {
            "text/html": [
              "<div>\n",
              "<style scoped>\n",
              "    .dataframe tbody tr th:only-of-type {\n",
              "        vertical-align: middle;\n",
              "    }\n",
              "\n",
              "    .dataframe tbody tr th {\n",
              "        vertical-align: top;\n",
              "    }\n",
              "\n",
              "    .dataframe thead th {\n",
              "        text-align: right;\n",
              "    }\n",
              "</style>\n",
              "<table border=\"1\" class=\"dataframe\">\n",
              "  <thead>\n",
              "    <tr style=\"text-align: right;\">\n",
              "      <th></th>\n",
              "      <th>stock_Asia</th>\n",
              "      <th>stock_Jobi</th>\n",
              "      <th>stock_Hyosung</th>\n",
              "      <th>stock_Farming</th>\n",
              "      <th>stock_Namhae_Chemical</th>\n",
              "      <th>stock_KGChemical</th>\n",
              "      <th>stock_Nongwoo_Bio</th>\n",
              "      <th>stock_Sungbo_Chemical</th>\n",
              "      <th>stock_Asia_Tech</th>\n",
              "      <th>stock_Eastern_Agro</th>\n",
              "      <th>stock_KPX</th>\n",
              "      <th>potato_price</th>\n",
              "      <th>tomato</th>\n",
              "      <th>green_pepper</th>\n",
              "      <th>red_pepper</th>\n",
              "      <th>cabbage</th>\n",
              "      <th>cabbage1</th>\n",
              "      <th>onion</th>\n",
              "      <th>carrot</th>\n",
              "      <th>green_onion</th>\n",
              "      <th>cucumber</th>\n",
              "      <th>Exchange_Rate</th>\n",
              "      <th>KOSPI</th>\n",
              "      <th>Dubai</th>\n",
              "      <th>Brent</th>\n",
              "      <th>WTI</th>\n",
              "      <th>시장금리</th>\n",
              "    </tr>\n",
              "    <tr>\n",
              "      <th>date</th>\n",
              "      <th></th>\n",
              "      <th></th>\n",
              "      <th></th>\n",
              "      <th></th>\n",
              "      <th></th>\n",
              "      <th></th>\n",
              "      <th></th>\n",
              "      <th></th>\n",
              "      <th></th>\n",
              "      <th></th>\n",
              "      <th></th>\n",
              "      <th></th>\n",
              "      <th></th>\n",
              "      <th></th>\n",
              "      <th></th>\n",
              "      <th></th>\n",
              "      <th></th>\n",
              "      <th></th>\n",
              "      <th></th>\n",
              "      <th></th>\n",
              "      <th></th>\n",
              "      <th></th>\n",
              "      <th></th>\n",
              "      <th></th>\n",
              "      <th></th>\n",
              "      <th></th>\n",
              "      <th></th>\n",
              "    </tr>\n",
              "  </thead>\n",
              "  <tbody>\n",
              "    <tr>\n",
              "      <th>2014-08-01</th>\n",
              "      <td>3300.0</td>\n",
              "      <td>12000.0</td>\n",
              "      <td>17300.0</td>\n",
              "      <td>5780.0</td>\n",
              "      <td>9260.0</td>\n",
              "      <td>13700.0</td>\n",
              "      <td>20650.0</td>\n",
              "      <td>42350.0</td>\n",
              "      <td>3455.0</td>\n",
              "      <td>6380.0</td>\n",
              "      <td>3020.0</td>\n",
              "      <td>18593.0</td>\n",
              "      <td>8158.0</td>\n",
              "      <td>24381.0</td>\n",
              "      <td>28722.0</td>\n",
              "      <td>5388.0</td>\n",
              "      <td>5534.0</td>\n",
              "      <td>593.0</td>\n",
              "      <td>39369.0</td>\n",
              "      <td>1156.0</td>\n",
              "      <td>62722.0</td>\n",
              "      <td>1037.75</td>\n",
              "      <td>2073.10</td>\n",
              "      <td>677.23</td>\n",
              "      <td>676.71</td>\n",
              "      <td>631.78</td>\n",
              "      <td>2.48</td>\n",
              "    </tr>\n",
              "    <tr>\n",
              "      <th>2014-08-04</th>\n",
              "      <td>3300.0</td>\n",
              "      <td>12000.0</td>\n",
              "      <td>17350.0</td>\n",
              "      <td>5900.0</td>\n",
              "      <td>9280.0</td>\n",
              "      <td>13700.0</td>\n",
              "      <td>21100.0</td>\n",
              "      <td>43050.0</td>\n",
              "      <td>3465.0</td>\n",
              "      <td>6370.0</td>\n",
              "      <td>3050.0</td>\n",
              "      <td>20535.0</td>\n",
              "      <td>7925.0</td>\n",
              "      <td>32983.0</td>\n",
              "      <td>41805.0</td>\n",
              "      <td>9059.0</td>\n",
              "      <td>4286.0</td>\n",
              "      <td>600.0</td>\n",
              "      <td>41218.0</td>\n",
              "      <td>1510.0</td>\n",
              "      <td>43128.0</td>\n",
              "      <td>1033.35</td>\n",
              "      <td>2080.42</td>\n",
              "      <td>670.67</td>\n",
              "      <td>685.36</td>\n",
              "      <td>639.07</td>\n",
              "      <td>2.48</td>\n",
              "    </tr>\n",
              "  </tbody>\n",
              "</table>\n",
              "</div>"
            ],
            "text/plain": [
              "            stock_Asia  stock_Jobi  stock_Hyosung  ...   Brent     WTI  시장금리\n",
              "date                                               ...                      \n",
              "2014-08-01      3300.0     12000.0        17300.0  ...  676.71  631.78  2.48\n",
              "2014-08-04      3300.0     12000.0        17350.0  ...  685.36  639.07  2.48\n",
              "\n",
              "[2 rows x 27 columns]"
            ]
          },
          "metadata": {
            "tags": []
          },
          "execution_count": 74
        }
      ]
    },
    {
      "cell_type": "code",
      "metadata": {
        "id": "_Ne9OEtvQdrg",
        "colab_type": "code",
        "colab": {}
      },
      "source": [
        "data.loc[str(parse(data.index[-1]).date() + timedelta(days=1))] = [np.nan for _ in range(data.shape[1])]"
      ],
      "execution_count": 0,
      "outputs": []
    },
    {
      "cell_type": "code",
      "metadata": {
        "id": "d84giyFSRJDT",
        "colab_type": "code",
        "outputId": "cf57a7a0-ba60-454d-a64a-fa1636c90df6",
        "colab": {
          "base_uri": "https://localhost:8080/",
          "height": 247
        }
      },
      "source": [
        "data.tail(2)"
      ],
      "execution_count": 76,
      "outputs": [
        {
          "output_type": "execute_result",
          "data": {
            "text/html": [
              "<div>\n",
              "<style scoped>\n",
              "    .dataframe tbody tr th:only-of-type {\n",
              "        vertical-align: middle;\n",
              "    }\n",
              "\n",
              "    .dataframe tbody tr th {\n",
              "        vertical-align: top;\n",
              "    }\n",
              "\n",
              "    .dataframe thead th {\n",
              "        text-align: right;\n",
              "    }\n",
              "</style>\n",
              "<table border=\"1\" class=\"dataframe\">\n",
              "  <thead>\n",
              "    <tr style=\"text-align: right;\">\n",
              "      <th></th>\n",
              "      <th>stock_Asia</th>\n",
              "      <th>stock_Jobi</th>\n",
              "      <th>stock_Hyosung</th>\n",
              "      <th>stock_Farming</th>\n",
              "      <th>stock_Namhae_Chemical</th>\n",
              "      <th>stock_KGChemical</th>\n",
              "      <th>stock_Nongwoo_Bio</th>\n",
              "      <th>stock_Sungbo_Chemical</th>\n",
              "      <th>stock_Asia_Tech</th>\n",
              "      <th>stock_Eastern_Agro</th>\n",
              "      <th>stock_KPX</th>\n",
              "      <th>potato_price</th>\n",
              "      <th>tomato</th>\n",
              "      <th>green_pepper</th>\n",
              "      <th>red_pepper</th>\n",
              "      <th>cabbage</th>\n",
              "      <th>cabbage1</th>\n",
              "      <th>onion</th>\n",
              "      <th>carrot</th>\n",
              "      <th>green_onion</th>\n",
              "      <th>cucumber</th>\n",
              "      <th>Exchange_Rate</th>\n",
              "      <th>KOSPI</th>\n",
              "      <th>Dubai</th>\n",
              "      <th>Brent</th>\n",
              "      <th>WTI</th>\n",
              "      <th>시장금리</th>\n",
              "    </tr>\n",
              "    <tr>\n",
              "      <th>date</th>\n",
              "      <th></th>\n",
              "      <th></th>\n",
              "      <th></th>\n",
              "      <th></th>\n",
              "      <th></th>\n",
              "      <th></th>\n",
              "      <th></th>\n",
              "      <th></th>\n",
              "      <th></th>\n",
              "      <th></th>\n",
              "      <th></th>\n",
              "      <th></th>\n",
              "      <th></th>\n",
              "      <th></th>\n",
              "      <th></th>\n",
              "      <th></th>\n",
              "      <th></th>\n",
              "      <th></th>\n",
              "      <th></th>\n",
              "      <th></th>\n",
              "      <th></th>\n",
              "      <th></th>\n",
              "      <th></th>\n",
              "      <th></th>\n",
              "      <th></th>\n",
              "      <th></th>\n",
              "      <th></th>\n",
              "    </tr>\n",
              "  </thead>\n",
              "  <tbody>\n",
              "    <tr>\n",
              "      <th>2020-03-31</th>\n",
              "      <td>3750.0</td>\n",
              "      <td>12350.0</td>\n",
              "      <td>5400.0</td>\n",
              "      <td>9580.0</td>\n",
              "      <td>6990.0</td>\n",
              "      <td>10850.0</td>\n",
              "      <td>8800.0</td>\n",
              "      <td>3300.0</td>\n",
              "      <td>3590.0</td>\n",
              "      <td>5400.0</td>\n",
              "      <td>5300.0</td>\n",
              "      <td>53052.0</td>\n",
              "      <td>17980.0</td>\n",
              "      <td>35960.0</td>\n",
              "      <td>44016.0</td>\n",
              "      <td>7887.0</td>\n",
              "      <td>12311.0</td>\n",
              "      <td>1279.0</td>\n",
              "      <td>68390.0</td>\n",
              "      <td>844.0</td>\n",
              "      <td>43002.0</td>\n",
              "      <td>1218.8</td>\n",
              "      <td>1754.64</td>\n",
              "      <td>180.17</td>\n",
              "      <td>174.87</td>\n",
              "      <td>157.49</td>\n",
              "      <td>0.8</td>\n",
              "    </tr>\n",
              "    <tr>\n",
              "      <th>2020-04-01</th>\n",
              "      <td>NaN</td>\n",
              "      <td>NaN</td>\n",
              "      <td>NaN</td>\n",
              "      <td>NaN</td>\n",
              "      <td>NaN</td>\n",
              "      <td>NaN</td>\n",
              "      <td>NaN</td>\n",
              "      <td>NaN</td>\n",
              "      <td>NaN</td>\n",
              "      <td>NaN</td>\n",
              "      <td>NaN</td>\n",
              "      <td>NaN</td>\n",
              "      <td>NaN</td>\n",
              "      <td>NaN</td>\n",
              "      <td>NaN</td>\n",
              "      <td>NaN</td>\n",
              "      <td>NaN</td>\n",
              "      <td>NaN</td>\n",
              "      <td>NaN</td>\n",
              "      <td>NaN</td>\n",
              "      <td>NaN</td>\n",
              "      <td>NaN</td>\n",
              "      <td>NaN</td>\n",
              "      <td>NaN</td>\n",
              "      <td>NaN</td>\n",
              "      <td>NaN</td>\n",
              "      <td>NaN</td>\n",
              "    </tr>\n",
              "  </tbody>\n",
              "</table>\n",
              "</div>"
            ],
            "text/plain": [
              "            stock_Asia  stock_Jobi  stock_Hyosung  ...   Brent     WTI  시장금리\n",
              "date                                               ...                      \n",
              "2020-03-31      3750.0     12350.0         5400.0  ...  174.87  157.49   0.8\n",
              "2020-04-01         NaN         NaN            NaN  ...     NaN     NaN   NaN\n",
              "\n",
              "[2 rows x 27 columns]"
            ]
          },
          "metadata": {
            "tags": []
          },
          "execution_count": 76
        }
      ]
    },
    {
      "cell_type": "code",
      "metadata": {
        "id": "ZnkkHDvbWo1V",
        "colab_type": "code",
        "outputId": "d061b9d5-2939-4a41-f375-3353982cec05",
        "colab": {
          "base_uri": "https://localhost:8080/",
          "height": 173
        }
      },
      "source": [
        "target_name = 'stock_Jobi'\n",
        "target_names = [target_name, 'onion']\n",
        "#df = data[]\n",
        "shift_steps = 1\n",
        "\n",
        "df = data[target_names].shift(1)\n",
        "\n",
        "df.tail(3)"
      ],
      "execution_count": 77,
      "outputs": [
        {
          "output_type": "execute_result",
          "data": {
            "text/html": [
              "<div>\n",
              "<style scoped>\n",
              "    .dataframe tbody tr th:only-of-type {\n",
              "        vertical-align: middle;\n",
              "    }\n",
              "\n",
              "    .dataframe tbody tr th {\n",
              "        vertical-align: top;\n",
              "    }\n",
              "\n",
              "    .dataframe thead th {\n",
              "        text-align: right;\n",
              "    }\n",
              "</style>\n",
              "<table border=\"1\" class=\"dataframe\">\n",
              "  <thead>\n",
              "    <tr style=\"text-align: right;\">\n",
              "      <th></th>\n",
              "      <th>stock_Jobi</th>\n",
              "      <th>onion</th>\n",
              "    </tr>\n",
              "    <tr>\n",
              "      <th>date</th>\n",
              "      <th></th>\n",
              "      <th></th>\n",
              "    </tr>\n",
              "  </thead>\n",
              "  <tbody>\n",
              "    <tr>\n",
              "      <th>2020-03-30</th>\n",
              "      <td>9360.0</td>\n",
              "      <td>1180.0</td>\n",
              "    </tr>\n",
              "    <tr>\n",
              "      <th>2020-03-31</th>\n",
              "      <td>9500.0</td>\n",
              "      <td>1407.0</td>\n",
              "    </tr>\n",
              "    <tr>\n",
              "      <th>2020-04-01</th>\n",
              "      <td>12350.0</td>\n",
              "      <td>1279.0</td>\n",
              "    </tr>\n",
              "  </tbody>\n",
              "</table>\n",
              "</div>"
            ],
            "text/plain": [
              "            stock_Jobi   onion\n",
              "date                          \n",
              "2020-03-30      9360.0  1180.0\n",
              "2020-03-31      9500.0  1407.0\n",
              "2020-04-01     12350.0  1279.0"
            ]
          },
          "metadata": {
            "tags": []
          },
          "execution_count": 77
        }
      ]
    },
    {
      "cell_type": "code",
      "metadata": {
        "id": "iScDFzA_WWuX",
        "colab_type": "code",
        "outputId": "0dcd45ad-b5ae-4353-ba5f-5a0b545c967f",
        "colab": {
          "base_uri": "https://localhost:8080/",
          "height": 107
        }
      },
      "source": [
        "df_targets = df[target_name].shift(-shift_steps)\n",
        "# df_targets = df.shift(-shift_steps)\n",
        "\n",
        "df_targets.tail(3)"
      ],
      "execution_count": 78,
      "outputs": [
        {
          "output_type": "execute_result",
          "data": {
            "text/plain": [
              "date\n",
              "2020-03-30     9500.0\n",
              "2020-03-31    12350.0\n",
              "2020-04-01        NaN\n",
              "Name: stock_Jobi, dtype: float64"
            ]
          },
          "metadata": {
            "tags": []
          },
          "execution_count": 78
        }
      ]
    },
    {
      "cell_type": "code",
      "metadata": {
        "id": "kvZaDuKTUTP7",
        "colab_type": "code",
        "outputId": "732a8f2c-2222-49fb-ba0b-83a642447076",
        "colab": {
          "base_uri": "https://localhost:8080/",
          "height": 125
        }
      },
      "source": [
        "df.index[-23:]"
      ],
      "execution_count": 79,
      "outputs": [
        {
          "output_type": "execute_result",
          "data": {
            "text/plain": [
              "Index(['2020-03-02', '2020-03-03', '2020-03-04', '2020-03-05', '2020-03-06',\n",
              "       '2020-03-09', '2020-03-10', '2020-03-11', '2020-03-12', '2020-03-13',\n",
              "       '2020-03-16', '2020-03-17', '2020-03-18', '2020-03-19', '2020-03-20',\n",
              "       '2020-03-23', '2020-03-24', '2020-03-25', '2020-03-26', '2020-03-27',\n",
              "       '2020-03-30', '2020-03-31', '2020-04-01'],\n",
              "      dtype='object', name='date')"
            ]
          },
          "metadata": {
            "tags": []
          },
          "execution_count": 79
        }
      ]
    },
    {
      "cell_type": "code",
      "metadata": {
        "id": "E_Wj265dWfBj",
        "colab_type": "code",
        "outputId": "60b3bf88-541c-4ec0-d82f-b3b4e8015105",
        "colab": {
          "base_uri": "https://localhost:8080/",
          "height": 89
        }
      },
      "source": [
        "x_data = df.values[shift_steps:-23] # 3월 예측\n",
        "\n",
        "print(type(x_data))\n",
        "print(\"Shape:\", x_data.shape)\n",
        "y_data = df_targets.values[shift_steps:-23].reshape(-1,1)\n",
        "\n",
        "print(type(y_data))\n",
        "print(\"Shape:\", y_data.shape)"
      ],
      "execution_count": 80,
      "outputs": [
        {
          "output_type": "stream",
          "text": [
            "<class 'numpy.ndarray'>\n",
            "Shape: (1478, 2)\n",
            "<class 'numpy.ndarray'>\n",
            "Shape: (1478, 1)\n"
          ],
          "name": "stdout"
        }
      ]
    },
    {
      "cell_type": "code",
      "metadata": {
        "id": "k7ydy2gimdQR",
        "colab_type": "code",
        "outputId": "e52af357-9427-4f36-9626-0c872e3a1efc",
        "colab": {
          "base_uri": "https://localhost:8080/",
          "height": 107
        }
      },
      "source": [
        "num_data = len(x_data)\n",
        "print(num_data)\n",
        "train_split = 0.9\n",
        "\n",
        "num_train = int(train_split * num_data)\n",
        "print(num_train)\n",
        "\n",
        "num_test = num_data - num_train\n",
        "print(num_test)\n",
        "\n",
        "x_train = x_data[0:num_train]\n",
        "x_test = x_data[num_train:]\n",
        "print(len(x_train) + len(x_test))\n",
        "\n",
        "y_train = y_data[0:num_train]\n",
        "y_test = y_data[num_train:]\n",
        "print(len(y_train) + len(y_test))"
      ],
      "execution_count": 81,
      "outputs": [
        {
          "output_type": "stream",
          "text": [
            "1478\n",
            "1330\n",
            "148\n",
            "1478\n",
            "1478\n"
          ],
          "name": "stdout"
        }
      ]
    },
    {
      "cell_type": "code",
      "metadata": {
        "id": "c6QAwY0Amsb7",
        "colab_type": "code",
        "outputId": "66218a0a-7a9d-48de-a370-c6132d087b89",
        "colab": {
          "base_uri": "https://localhost:8080/",
          "height": 35
        }
      },
      "source": [
        "# input 갯수\n",
        "num_x_signals = x_data.shape[1]\n",
        "# output 갯수\n",
        "num_y_signals = y_data.shape[1]\n",
        "\n",
        "print('input ouput 갯수 :',num_x_signals, num_y_signals)"
      ],
      "execution_count": 82,
      "outputs": [
        {
          "output_type": "stream",
          "text": [
            "input ouput 갯수 : 2 1\n"
          ],
          "name": "stdout"
        }
      ]
    },
    {
      "cell_type": "code",
      "metadata": {
        "id": "H1abwULdm-tF",
        "colab_type": "code",
        "colab": {}
      },
      "source": [
        "# Scaled Data\n",
        "x_scaler = MinMaxScaler()\n",
        "\n",
        "x_train_scaled = x_scaler.fit_transform(x_train)\n",
        "x_test_scaled = x_scaler.transform(x_test)\n",
        "\n",
        "y_scaler = MinMaxScaler()\n",
        "y_train_scaled = y_scaler.fit_transform(y_train)\n",
        "y_test_scaled = y_scaler.transform(y_test)\n",
        "# print(\"Min:\", np.min(x_train_scaled))\n",
        "# print(\"Max:\", np.max(x_train_scaled))"
      ],
      "execution_count": 0,
      "outputs": []
    },
    {
      "cell_type": "code",
      "metadata": {
        "id": "7Yf42IubnI9w",
        "colab_type": "code",
        "colab": {}
      },
      "source": [
        "def batch_generator(batch_size, sequence_length):\n",
        "    \"\"\"\n",
        "    Generator function for creating random batches of training-data.\n",
        "    \"\"\"\n",
        "\n",
        "    # Infinite loop.\n",
        "    while True:\n",
        "        # Allocate a new array for the batch of input-signals.\n",
        "        x_shape = (batch_size, sequence_length, num_x_signals)\n",
        "        x_batch = np.zeros(shape=x_shape, dtype=np.float16)\n",
        "\n",
        "        # Allocate a new array for the batch of output-signals.\n",
        "        y_shape = (batch_size, sequence_length, num_y_signals)\n",
        "        y_batch = np.zeros(shape=y_shape, dtype=np.float16)\n",
        "\n",
        "        # Fill the batch with random sequences of data.\n",
        "        for i in range(batch_size):\n",
        "            # Get a random start-index.\n",
        "            # This points somewhere into the training-data.\n",
        "            idx = np.random.randint(num_train - sequence_length)\n",
        "            \n",
        "            # Copy the sequences of data starting at this index.\n",
        "            x_batch[i] = x_train_scaled[idx:idx+sequence_length]\n",
        "            y_batch[i] = y_train_scaled[idx:idx+sequence_length]\n",
        "        \n",
        "        yield (x_batch, y_batch)"
      ],
      "execution_count": 0,
      "outputs": []
    },
    {
      "cell_type": "code",
      "metadata": {
        "id": "6LawG5nZnLd7",
        "colab_type": "code",
        "outputId": "716a209c-18a0-4757-e072-dc5d6fe5e2eb",
        "colab": {
          "base_uri": "https://localhost:8080/",
          "height": 53
        }
      },
      "source": [
        "batch_size = 256\n",
        "sequence_length = 365\n",
        "warmup_steps = 100\n",
        "\n",
        "generator = batch_generator(batch_size=batch_size, sequence_length=sequence_length)\n",
        "x_batch, y_batch = next(generator)\n",
        "\n",
        "print(x_batch.shape)\n",
        "print(y_batch.shape)"
      ],
      "execution_count": 85,
      "outputs": [
        {
          "output_type": "stream",
          "text": [
            "(256, 365, 2)\n",
            "(256, 365, 1)\n"
          ],
          "name": "stdout"
        }
      ]
    },
    {
      "cell_type": "code",
      "metadata": {
        "id": "v9yhrlHOn_sr",
        "colab_type": "code",
        "colab": {}
      },
      "source": [
        "validation_data = (np.expand_dims(x_test_scaled, axis=0),\n",
        "                   np.expand_dims(y_test_scaled, axis=0))"
      ],
      "execution_count": 0,
      "outputs": []
    },
    {
      "cell_type": "code",
      "metadata": {
        "id": "ftEWjGfMogHG",
        "colab_type": "code",
        "outputId": "095451c9-2a21-42eb-eabb-f2013569672a",
        "colab": {
          "base_uri": "https://localhost:8080/",
          "height": 233
        }
      },
      "source": [
        "def loss_mse_warmup(y_true, y_pred):\n",
        "    \"\"\"\n",
        "    Calculate the Mean Squared Error between y_true and y_pred,\n",
        "    but ignore the beginning \"warmup\" part of the sequences.\n",
        "    \n",
        "    y_true is the desired output.\n",
        "    y_pred is the model's output.\n",
        "    \"\"\"\n",
        "\n",
        "    # The shape of both input tensors are:\n",
        "    # [batch_size, sequence_length, num_y_signals].\n",
        "\n",
        "    # Ignore the \"warmup\" parts of the sequences\n",
        "    # by taking slices of the tensors.\n",
        "    y_true_slice = y_true[:, warmup_steps:, :]\n",
        "    y_pred_slice = y_pred[:, warmup_steps:, :]\n",
        "\n",
        "    # These sliced tensors both have this shape:\n",
        "    # [batch_size, sequence_length - warmup_steps, num_y_signals]\n",
        "\n",
        "    # Calculat the Mean Squared Error and use it as loss.\n",
        "    mse = mean(square(y_true_slice - y_pred_slice))\n",
        "    \n",
        "    return mse\n",
        "\n",
        "def init_model():\n",
        "  model = Sequential()\n",
        "\n",
        "  model.add(GRU(units=512,\n",
        "              return_sequences=True,\n",
        "              input_shape=(None, num_x_signals,)))\n",
        "\n",
        "  model.add(Dense(num_y_signals, activation='sigmoid'))\n",
        "\n",
        "  optimizer = RMSprop(lr=1e-3)\n",
        "\n",
        "  model.compile(loss=loss_mse_warmup, optimizer=optimizer)\n",
        "\n",
        "  model.summary()\n",
        "\n",
        "  return model\n",
        "\n",
        "model = init_model()"
      ],
      "execution_count": 87,
      "outputs": [
        {
          "output_type": "stream",
          "text": [
            "Model: \"sequential_2\"\n",
            "_________________________________________________________________\n",
            "Layer (type)                 Output Shape              Param #   \n",
            "=================================================================\n",
            "gru_2 (GRU)                  (None, None, 512)         792576    \n",
            "_________________________________________________________________\n",
            "dense_2 (Dense)              (None, None, 1)           513       \n",
            "=================================================================\n",
            "Total params: 793,089\n",
            "Trainable params: 793,089\n",
            "Non-trainable params: 0\n",
            "_________________________________________________________________\n"
          ],
          "name": "stdout"
        }
      ]
    },
    {
      "cell_type": "code",
      "metadata": {
        "id": "ozwzeQYPx38u",
        "colab_type": "code",
        "outputId": "a8f5d0f0-c93e-4efb-f7b6-29cf32305f8f",
        "colab": {
          "base_uri": "https://localhost:8080/",
          "height": 35
        }
      },
      "source": [
        "model"
      ],
      "execution_count": 88,
      "outputs": [
        {
          "output_type": "execute_result",
          "data": {
            "text/plain": [
              "<tensorflow.python.keras.engine.sequential.Sequential at 0x7fcb2d778278>"
            ]
          },
          "metadata": {
            "tags": []
          },
          "execution_count": 88
        }
      ]
    },
    {
      "cell_type": "code",
      "metadata": {
        "id": "qLIu5Mwhxps9",
        "colab_type": "code",
        "colab": {}
      },
      "source": [
        "# model.load_weights('/content/gdrive/My Drive/Colab Notebooks/Bit_project/model1.h5')# Re-evaluate the model"
      ],
      "execution_count": 0,
      "outputs": []
    },
    {
      "cell_type": "code",
      "metadata": {
        "id": "4_i944y7o4zT",
        "colab_type": "code",
        "colab": {}
      },
      "source": [
        "# path_checkpoint = '/content/gdrive/My Drive/Colab Notebooks/Bit_project/23_checkpoint.keras'\n",
        "# callback_checkpoint = ModelCheckpoint(filepath=path_checkpoint,\n",
        "#                                       monitor='val_loss',\n",
        "#                                       verbose=1,\n",
        "#                                       save_weights_only=True,\n",
        "#                                       save_best_only=True)\n",
        "\n",
        "callback_early_stopping = EarlyStopping(monitor='val_loss',\n",
        "                                        patience=5, verbose=1)\n",
        "\n",
        "# callback_tensorboard = TensorBoard(log_dir='/content/gdrive/My Drive/Colab Notebooks/Bit_project/23_logs/',\n",
        "#                                    histogram_freq=0,\n",
        "#                                    write_graph=False)\n",
        "\n",
        "callback_reduce_lr = ReduceLROnPlateau(monitor='val_loss',\n",
        "                                       factor=0.1,\n",
        "                                       min_lr=1e-4,\n",
        "                                       patience=0,\n",
        "                                       verbose=1)\n",
        "\n",
        "callbacks = [callback_early_stopping,\n",
        "             callback_reduce_lr]"
      ],
      "execution_count": 0,
      "outputs": []
    },
    {
      "cell_type": "code",
      "metadata": {
        "id": "dYEVe2YTpHHT",
        "colab_type": "code",
        "outputId": "c7704ad2-cfc5-48cc-b7f6-30c7bb86a9d3",
        "colab": {
          "base_uri": "https://localhost:8080/",
          "height": 863
        }
      },
      "source": [
        "%%time\n",
        "model.fit(x=generator,\n",
        "          epochs=20,\n",
        "          steps_per_epoch=100,\n",
        "          validation_data=validation_data,\n",
        "          callbacks=callbacks)"
      ],
      "execution_count": 91,
      "outputs": [
        {
          "output_type": "stream",
          "text": [
            "Epoch 1/20\n",
            "100/100 [==============================] - 11s 109ms/step - loss: 0.0796 - val_loss: 0.0263 - lr: 0.0010\n",
            "Epoch 2/20\n",
            "100/100 [==============================] - ETA: 0s - loss: 0.0797\n",
            "Epoch 00002: ReduceLROnPlateau reducing learning rate to 0.00010000000474974513.\n",
            "100/100 [==============================] - 11s 107ms/step - loss: 0.0797 - val_loss: 0.0263 - lr: 0.0010\n",
            "Epoch 3/20\n",
            "100/100 [==============================] - ETA: 0s - loss: 0.0804\n",
            "Epoch 00003: ReduceLROnPlateau reducing learning rate to 0.0001.\n",
            "100/100 [==============================] - 11s 107ms/step - loss: 0.0804 - val_loss: 0.0263 - lr: 1.0000e-04\n",
            "Epoch 4/20\n",
            "100/100 [==============================] - 11s 107ms/step - loss: 0.0793 - val_loss: 0.0263 - lr: 1.0000e-04\n",
            "Epoch 5/20\n",
            "100/100 [==============================] - 11s 107ms/step - loss: 0.0793 - val_loss: 0.0263 - lr: 1.0000e-04\n",
            "Epoch 6/20\n",
            "100/100 [==============================] - 11s 107ms/step - loss: 0.0797 - val_loss: 0.0263 - lr: 1.0000e-04\n",
            "Epoch 7/20\n",
            "100/100 [==============================] - 11s 107ms/step - loss: 0.0790 - val_loss: 0.0263 - lr: 1.0000e-04\n",
            "Epoch 8/20\n",
            "100/100 [==============================] - 11s 108ms/step - loss: 0.0810 - val_loss: 0.0263 - lr: 1.0000e-04\n",
            "Epoch 9/20\n",
            "100/100 [==============================] - 11s 107ms/step - loss: 0.0797 - val_loss: 0.0263 - lr: 1.0000e-04\n",
            "Epoch 10/20\n",
            "100/100 [==============================] - 11s 107ms/step - loss: 0.0801 - val_loss: 0.0263 - lr: 1.0000e-04\n",
            "Epoch 11/20\n",
            "100/100 [==============================] - 11s 108ms/step - loss: 0.0501 - val_loss: 0.0019 - lr: 1.0000e-04\n",
            "Epoch 12/20\n",
            "100/100 [==============================] - 11s 108ms/step - loss: 0.0065 - val_loss: 6.7390e-04 - lr: 1.0000e-04\n",
            "Epoch 13/20\n",
            "100/100 [==============================] - 11s 109ms/step - loss: 0.0046 - val_loss: 6.0339e-04 - lr: 1.0000e-04\n",
            "Epoch 14/20\n",
            "100/100 [==============================] - 11s 108ms/step - loss: 0.0031 - val_loss: 7.3306e-04 - lr: 1.0000e-04\n",
            "Epoch 15/20\n",
            "100/100 [==============================] - 11s 109ms/step - loss: 0.0024 - val_loss: 8.6546e-04 - lr: 1.0000e-04\n",
            "Epoch 16/20\n",
            "100/100 [==============================] - 11s 107ms/step - loss: 0.0022 - val_loss: 8.5221e-04 - lr: 1.0000e-04\n",
            "Epoch 17/20\n",
            "100/100 [==============================] - 11s 107ms/step - loss: 0.0020 - val_loss: 7.3875e-04 - lr: 1.0000e-04\n",
            "Epoch 18/20\n",
            "100/100 [==============================] - 11s 107ms/step - loss: 0.0019 - val_loss: 5.8419e-04 - lr: 1.0000e-04\n",
            "Epoch 19/20\n",
            "100/100 [==============================] - 11s 107ms/step - loss: 0.0018 - val_loss: 7.3320e-04 - lr: 1.0000e-04\n",
            "Epoch 20/20\n",
            "100/100 [==============================] - 11s 108ms/step - loss: 0.0017 - val_loss: 5.7394e-04 - lr: 1.0000e-04\n",
            "CPU times: user 2min 4s, sys: 44.1 s, total: 2min 48s\n",
            "Wall time: 3min 38s\n"
          ],
          "name": "stdout"
        },
        {
          "output_type": "execute_result",
          "data": {
            "text/plain": [
              "<tensorflow.python.keras.callbacks.History at 0x7fcb2d7ef9b0>"
            ]
          },
          "metadata": {
            "tags": []
          },
          "execution_count": 91
        }
      ]
    },
    {
      "cell_type": "code",
      "metadata": {
        "id": "Yq031ADVqDty",
        "colab_type": "code",
        "colab": {}
      },
      "source": [
        "def plot_comparison(start_idx, length=100, train=True):\n",
        "    \"\"\"\n",
        "    Plot the predicted and true output-signals.\n",
        "    \n",
        "    :param start_idx: Start-index for the time-series.\n",
        "    :param length: Sequence-length to process and plot.\n",
        "    :param train: Boolean whether to use training- or test-set.\n",
        "    \"\"\"\n",
        "    \n",
        "    if train:\n",
        "        # Use training-data.\n",
        "        x = x_train_scaled\n",
        "        y_true = y_train\n",
        "    else:\n",
        "        # Use test-data.\n",
        "        x = x_test_scaled\n",
        "        y_true = y_test\n",
        "    \n",
        "    # End-index for the sequences.\n",
        "    end_idx = start_idx + length\n",
        "    \n",
        "    # Select the sequences from the given start-index and\n",
        "    # of the given length.\n",
        "    x = x[start_idx:end_idx]\n",
        "    y_true = y_true[start_idx:end_idx]\n",
        "    \n",
        "    # Input-signals for the model.\n",
        "    x = np.expand_dims(x, axis=0)\n",
        "\n",
        "    # Use the model to predict the output-signals.\n",
        "    y_pred = model.predict(x)\n",
        "    \n",
        "    # The output of the model is between 0 and 1.\n",
        "    # Do an inverse map to get it back to the scale\n",
        "    # of the original data-set.\n",
        "    y_pred_rescaled = y_scaler.inverse_transform(y_pred[0])\n",
        "    \n",
        "    signal = 0\n",
        "    \n",
        "    # Get the output-signal predicted by the model.\n",
        "    signal_pred = y_pred_rescaled[:, signal]\n",
        "    \n",
        "    # Get the true output-signal from the data-set.\n",
        "    signal_true = y_true[:, signal]\n",
        "\n",
        "    # Make the plotting-canvas bigger.\n",
        "    plt.figure(figsize=(15,5))\n",
        "    \n",
        "    # Plot and compare the two signals.\n",
        "    plt.plot(signal_true, label='true')\n",
        "    plt.plot(signal_pred, label='pred')\n",
        "    \n",
        "    # Plot grey box for warmup-period.\n",
        "    p = plt.axvspan(0, warmup_steps, facecolor='black', alpha=0.15)\n",
        "    \n",
        "    # Plot labels etc.\n",
        "    plt.ylabel(target_names[signal])\n",
        "    # plt.xlabel(np.array(dt_index.date))\n",
        "    \n",
        "    plt.legend()\n",
        "    plt.show()\n",
        "\n",
        "    # return signal_true, signal_pred\n",
        "\n",
        "def pred(model):\n",
        "  '''\n",
        "    수익률 계산을 위한 실제 주식값, 예측 주식값 생성\n",
        "  '''\n",
        "  pred_x_data = df.values[shift_steps:-1]\n",
        "  y_true = np.array(df_targets.values[shift_steps:-1], dtype=np.int)# .reshape(-1,1)\n",
        "\n",
        "  #print(y_true[-10:])\n",
        "\n",
        "  pred_x_train_scaled = x_scaler.fit_transform(pred_x_data)\n",
        "  # y_true_scaled = y_scaler.transform(y_true)\n",
        "\n",
        "  pred_x = np.expand_dims(pred_x_train_scaled, axis=0)\n",
        "\n",
        "  pred = model.predict(pred_x)\n",
        "\n",
        "  pred_rescaled = y_scaler.inverse_transform(pred[0])\n",
        "\n",
        "  pred = pred_rescaled[:, 0].astype(np.int)\n",
        "  \n",
        "  return y_true, pred\n",
        "\n",
        "def returns(true, pred, term):\n",
        "  '''\n",
        "    수익률 계산\n",
        "    계산 방법 : \n",
        "      당일 예측값 - 전일 예측값 > 0 매도\n",
        "      당일 예측값 - 전일 예측값 < 0 미구매\n",
        "\n",
        "      매도 했을 경우 실제 값의 변동의 총 합 / 주어진 기간의 실제 주식 가격 평균 * 100 (단위 : %)\n",
        "  '''\n",
        "  true_data = true[-term:]\n",
        "  pred_data = pred[-term:]\n",
        "\n",
        "  \n",
        "  sum_true_data = true_data[1:] - true_data[:-1]\n",
        "  sum_pred_data = pred_data[1:] - pred_data[:-1]\n",
        "\n",
        "  returns = 1\n",
        "\n",
        "  for idx, i in enumerate(sum_pred_data):\n",
        "    daily_yield = (sum_true_data[idx] / true_data[idx]) + 1\n",
        "    if i > 0:\n",
        "      # print(daily_yield)\n",
        "      returns *= daily_yield\n",
        "\n",
        "  return returns"
      ],
      "execution_count": 0,
      "outputs": []
    },
    {
      "cell_type": "code",
      "metadata": {
        "id": "HL7p4D1Sp0VT",
        "colab_type": "code",
        "outputId": "34c575ad-433a-4e35-964b-b3d1f9cf198b",
        "colab": {
          "base_uri": "https://localhost:8080/",
          "height": 53
        }
      },
      "source": [
        "pred(model)"
      ],
      "execution_count": 95,
      "outputs": [
        {
          "output_type": "execute_result",
          "data": {
            "text/plain": [
              "(array([12000, 11850, 11900, ...,  9360,  9500, 12350]),\n",
              " array([23169, 22229, 21249, ..., 11746, 11798, 11864]))"
            ]
          },
          "metadata": {
            "tags": []
          },
          "execution_count": 95
        }
      ]
    },
    {
      "cell_type": "code",
      "metadata": {
        "id": "1u9EQiprob5K",
        "colab_type": "code",
        "outputId": "76c4be04-f235-4191-8c5e-89d61ba50bc0",
        "colab": {
          "base_uri": "https://localhost:8080/",
          "height": 35
        }
      },
      "source": [
        "t,p = pred(model)\n",
        "# `20년 3월 한달간 수익률\n",
        "returns(t,p, 23)"
      ],
      "execution_count": 96,
      "outputs": [
        {
          "output_type": "execute_result",
          "data": {
            "text/plain": [
              "1.317186298583724"
            ]
          },
          "metadata": {
            "tags": []
          },
          "execution_count": 96
        }
      ]
    },
    {
      "cell_type": "code",
      "metadata": {
        "id": "_zIgk05WZH4E",
        "colab_type": "code",
        "outputId": "2aaa765d-4a80-46ec-c8a6-e13ff15162d0",
        "colab": {
          "base_uri": "https://localhost:8080/",
          "height": 142
        }
      },
      "source": [
        "# returns_lst = pd.DataFrame(columns = ['name','error','returns','stock_name']).set_index('name')\n",
        "# returns_lst\n",
        "returns_lst = pd.read_csv('/content/gdrive/My Drive/Colab Notebooks/Bit_project/returns_lst.csv', encoding='cp949').set_index('name')\n",
        "\n",
        "returns_lst"
      ],
      "execution_count": 97,
      "outputs": [
        {
          "output_type": "execute_result",
          "data": {
            "text/html": [
              "<div>\n",
              "<style scoped>\n",
              "    .dataframe tbody tr th:only-of-type {\n",
              "        vertical-align: middle;\n",
              "    }\n",
              "\n",
              "    .dataframe tbody tr th {\n",
              "        vertical-align: top;\n",
              "    }\n",
              "\n",
              "    .dataframe thead th {\n",
              "        text-align: right;\n",
              "    }\n",
              "</style>\n",
              "<table border=\"1\" class=\"dataframe\">\n",
              "  <thead>\n",
              "    <tr style=\"text-align: right;\">\n",
              "      <th></th>\n",
              "      <th>error</th>\n",
              "      <th>returns</th>\n",
              "      <th>stock_name</th>\n",
              "    </tr>\n",
              "    <tr>\n",
              "      <th>name</th>\n",
              "      <th></th>\n",
              "      <th></th>\n",
              "      <th></th>\n",
              "    </tr>\n",
              "  </thead>\n",
              "  <tbody>\n",
              "    <tr>\n",
              "      <th>['stock_Asia', 'green_pepper', 'cabbage1', 'potato_price']</th>\n",
              "      <td>0.00026</td>\n",
              "      <td>1.599</td>\n",
              "      <td>stock_Asia</td>\n",
              "    </tr>\n",
              "    <tr>\n",
              "      <th>['stock_Jobi']</th>\n",
              "      <td>0.00042</td>\n",
              "      <td>1.444</td>\n",
              "      <td>stock_Jobi</td>\n",
              "    </tr>\n",
              "  </tbody>\n",
              "</table>\n",
              "</div>"
            ],
            "text/plain": [
              "                                                      error  ...  stock_name\n",
              "name                                                         ...            \n",
              "['stock_Asia', 'green_pepper', 'cabbage1', 'pot...  0.00026  ...  stock_Asia\n",
              "['stock_Jobi']                                      0.00042  ...  stock_Jobi\n",
              "\n",
              "[2 rows x 3 columns]"
            ]
          },
          "metadata": {
            "tags": []
          },
          "execution_count": 97
        }
      ]
    },
    {
      "cell_type": "code",
      "metadata": {
        "id": "5IN4FwI8tdAP",
        "colab_type": "code",
        "colab": {}
      },
      "source": [
        "# result_lst = pd.read_csv('/content/gdrive/My Drive/Colab Notebooks/Bit_project/result_lst.csv', encoding='cp949').set_index('name')\n",
        "\n",
        "# result_lst\n",
        "\n",
        "# # result_lst = pd.DataFrame(columns = ['name','error','returns']).set_index('name')\n",
        "# result = model.evaluate(x=np.expand_dims(x_test_scaled, axis=0),\n",
        "#                         y=np.expand_dims(y_test_scaled, axis=0))\n",
        "\n",
        "# print(\"loss (test-set):\", result)\n",
        "\n",
        "# result_lst.loc[str([str(i) for i in df.columns])] = [round(result,5), round(returns(t, p, 23),3), target_name]\n",
        "# # result_lst.append([str([str(i) for i in df.columns]), (round(result,5))])\n",
        "# result_lst[result_lst['stock_name'] == target_name].sort_values(by = ['returns','error'], ascending=[False, True])"
      ],
      "execution_count": 0,
      "outputs": []
    },
    {
      "cell_type": "code",
      "metadata": {
        "id": "1UnIP7Cmtc0-",
        "colab_type": "code",
        "outputId": "1f347dcb-6074-4f91-c714-bde17c8be2ad",
        "colab": {
          "base_uri": "https://localhost:8080/",
          "height": 178
        }
      },
      "source": [
        "result = model.evaluate(x=np.expand_dims(x_test_scaled, axis=0),\n",
        "                        y=np.expand_dims(y_test_scaled, axis=0))\n",
        "\n",
        "print(\"loss (test-set):\", result)\n",
        "\n",
        "returns_lst.loc[str([str(i) for i in df.columns])] = [round(result,5), round(returns(t, p, 23),3), target_name]\n",
        "# result_lst.append([str([str(i) for i in df.columns]), (round(result,5))])\n",
        "returns_lst[returns_lst['stock_name'] == target_name].sort_values(by = ['returns','error'], ascending=[False, True])"
      ],
      "execution_count": 99,
      "outputs": [
        {
          "output_type": "stream",
          "text": [
            "1/1 [==============================] - 0s 893us/step - loss: 5.7394e-04\n",
            "loss (test-set): 0.0005739413318224251\n"
          ],
          "name": "stdout"
        },
        {
          "output_type": "execute_result",
          "data": {
            "text/html": [
              "<div>\n",
              "<style scoped>\n",
              "    .dataframe tbody tr th:only-of-type {\n",
              "        vertical-align: middle;\n",
              "    }\n",
              "\n",
              "    .dataframe tbody tr th {\n",
              "        vertical-align: top;\n",
              "    }\n",
              "\n",
              "    .dataframe thead th {\n",
              "        text-align: right;\n",
              "    }\n",
              "</style>\n",
              "<table border=\"1\" class=\"dataframe\">\n",
              "  <thead>\n",
              "    <tr style=\"text-align: right;\">\n",
              "      <th></th>\n",
              "      <th>error</th>\n",
              "      <th>returns</th>\n",
              "      <th>stock_name</th>\n",
              "    </tr>\n",
              "    <tr>\n",
              "      <th>name</th>\n",
              "      <th></th>\n",
              "      <th></th>\n",
              "      <th></th>\n",
              "    </tr>\n",
              "  </thead>\n",
              "  <tbody>\n",
              "    <tr>\n",
              "      <th>['stock_Jobi']</th>\n",
              "      <td>0.00042</td>\n",
              "      <td>1.444</td>\n",
              "      <td>stock_Jobi</td>\n",
              "    </tr>\n",
              "    <tr>\n",
              "      <th>['stock_Jobi', 'onion']</th>\n",
              "      <td>0.00057</td>\n",
              "      <td>1.317</td>\n",
              "      <td>stock_Jobi</td>\n",
              "    </tr>\n",
              "  </tbody>\n",
              "</table>\n",
              "</div>"
            ],
            "text/plain": [
              "                           error  returns  stock_name\n",
              "name                                                 \n",
              "['stock_Jobi']           0.00042    1.444  stock_Jobi\n",
              "['stock_Jobi', 'onion']  0.00057    1.317  stock_Jobi"
            ]
          },
          "metadata": {
            "tags": []
          },
          "execution_count": 99
        }
      ]
    },
    {
      "cell_type": "code",
      "metadata": {
        "id": "aTfw5GmVtcqy",
        "colab_type": "code",
        "outputId": "b4759632-2a9d-40d7-b9b4-a76f96b1bd01",
        "colab": {
          "base_uri": "https://localhost:8080/",
          "height": 173
        }
      },
      "source": [
        "result = returns_lst.sort_values(by = ['returns','error'], ascending=[False, True])#.set_index('name')\n",
        "result.to_csv('/content/gdrive/My Drive/Colab Notebooks/Bit_project/returns_lst.csv')\n",
        "result"
      ],
      "execution_count": 100,
      "outputs": [
        {
          "output_type": "execute_result",
          "data": {
            "text/html": [
              "<div>\n",
              "<style scoped>\n",
              "    .dataframe tbody tr th:only-of-type {\n",
              "        vertical-align: middle;\n",
              "    }\n",
              "\n",
              "    .dataframe tbody tr th {\n",
              "        vertical-align: top;\n",
              "    }\n",
              "\n",
              "    .dataframe thead th {\n",
              "        text-align: right;\n",
              "    }\n",
              "</style>\n",
              "<table border=\"1\" class=\"dataframe\">\n",
              "  <thead>\n",
              "    <tr style=\"text-align: right;\">\n",
              "      <th></th>\n",
              "      <th>error</th>\n",
              "      <th>returns</th>\n",
              "      <th>stock_name</th>\n",
              "    </tr>\n",
              "    <tr>\n",
              "      <th>name</th>\n",
              "      <th></th>\n",
              "      <th></th>\n",
              "      <th></th>\n",
              "    </tr>\n",
              "  </thead>\n",
              "  <tbody>\n",
              "    <tr>\n",
              "      <th>['stock_Asia', 'green_pepper', 'cabbage1', 'potato_price']</th>\n",
              "      <td>0.00026</td>\n",
              "      <td>1.599</td>\n",
              "      <td>stock_Asia</td>\n",
              "    </tr>\n",
              "    <tr>\n",
              "      <th>['stock_Jobi']</th>\n",
              "      <td>0.00042</td>\n",
              "      <td>1.444</td>\n",
              "      <td>stock_Jobi</td>\n",
              "    </tr>\n",
              "    <tr>\n",
              "      <th>['stock_Jobi', 'onion']</th>\n",
              "      <td>0.00057</td>\n",
              "      <td>1.317</td>\n",
              "      <td>stock_Jobi</td>\n",
              "    </tr>\n",
              "  </tbody>\n",
              "</table>\n",
              "</div>"
            ],
            "text/plain": [
              "                                                      error  ...  stock_name\n",
              "name                                                         ...            \n",
              "['stock_Asia', 'green_pepper', 'cabbage1', 'pot...  0.00026  ...  stock_Asia\n",
              "['stock_Jobi']                                      0.00042  ...  stock_Jobi\n",
              "['stock_Jobi', 'onion']                             0.00057  ...  stock_Jobi\n",
              "\n",
              "[3 rows x 3 columns]"
            ]
          },
          "metadata": {
            "tags": []
          },
          "execution_count": 100
        }
      ]
    },
    {
      "cell_type": "code",
      "metadata": {
        "id": "_zNwyX_pagdp",
        "colab_type": "code",
        "colab": {}
      },
      "source": [
        "# model save\n",
        "from tensorflow.keras.models import load_model\n",
        "model.save('/content/gdrive/My Drive/Colab Notebooks/Bit_project/model/' + str([str(i) for i in df.columns]) + '.h5')"
      ],
      "execution_count": 0,
      "outputs": []
    },
    {
      "cell_type": "code",
      "metadata": {
        "id": "R6dJboXOIfCR",
        "colab_type": "code",
        "outputId": "ae002efc-15bc-4958-e8d6-527f2158ae5c",
        "colab": {
          "base_uri": "https://localhost:8080/",
          "height": 35
        }
      },
      "source": [
        "result['stock_name'].unique()"
      ],
      "execution_count": 0,
      "outputs": [
        {
          "output_type": "execute_result",
          "data": {
            "text/plain": [
              "array(['stock_Asia'], dtype=object)"
            ]
          },
          "metadata": {
            "tags": []
          },
          "execution_count": 133
        }
      ]
    },
    {
      "cell_type": "code",
      "metadata": {
        "id": "96ZUyWAzIe36",
        "colab_type": "code",
        "outputId": "8f2408d2-8448-480f-8fd8-af2220240735",
        "colab": {
          "base_uri": "https://localhost:8080/",
          "height": 80
        }
      },
      "source": [
        "result[result['stock_name'] == 'stock_Jobi']"
      ],
      "execution_count": 0,
      "outputs": [
        {
          "output_type": "execute_result",
          "data": {
            "text/html": [
              "<div>\n",
              "<style scoped>\n",
              "    .dataframe tbody tr th:only-of-type {\n",
              "        vertical-align: middle;\n",
              "    }\n",
              "\n",
              "    .dataframe tbody tr th {\n",
              "        vertical-align: top;\n",
              "    }\n",
              "\n",
              "    .dataframe thead th {\n",
              "        text-align: right;\n",
              "    }\n",
              "</style>\n",
              "<table border=\"1\" class=\"dataframe\">\n",
              "  <thead>\n",
              "    <tr style=\"text-align: right;\">\n",
              "      <th></th>\n",
              "      <th>error</th>\n",
              "      <th>returns</th>\n",
              "      <th>stock_name</th>\n",
              "    </tr>\n",
              "    <tr>\n",
              "      <th>name</th>\n",
              "      <th></th>\n",
              "      <th></th>\n",
              "      <th></th>\n",
              "    </tr>\n",
              "  </thead>\n",
              "  <tbody>\n",
              "  </tbody>\n",
              "</table>\n",
              "</div>"
            ],
            "text/plain": [
              "Empty DataFrame\n",
              "Columns: [error, returns, stock_name]\n",
              "Index: []"
            ]
          },
          "metadata": {
            "tags": []
          },
          "execution_count": 134
        }
      ]
    },
    {
      "cell_type": "code",
      "metadata": {
        "id": "fuCsBzgta_Nm",
        "colab_type": "code",
        "colab": {}
      },
      "source": [
        ""
      ],
      "execution_count": 0,
      "outputs": []
    },
    {
      "cell_type": "code",
      "metadata": {
        "id": "yVuMgYB5a_JI",
        "colab_type": "code",
        "colab": {}
      },
      "source": [
        "data = pd.read_csv('/content/gdrive/My Drive/Colab Notebooks/Bit_project/result.csv', encoding='cp949').set_index('date')"
      ],
      "execution_count": 0,
      "outputs": []
    },
    {
      "cell_type": "code",
      "metadata": {
        "id": "JhxUmWOla_FC",
        "colab_type": "code",
        "colab": {}
      },
      "source": [
        ""
      ],
      "execution_count": 0,
      "outputs": []
    },
    {
      "cell_type": "code",
      "metadata": {
        "id": "G8DK-QjOa-fy",
        "colab_type": "code",
        "colab": {}
      },
      "source": [
        ""
      ],
      "execution_count": 0,
      "outputs": []
    },
    {
      "cell_type": "code",
      "metadata": {
        "id": "5ejikHGBa-VP",
        "colab_type": "code",
        "colab": {}
      },
      "source": [
        ""
      ],
      "execution_count": 0,
      "outputs": []
    },
    {
      "cell_type": "code",
      "metadata": {
        "id": "4TETjKEla-Ln",
        "colab_type": "code",
        "colab": {}
      },
      "source": [
        ""
      ],
      "execution_count": 0,
      "outputs": []
    },
    {
      "cell_type": "code",
      "metadata": {
        "id": "Kz8LpnbXa-CF",
        "colab_type": "code",
        "colab": {}
      },
      "source": [
        ""
      ],
      "execution_count": 0,
      "outputs": []
    },
    {
      "cell_type": "code",
      "metadata": {
        "id": "rHicl0weu9R1",
        "colab_type": "code",
        "colab": {}
      },
      "source": [
        ""
      ],
      "execution_count": 0,
      "outputs": []
    },
    {
      "cell_type": "code",
      "metadata": {
        "id": "AZAygZO9dyZA",
        "colab_type": "code",
        "outputId": "ca0dbb4d-6a98-4524-b04f-0da2e51bb9ad",
        "colab": {
          "base_uri": "https://localhost:8080/",
          "height": 623
        }
      },
      "source": [
        "# stock_asia을 이용한 예측\n",
        "plot_comparison(start_idx=0, length=len(y_train), train=True)\n",
        "plot_comparison(start_idx=0, length=len(y_test), train=False)"
      ],
      "execution_count": 66,
      "outputs": [
        {
          "output_type": "display_data",
          "data": {
            "image/png": "[encoded data removed]",
            "text/plain": [
              "<Figure size 1080x360 with 1 Axes>"
            ]
          },
          "metadata": {
            "tags": [],
            "needs_background": "light"
          }
        },
        {
          "output_type": "display_data",
          "data": {
            "image/png": "[encoded data removed]",
            "text/plain": [
              "<Figure size 1080x360 with 1 Axes>"
            ]
          },
          "metadata": {
            "tags": [],
            "needs_background": "light"
          }
        }
      ]
    },
    {
      "cell_type": "code",
      "metadata": {
        "id": "MzRvToQPxmAi",
        "colab_type": "code",
        "colab": {}
      },
      "source": [
        ""
      ],
      "execution_count": 0,
      "outputs": []
    }
  ]
}