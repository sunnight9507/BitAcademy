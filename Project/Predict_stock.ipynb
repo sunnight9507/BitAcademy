{
 "cells": [
  {
   "cell_type": "markdown",
   "metadata": {},
   "source": [
    "### GRU\n",
    "- 게이트 메커니즘이 적용된 RNN 프레임워크의 일종으로 LSTM보다 더 간략한 구조\n",
    "\n",
    "\n",
    "### LSTM이 아닌 GRU Model 선택 이유\n",
    "\n",
    "- **각 주식별 모델링**을 해야하기 때문에 **파라미터 수가 적어 학습시간이 더 짧게 걸리는 `GRU`**를 선택\n",
    "- **일별 데이터**이기 때문에 **소량의 데이터에서 학습이 우수한 `GRU`**를 선택"
   ]
  },
  {
   "cell_type": "code",
   "execution_count": 1,
   "metadata": {},
   "outputs": [
    {
     "data": {
      "text/plain": [
       "True"
      ]
     },
     "execution_count": 1,
     "metadata": {},
     "output_type": "execute_result"
    }
   ],
   "source": [
    "import tensorflow as tf\n",
    "\n",
    "# GPU 확인\n",
    "tf.test.is_gpu_available( cuda_only=False, min_cuda_compute_capability=None )"
   ]
  },
  {
   "cell_type": "code",
   "execution_count": 59,
   "metadata": {
    "colab": {},
    "colab_type": "code",
    "id": "n_iDU7x-9jpP"
   },
   "outputs": [],
   "source": [
    "%matplotlib inline\n",
    "import datetime as dt\n",
    "import matplotlib.pyplot as plt\n",
    "import tensorflow as tf\n",
    "import numpy as np\n",
    "import pandas as pd\n",
    "import os\n",
    "from sklearn.preprocessing import MinMaxScaler\n",
    "from datetime import timedelta\n",
    "from dateutil.parser import parse\n",
    "\n",
    "from tensorflow.keras.models import Sequential\n",
    "from tensorflow.keras.layers import Input, Dense, GRU, Embedding\n",
    "from tensorflow.keras.optimizers import RMSprop\n",
    "from tensorflow.keras.callbacks import EarlyStopping, ModelCheckpoint, TensorBoard, ReduceLROnPlateau\n",
    "from tensorflow.keras.backend import square, mean"
   ]
  },
  {
   "cell_type": "code",
   "execution_count": 60,
   "metadata": {
    "colab": {
     "base_uri": "https://localhost:8080/",
     "height": 71
    },
    "colab_type": "code",
    "id": "gp9YiA0GGgZv",
    "outputId": "728a2d08-0380-4f0e-b24a-6d4b9933c105"
   },
   "outputs": [
    {
     "name": "stdout",
     "output_type": "stream",
     "text": [
      "2.0.0\n",
      "2.2.4-tf\n",
      "1.0.1\n"
     ]
    }
   ],
   "source": [
    "print(tf.__version__)\n",
    "\n",
    "print(tf.keras.__version__)\n",
    "\n",
    "print(pd.__version__)"
   ]
  },
  {
   "cell_type": "code",
   "execution_count": 153,
   "metadata": {
    "colab": {
     "base_uri": "https://localhost:8080/",
     "height": 265
    },
    "colab_type": "code",
    "id": "omcLWVrg9-Ei",
    "outputId": "a0f177dd-850a-4220-ce24-19b4c125ad6e"
   },
   "outputs": [
    {
     "name": "stdout",
     "output_type": "stream",
     "text": [
      "(1501, 31)\n"
     ]
    },
    {
     "data": {
      "text/html": [
       "<div>\n",
       "<style scoped>\n",
       "    .dataframe tbody tr th:only-of-type {\n",
       "        vertical-align: middle;\n",
       "    }\n",
       "\n",
       "    .dataframe tbody tr th {\n",
       "        vertical-align: top;\n",
       "    }\n",
       "\n",
       "    .dataframe thead th {\n",
       "        text-align: right;\n",
       "    }\n",
       "</style>\n",
       "<table border=\"1\" class=\"dataframe\">\n",
       "  <thead>\n",
       "    <tr style=\"text-align: right;\">\n",
       "      <th></th>\n",
       "      <th>아시아종묘</th>\n",
       "      <th>조비</th>\n",
       "      <th>효성오앤비</th>\n",
       "      <th>경농</th>\n",
       "      <th>남해화학</th>\n",
       "      <th>KG케미칼</th>\n",
       "      <th>농우바이오</th>\n",
       "      <th>성보화학</th>\n",
       "      <th>아세아텍</th>\n",
       "      <th>동방아그로</th>\n",
       "      <th>...</th>\n",
       "      <th>green_onion</th>\n",
       "      <th>cucumber</th>\n",
       "      <th>price_egg</th>\n",
       "      <th>price_milk</th>\n",
       "      <th>price_sugar</th>\n",
       "      <th>exchangerate</th>\n",
       "      <th>kospi</th>\n",
       "      <th>Dubai</th>\n",
       "      <th>Brent</th>\n",
       "      <th>WTI</th>\n",
       "    </tr>\n",
       "    <tr>\n",
       "      <th>date</th>\n",
       "      <th></th>\n",
       "      <th></th>\n",
       "      <th></th>\n",
       "      <th></th>\n",
       "      <th></th>\n",
       "      <th></th>\n",
       "      <th></th>\n",
       "      <th></th>\n",
       "      <th></th>\n",
       "      <th></th>\n",
       "      <th></th>\n",
       "      <th></th>\n",
       "      <th></th>\n",
       "      <th></th>\n",
       "      <th></th>\n",
       "      <th></th>\n",
       "      <th></th>\n",
       "      <th></th>\n",
       "      <th></th>\n",
       "      <th></th>\n",
       "      <th></th>\n",
       "    </tr>\n",
       "  </thead>\n",
       "  <tbody>\n",
       "    <tr>\n",
       "      <th>2014-08-01</th>\n",
       "      <td>3300.0</td>\n",
       "      <td>12000.0</td>\n",
       "      <td>17300.0</td>\n",
       "      <td>5780.0</td>\n",
       "      <td>9260.0</td>\n",
       "      <td>13700.0</td>\n",
       "      <td>20650.0</td>\n",
       "      <td>42350.0</td>\n",
       "      <td>3455.0</td>\n",
       "      <td>6380.0</td>\n",
       "      <td>...</td>\n",
       "      <td>1156.0</td>\n",
       "      <td>62722.0</td>\n",
       "      <td>5987.0</td>\n",
       "      <td>2549.0</td>\n",
       "      <td>435.7</td>\n",
       "      <td>1037.75</td>\n",
       "      <td>2073.10</td>\n",
       "      <td>104.92</td>\n",
       "      <td>104.84</td>\n",
       "      <td>97.88</td>\n",
       "    </tr>\n",
       "    <tr>\n",
       "      <th>2014-08-04</th>\n",
       "      <td>3300.0</td>\n",
       "      <td>12000.0</td>\n",
       "      <td>17350.0</td>\n",
       "      <td>5900.0</td>\n",
       "      <td>9280.0</td>\n",
       "      <td>13700.0</td>\n",
       "      <td>21100.0</td>\n",
       "      <td>43050.0</td>\n",
       "      <td>3465.0</td>\n",
       "      <td>6370.0</td>\n",
       "      <td>...</td>\n",
       "      <td>1510.0</td>\n",
       "      <td>43128.0</td>\n",
       "      <td>5987.0</td>\n",
       "      <td>2549.0</td>\n",
       "      <td>468.9</td>\n",
       "      <td>1033.35</td>\n",
       "      <td>2080.42</td>\n",
       "      <td>103.15</td>\n",
       "      <td>105.41</td>\n",
       "      <td>98.29</td>\n",
       "    </tr>\n",
       "  </tbody>\n",
       "</table>\n",
       "<p>2 rows × 31 columns</p>\n",
       "</div>"
      ],
      "text/plain": [
       "             아시아종묘       조비    효성오앤비      경농    남해화학    KG케미칼    농우바이오  \\\n",
       "date                                                                     \n",
       "2014-08-01  3300.0  12000.0  17300.0  5780.0  9260.0  13700.0  20650.0   \n",
       "2014-08-04  3300.0  12000.0  17350.0  5900.0  9280.0  13700.0  21100.0   \n",
       "\n",
       "               성보화학    아세아텍   동방아그로  ...  green_onion  cucumber  price_egg  \\\n",
       "date                                 ...                                     \n",
       "2014-08-01  42350.0  3455.0  6380.0  ...       1156.0   62722.0     5987.0   \n",
       "2014-08-04  43050.0  3465.0  6370.0  ...       1510.0   43128.0     5987.0   \n",
       "\n",
       "            price_milk  price_sugar  exchangerate    kospi   Dubai   Brent  \\\n",
       "date                                                                         \n",
       "2014-08-01      2549.0        435.7       1037.75  2073.10  104.92  104.84   \n",
       "2014-08-04      2549.0        468.9       1033.35  2080.42  103.15  105.41   \n",
       "\n",
       "              WTI  \n",
       "date               \n",
       "2014-08-01  97.88  \n",
       "2014-08-04  98.29  \n",
       "\n",
       "[2 rows x 31 columns]"
      ]
     },
     "execution_count": 153,
     "metadata": {},
     "output_type": "execute_result"
    }
   ],
   "source": [
    "# 파일 불러오기 예시\n",
    "# pd.read_csv('/content/gdrive/My Drive/Colab Notebooks/train.csv')\n",
    "\n",
    "# 4319\n",
    "data = pd.read_csv('result.csv', encoding='cp949').set_index('date')\n",
    "print(data.shape)\n",
    "data.head(2)"
   ]
  },
  {
   "cell_type": "code",
   "execution_count": 154,
   "metadata": {
    "colab": {},
    "colab_type": "code",
    "id": "_Ne9OEtvQdrg"
   },
   "outputs": [],
   "source": [
    "data.loc[str(parse(data.index[-1]).date() + timedelta(days=1))] = [np.nan for _ in range(data.shape[1])]"
   ]
  },
  {
   "cell_type": "code",
   "execution_count": 155,
   "metadata": {
    "colab": {
     "base_uri": "https://localhost:8080/",
     "height": 247
    },
    "colab_type": "code",
    "id": "d84giyFSRJDT",
    "outputId": "cf57a7a0-ba60-454d-a64a-fa1636c90df6"
   },
   "outputs": [
    {
     "data": {
      "text/html": [
       "<div>\n",
       "<style scoped>\n",
       "    .dataframe tbody tr th:only-of-type {\n",
       "        vertical-align: middle;\n",
       "    }\n",
       "\n",
       "    .dataframe tbody tr th {\n",
       "        vertical-align: top;\n",
       "    }\n",
       "\n",
       "    .dataframe thead th {\n",
       "        text-align: right;\n",
       "    }\n",
       "</style>\n",
       "<table border=\"1\" class=\"dataframe\">\n",
       "  <thead>\n",
       "    <tr style=\"text-align: right;\">\n",
       "      <th></th>\n",
       "      <th>아시아종묘</th>\n",
       "      <th>조비</th>\n",
       "      <th>효성오앤비</th>\n",
       "      <th>경농</th>\n",
       "      <th>남해화학</th>\n",
       "      <th>KG케미칼</th>\n",
       "      <th>농우바이오</th>\n",
       "      <th>성보화학</th>\n",
       "      <th>아세아텍</th>\n",
       "      <th>동방아그로</th>\n",
       "      <th>...</th>\n",
       "      <th>green_onion</th>\n",
       "      <th>cucumber</th>\n",
       "      <th>price_egg</th>\n",
       "      <th>price_milk</th>\n",
       "      <th>price_sugar</th>\n",
       "      <th>exchangerate</th>\n",
       "      <th>kospi</th>\n",
       "      <th>Dubai</th>\n",
       "      <th>Brent</th>\n",
       "      <th>WTI</th>\n",
       "    </tr>\n",
       "    <tr>\n",
       "      <th>date</th>\n",
       "      <th></th>\n",
       "      <th></th>\n",
       "      <th></th>\n",
       "      <th></th>\n",
       "      <th></th>\n",
       "      <th></th>\n",
       "      <th></th>\n",
       "      <th></th>\n",
       "      <th></th>\n",
       "      <th></th>\n",
       "      <th></th>\n",
       "      <th></th>\n",
       "      <th></th>\n",
       "      <th></th>\n",
       "      <th></th>\n",
       "      <th></th>\n",
       "      <th></th>\n",
       "      <th></th>\n",
       "      <th></th>\n",
       "      <th></th>\n",
       "      <th></th>\n",
       "    </tr>\n",
       "  </thead>\n",
       "  <tbody>\n",
       "    <tr>\n",
       "      <th>2020-03-31</th>\n",
       "      <td>3750.0</td>\n",
       "      <td>12350.0</td>\n",
       "      <td>5400.0</td>\n",
       "      <td>9580.0</td>\n",
       "      <td>6990.0</td>\n",
       "      <td>10850.0</td>\n",
       "      <td>8800.0</td>\n",
       "      <td>3300.0</td>\n",
       "      <td>3590.0</td>\n",
       "      <td>5400.0</td>\n",
       "      <td>...</td>\n",
       "      <td>844.0</td>\n",
       "      <td>43002.0</td>\n",
       "      <td>5311.0</td>\n",
       "      <td>2623.0</td>\n",
       "      <td>330.9</td>\n",
       "      <td>1218.8</td>\n",
       "      <td>1754.64</td>\n",
       "      <td>23.43</td>\n",
       "      <td>22.74</td>\n",
       "      <td>20.48</td>\n",
       "    </tr>\n",
       "    <tr>\n",
       "      <th>2020-04-01</th>\n",
       "      <td>NaN</td>\n",
       "      <td>NaN</td>\n",
       "      <td>NaN</td>\n",
       "      <td>NaN</td>\n",
       "      <td>NaN</td>\n",
       "      <td>NaN</td>\n",
       "      <td>NaN</td>\n",
       "      <td>NaN</td>\n",
       "      <td>NaN</td>\n",
       "      <td>NaN</td>\n",
       "      <td>...</td>\n",
       "      <td>NaN</td>\n",
       "      <td>NaN</td>\n",
       "      <td>NaN</td>\n",
       "      <td>NaN</td>\n",
       "      <td>NaN</td>\n",
       "      <td>NaN</td>\n",
       "      <td>NaN</td>\n",
       "      <td>NaN</td>\n",
       "      <td>NaN</td>\n",
       "      <td>NaN</td>\n",
       "    </tr>\n",
       "  </tbody>\n",
       "</table>\n",
       "<p>2 rows × 31 columns</p>\n",
       "</div>"
      ],
      "text/plain": [
       "             아시아종묘       조비   효성오앤비      경농    남해화학    KG케미칼   농우바이오    성보화학  \\\n",
       "date                                                                           \n",
       "2020-03-31  3750.0  12350.0  5400.0  9580.0  6990.0  10850.0  8800.0  3300.0   \n",
       "2020-04-01     NaN      NaN     NaN     NaN     NaN      NaN     NaN     NaN   \n",
       "\n",
       "              아세아텍   동방아그로  ...  green_onion  cucumber  price_egg  price_milk  \\\n",
       "date                        ...                                                 \n",
       "2020-03-31  3590.0  5400.0  ...        844.0   43002.0     5311.0      2623.0   \n",
       "2020-04-01     NaN     NaN  ...          NaN       NaN        NaN         NaN   \n",
       "\n",
       "            price_sugar  exchangerate    kospi  Dubai  Brent    WTI  \n",
       "date                                                                 \n",
       "2020-03-31        330.9        1218.8  1754.64  23.43  22.74  20.48  \n",
       "2020-04-01          NaN           NaN      NaN    NaN    NaN    NaN  \n",
       "\n",
       "[2 rows x 31 columns]"
      ]
     },
     "execution_count": 155,
     "metadata": {},
     "output_type": "execute_result"
    }
   ],
   "source": [
    "data.tail(2)"
   ]
  },
  {
   "cell_type": "code",
   "execution_count": 172,
   "metadata": {
    "colab": {
     "base_uri": "https://localhost:8080/",
     "height": 173
    },
    "colab_type": "code",
    "id": "ZnkkHDvbWo1V",
    "outputId": "d061b9d5-2939-4a41-f375-3353982cec05"
   },
   "outputs": [
    {
     "data": {
      "text/html": [
       "<div>\n",
       "<style scoped>\n",
       "    .dataframe tbody tr th:only-of-type {\n",
       "        vertical-align: middle;\n",
       "    }\n",
       "\n",
       "    .dataframe tbody tr th {\n",
       "        vertical-align: top;\n",
       "    }\n",
       "\n",
       "    .dataframe thead th {\n",
       "        text-align: right;\n",
       "    }\n",
       "</style>\n",
       "<table border=\"1\" class=\"dataframe\">\n",
       "  <thead>\n",
       "    <tr style=\"text-align: right;\">\n",
       "      <th></th>\n",
       "      <th>KG케미칼</th>\n",
       "      <th>Brent</th>\n",
       "    </tr>\n",
       "    <tr>\n",
       "      <th>date</th>\n",
       "      <th></th>\n",
       "      <th></th>\n",
       "    </tr>\n",
       "  </thead>\n",
       "  <tbody>\n",
       "    <tr>\n",
       "      <th>2020-03-30</th>\n",
       "      <td>9370.0</td>\n",
       "      <td>24.93</td>\n",
       "    </tr>\n",
       "    <tr>\n",
       "      <th>2020-03-31</th>\n",
       "      <td>9400.0</td>\n",
       "      <td>22.76</td>\n",
       "    </tr>\n",
       "    <tr>\n",
       "      <th>2020-04-01</th>\n",
       "      <td>10850.0</td>\n",
       "      <td>22.74</td>\n",
       "    </tr>\n",
       "  </tbody>\n",
       "</table>\n",
       "</div>"
      ],
      "text/plain": [
       "              KG케미칼  Brent\n",
       "date                      \n",
       "2020-03-30   9370.0  24.93\n",
       "2020-03-31   9400.0  22.76\n",
       "2020-04-01  10850.0  22.74"
      ]
     },
     "execution_count": 172,
     "metadata": {},
     "output_type": "execute_result"
    }
   ],
   "source": [
    "target_name = 'KG케미칼'\n",
    "target_names = [target_name, 'Brent']\n",
    "#df = data[]\n",
    "shift_steps = 1\n",
    "\n",
    "df = data[target_names].shift(1)\n",
    "\n",
    "df.tail(3)"
   ]
  },
  {
   "cell_type": "code",
   "execution_count": 173,
   "metadata": {
    "colab": {
     "base_uri": "https://localhost:8080/",
     "height": 107
    },
    "colab_type": "code",
    "id": "iScDFzA_WWuX",
    "outputId": "0dcd45ad-b5ae-4353-ba5f-5a0b545c967f"
   },
   "outputs": [
    {
     "data": {
      "text/plain": [
       "date\n",
       "2020-03-30     9400.0\n",
       "2020-03-31    10850.0\n",
       "2020-04-01        NaN\n",
       "Name: KG케미칼, dtype: float64"
      ]
     },
     "execution_count": 173,
     "metadata": {},
     "output_type": "execute_result"
    }
   ],
   "source": [
    "df_targets = df[target_name].shift(-shift_steps)\n",
    "# df_targets = df.shift(-shift_steps)\n",
    "\n",
    "df_targets.tail(3)"
   ]
  },
  {
   "cell_type": "code",
   "execution_count": 174,
   "metadata": {
    "colab": {
     "base_uri": "https://localhost:8080/",
     "height": 125
    },
    "colab_type": "code",
    "id": "kvZaDuKTUTP7",
    "outputId": "732a8f2c-2222-49fb-ba0b-83a642447076"
   },
   "outputs": [
    {
     "data": {
      "text/plain": [
       "Index(['2020-01-02', '2020-01-03', '2020-01-06', '2020-01-07', '2020-01-08',\n",
       "       '2020-01-09', '2020-01-10', '2020-01-13', '2020-01-14', '2020-01-15',\n",
       "       '2020-01-16', '2020-01-17', '2020-01-20', '2020-01-21', '2020-01-22',\n",
       "       '2020-01-23', '2020-01-24', '2020-01-27', '2020-01-28', '2020-01-29',\n",
       "       '2020-01-30', '2020-01-31', '2020-02-03', '2020-02-04', '2020-02-05',\n",
       "       '2020-02-06', '2020-02-07', '2020-02-10', '2020-02-11', '2020-02-12',\n",
       "       '2020-02-13', '2020-02-14', '2020-02-17', '2020-02-18', '2020-02-19',\n",
       "       '2020-02-20', '2020-02-21', '2020-02-24', '2020-02-25', '2020-02-26',\n",
       "       '2020-02-27', '2020-02-28', '2020-03-02', '2020-03-03', '2020-03-04',\n",
       "       '2020-03-05', '2020-03-06', '2020-03-09', '2020-03-10', '2020-03-11',\n",
       "       '2020-03-12', '2020-03-13', '2020-03-16', '2020-03-17', '2020-03-18',\n",
       "       '2020-03-19', '2020-03-20', '2020-03-23', '2020-03-24', '2020-03-25',\n",
       "       '2020-03-26', '2020-03-27', '2020-03-30', '2020-03-31', '2020-04-01'],\n",
       "      dtype='object', name='date')"
      ]
     },
     "execution_count": 174,
     "metadata": {},
     "output_type": "execute_result"
    }
   ],
   "source": [
    "df.index[-65:]"
   ]
  },
  {
   "cell_type": "code",
   "execution_count": 175,
   "metadata": {
    "colab": {
     "base_uri": "https://localhost:8080/",
     "height": 89
    },
    "colab_type": "code",
    "id": "E_Wj265dWfBj",
    "outputId": "60b3bf88-541c-4ec0-d82f-b3b4e8015105"
   },
   "outputs": [
    {
     "name": "stdout",
     "output_type": "stream",
     "text": [
      "<class 'numpy.ndarray'>\n",
      "Shape: (1478, 2)\n",
      "<class 'numpy.ndarray'>\n",
      "Shape: (1478, 1)\n"
     ]
    }
   ],
   "source": [
    "x_data = df.values[shift_steps:-23] # 3월 예측\n",
    "\n",
    "print(type(x_data))\n",
    "print(\"Shape:\", x_data.shape)\n",
    "y_data = df_targets.values[shift_steps:-23].reshape(-1,1)\n",
    "\n",
    "print(type(y_data))\n",
    "print(\"Shape:\", y_data.shape)"
   ]
  },
  {
   "cell_type": "code",
   "execution_count": 176,
   "metadata": {
    "colab": {
     "base_uri": "https://localhost:8080/",
     "height": 107
    },
    "colab_type": "code",
    "id": "k7ydy2gimdQR",
    "outputId": "e52af357-9427-4f36-9626-0c872e3a1efc"
   },
   "outputs": [
    {
     "name": "stdout",
     "output_type": "stream",
     "text": [
      "1478\n",
      "1330\n",
      "148\n",
      "1478\n",
      "1478\n"
     ]
    }
   ],
   "source": [
    "num_data = len(x_data)\n",
    "print(num_data)\n",
    "train_split = 0.9\n",
    "\n",
    "num_train = int(train_split * num_data)\n",
    "print(num_train)\n",
    "\n",
    "num_test = num_data - num_train\n",
    "print(num_test)\n",
    "\n",
    "x_train = x_data[0:num_train]\n",
    "x_test = x_data[num_train:]\n",
    "print(len(x_train) + len(x_test))\n",
    "\n",
    "y_train = y_data[0:num_train]\n",
    "y_test = y_data[num_train:]\n",
    "print(len(y_train) + len(y_test))"
   ]
  },
  {
   "cell_type": "code",
   "execution_count": 177,
   "metadata": {
    "colab": {
     "base_uri": "https://localhost:8080/",
     "height": 35
    },
    "colab_type": "code",
    "id": "c6QAwY0Amsb7",
    "outputId": "66218a0a-7a9d-48de-a370-c6132d087b89"
   },
   "outputs": [
    {
     "name": "stdout",
     "output_type": "stream",
     "text": [
      "input ouput 갯수 : 2 1\n"
     ]
    }
   ],
   "source": [
    "# input 갯수\n",
    "num_x_signals = x_data.shape[1]\n",
    "# output 갯수\n",
    "num_y_signals = y_data.shape[1]\n",
    "\n",
    "print('input ouput 갯수 :',num_x_signals, num_y_signals)"
   ]
  },
  {
   "cell_type": "code",
   "execution_count": 178,
   "metadata": {
    "colab": {},
    "colab_type": "code",
    "id": "H1abwULdm-tF"
   },
   "outputs": [],
   "source": [
    "# Scaled Data\n",
    "x_scaler = MinMaxScaler()\n",
    "\n",
    "x_train_scaled = x_scaler.fit_transform(x_train)\n",
    "x_test_scaled = x_scaler.transform(x_test)\n",
    "\n",
    "y_scaler = MinMaxScaler()\n",
    "y_train_scaled = y_scaler.fit_transform(y_train)\n",
    "y_test_scaled = y_scaler.transform(y_test)\n",
    "# print(\"Min:\", np.min(x_train_scaled))\n",
    "# print(\"Max:\", np.max(x_train_scaled))"
   ]
  },
  {
   "cell_type": "code",
   "execution_count": 179,
   "metadata": {
    "colab": {},
    "colab_type": "code",
    "id": "7Yf42IubnI9w"
   },
   "outputs": [],
   "source": [
    "def batch_generator(batch_size, sequence_length):\n",
    "    \"\"\"\n",
    "    Generator function for creating random batches of training-data.\n",
    "    \"\"\"\n",
    "\n",
    "    # Infinite loop.\n",
    "    while True:\n",
    "        # Allocate a new array for the batch of input-signals.\n",
    "        x_shape = (batch_size, sequence_length, num_x_signals)\n",
    "        x_batch = np.zeros(shape=x_shape, dtype=np.float16)\n",
    "\n",
    "        # Allocate a new array for the batch of output-signals.\n",
    "        y_shape = (batch_size, sequence_length, num_y_signals)\n",
    "        y_batch = np.zeros(shape=y_shape, dtype=np.float16)\n",
    "\n",
    "        # Fill the batch with random sequences of data.\n",
    "        for i in range(batch_size):\n",
    "            # Get a random start-index.\n",
    "            # This points somewhere into the training-data.\n",
    "            idx = np.random.randint(num_train - sequence_length)\n",
    "            \n",
    "            # Copy the sequences of data starting at this index.\n",
    "            x_batch[i] = x_train_scaled[idx:idx+sequence_length]\n",
    "            y_batch[i] = y_train_scaled[idx:idx+sequence_length]\n",
    "        \n",
    "        yield (x_batch, y_batch)"
   ]
  },
  {
   "cell_type": "code",
   "execution_count": 180,
   "metadata": {
    "colab": {
     "base_uri": "https://localhost:8080/",
     "height": 53
    },
    "colab_type": "code",
    "id": "6LawG5nZnLd7",
    "outputId": "716a209c-18a0-4757-e072-dc5d6fe5e2eb"
   },
   "outputs": [
    {
     "name": "stdout",
     "output_type": "stream",
     "text": [
      "(256, 365, 2)\n",
      "(256, 365, 1)\n"
     ]
    }
   ],
   "source": [
    "batch_size = 256\n",
    "sequence_length = 365\n",
    "warmup_steps = 100\n",
    "\n",
    "generator = batch_generator(batch_size=batch_size, sequence_length=sequence_length)\n",
    "x_batch, y_batch = next(generator)\n",
    "\n",
    "print(x_batch.shape)\n",
    "print(y_batch.shape)"
   ]
  },
  {
   "cell_type": "code",
   "execution_count": 181,
   "metadata": {
    "colab": {},
    "colab_type": "code",
    "id": "v9yhrlHOn_sr"
   },
   "outputs": [],
   "source": [
    "validation_data = (np.expand_dims(x_test_scaled, axis=0),\n",
    "                   np.expand_dims(y_test_scaled, axis=0))"
   ]
  },
  {
   "cell_type": "code",
   "execution_count": 182,
   "metadata": {
    "colab": {
     "base_uri": "https://localhost:8080/",
     "height": 233
    },
    "colab_type": "code",
    "id": "ftEWjGfMogHG",
    "outputId": "095451c9-2a21-42eb-eabb-f2013569672a"
   },
   "outputs": [
    {
     "name": "stdout",
     "output_type": "stream",
     "text": [
      "Model: \"sequential_9\"\n",
      "_________________________________________________________________\n",
      "Layer (type)                 Output Shape              Param #   \n",
      "=================================================================\n",
      "gru_9 (GRU)                  (None, None, 512)         792576    \n",
      "_________________________________________________________________\n",
      "dense_9 (Dense)              (None, None, 1)           513       \n",
      "=================================================================\n",
      "Total params: 793,089\n",
      "Trainable params: 793,089\n",
      "Non-trainable params: 0\n",
      "_________________________________________________________________\n"
     ]
    }
   ],
   "source": [
    "def loss_mse_warmup(y_true, y_pred):\n",
    "    \"\"\"\n",
    "    Calculate the Mean Squared Error between y_true and y_pred,\n",
    "    but ignore the beginning \"warmup\" part of the sequences.\n",
    "    \n",
    "    y_true is the desired output.\n",
    "    y_pred is the model's output.\n",
    "    \"\"\"\n",
    "\n",
    "    # The shape of both input tensors are:\n",
    "    # [batch_size, sequence_length, num_y_signals].\n",
    "\n",
    "    # Ignore the \"warmup\" parts of the sequences\n",
    "    # by taking slices of the tensors.\n",
    "    y_true_slice = y_true[:, warmup_steps:, :]\n",
    "    y_pred_slice = y_pred[:, warmup_steps:, :]\n",
    "\n",
    "    # These sliced tensors both have this shape:\n",
    "    # [batch_size, sequence_length - warmup_steps, num_y_signals]\n",
    "\n",
    "    # Calculat the Mean Squared Error and use it as loss.\n",
    "    mse = mean(square(y_true_slice - y_pred_slice))\n",
    "    \n",
    "    return mse\n",
    "\n",
    "def init_model():\n",
    "    model = Sequential()\n",
    "\n",
    "    model.add(GRU(units=512,\n",
    "                  return_sequences=True,\n",
    "                  input_shape=(None, num_x_signals,)))\n",
    "\n",
    "    model.add(Dense(num_y_signals, activation='sigmoid'))\n",
    "\n",
    "    optimizer = RMSprop(lr=1e-3)\n",
    "\n",
    "    model.compile(loss=loss_mse_warmup, optimizer=optimizer)\n",
    "\n",
    "    model.summary()\n",
    "\n",
    "    return model\n",
    "\n",
    "model = init_model()"
   ]
  },
  {
   "cell_type": "code",
   "execution_count": 183,
   "metadata": {
    "colab": {
     "base_uri": "https://localhost:8080/",
     "height": 35
    },
    "colab_type": "code",
    "id": "ozwzeQYPx38u",
    "outputId": "a8f5d0f0-c93e-4efb-f7b6-29cf32305f8f"
   },
   "outputs": [
    {
     "data": {
      "text/plain": [
       "<tensorflow.python.keras.engine.sequential.Sequential at 0x176c89e5648>"
      ]
     },
     "execution_count": 183,
     "metadata": {},
     "output_type": "execute_result"
    }
   ],
   "source": [
    "model"
   ]
  },
  {
   "cell_type": "code",
   "execution_count": 184,
   "metadata": {
    "colab": {},
    "colab_type": "code",
    "id": "qLIu5Mwhxps9"
   },
   "outputs": [],
   "source": [
    "# model.load_weights('/content/gdrive/My Drive/Colab Notebooks/Bit_project/model1.h5')# Re-evaluate the model"
   ]
  },
  {
   "cell_type": "code",
   "execution_count": 185,
   "metadata": {
    "colab": {},
    "colab_type": "code",
    "id": "4_i944y7o4zT"
   },
   "outputs": [],
   "source": [
    "# path_checkpoint = '/content/gdrive/My Drive/Colab Notebooks/Bit_project/23_checkpoint.keras'\n",
    "# callback_checkpoint = ModelCheckpoint(filepath=path_checkpoint,\n",
    "#                                       monitor='val_loss',\n",
    "#                                       verbose=1,\n",
    "#                                       save_weights_only=True,\n",
    "#                                       save_best_only=True)\n",
    "\n",
    "callback_early_stopping = EarlyStopping(monitor='val_loss',\n",
    "                                        patience=5, verbose=1)\n",
    "\n",
    "# callback_tensorboard = TensorBoard(log_dir='/content/gdrive/My Drive/Colab Notebooks/Bit_project/23_logs/',\n",
    "#                                    histogram_freq=0,\n",
    "#                                    write_graph=False)\n",
    "\n",
    "callback_reduce_lr = ReduceLROnPlateau(monitor='val_loss',\n",
    "                                       factor=0.1,\n",
    "                                       min_lr=1e-4,\n",
    "                                       patience=0,\n",
    "                                       verbose=1)\n",
    "\n",
    "callbacks = [callback_early_stopping,\n",
    "             callback_reduce_lr]"
   ]
  },
  {
   "cell_type": "code",
   "execution_count": 186,
   "metadata": {
    "colab": {
     "base_uri": "https://localhost:8080/",
     "height": 863
    },
    "colab_type": "code",
    "id": "dYEVe2YTpHHT",
    "outputId": "c7704ad2-cfc5-48cc-b7f6-30c7bb86a9d3",
    "scrolled": false
   },
   "outputs": [
    {
     "name": "stdout",
     "output_type": "stream",
     "text": [
      "Train for 100 steps, validate on 1 samples\n",
      "Epoch 1/20\n",
      "100/100 [==============================] - 14s 138ms/step - loss: 0.4494 - val_loss: 0.7813\n",
      "Epoch 2/20\n",
      " 99/100 [============================>.] - ETA: 0s - loss: 0.4505\n",
      "Epoch 00002: ReduceLROnPlateau reducing learning rate to 0.00010000000474974513.\n",
      "100/100 [==============================] - 12s 118ms/step - loss: 0.4507 - val_loss: 0.7813\n",
      "Epoch 3/20\n",
      " 99/100 [============================>.] - ETA: 0s - loss: 0.4482\n",
      "Epoch 00003: ReduceLROnPlateau reducing learning rate to 0.0001.\n",
      "100/100 [==============================] - 12s 121ms/step - loss: 0.4481 - val_loss: 0.7813\n",
      "Epoch 4/20\n",
      "100/100 [==============================] - 12s 120ms/step - loss: 0.4498 - val_loss: 0.7813\n",
      "Epoch 5/20\n",
      "100/100 [==============================] - 12s 121ms/step - loss: 0.4516 - val_loss: 0.7813\n",
      "Epoch 6/20\n",
      "100/100 [==============================] - 12s 124ms/step - loss: 0.4501 - val_loss: 0.7813\n",
      "Epoch 00006: early stopping\n",
      "Wall time: 1min 14s\n"
     ]
    },
    {
     "data": {
      "text/plain": [
       "<tensorflow.python.keras.callbacks.History at 0x176c8fa5cc8>"
      ]
     },
     "execution_count": 186,
     "metadata": {},
     "output_type": "execute_result"
    }
   ],
   "source": [
    "%%time\n",
    "model.fit(x=generator,\n",
    "          epochs=20,\n",
    "          steps_per_epoch=100,\n",
    "          validation_data=validation_data,\n",
    "          callbacks=callbacks)"
   ]
  },
  {
   "cell_type": "code",
   "execution_count": 187,
   "metadata": {},
   "outputs": [],
   "source": [
    "from tensorflow.keras.models import load_model\n",
    "model.save('model/' + str([str(i) for i in df.columns]) + '.h5')"
   ]
  },
  {
   "cell_type": "code",
   "execution_count": null,
   "metadata": {},
   "outputs": [],
   "source": []
  },
  {
   "cell_type": "code",
   "execution_count": null,
   "metadata": {},
   "outputs": [],
   "source": []
  },
  {
   "cell_type": "code",
   "execution_count": null,
   "metadata": {},
   "outputs": [],
   "source": []
  },
  {
   "cell_type": "code",
   "execution_count": 23,
   "metadata": {
    "colab": {},
    "colab_type": "code",
    "id": "Yq031ADVqDty"
   },
   "outputs": [],
   "source": [
    "def plot_comparison(start_idx, length=100, train=True):\n",
    "    \"\"\"\n",
    "    Plot the predicted and true output-signals.\n",
    "    \n",
    "    :param start_idx: Start-index for the time-series.\n",
    "    :param length: Sequence-length to process and plot.\n",
    "    :param train: Boolean whether to use training- or test-set.\n",
    "    \"\"\"\n",
    "    \n",
    "    if train:\n",
    "        # Use training-data.\n",
    "        x = x_train_scaled\n",
    "        y_true = y_train\n",
    "    else:\n",
    "        # Use test-data.\n",
    "        x = x_test_scaled\n",
    "        y_true = y_test\n",
    "    \n",
    "    # End-index for the sequences.\n",
    "    end_idx = start_idx + length\n",
    "    \n",
    "    # Select the sequences from the given start-index and\n",
    "    # of the given length.\n",
    "    x = x[start_idx:end_idx]\n",
    "    y_true = y_true[start_idx:end_idx]\n",
    "    \n",
    "    # Input-signals for the model.\n",
    "    x = np.expand_dims(x, axis=0)\n",
    "\n",
    "    # Use the model to predict the output-signals.\n",
    "    y_pred = model.predict(x)\n",
    "    \n",
    "    # The output of the model is between 0 and 1.\n",
    "    # Do an inverse map to get it back to the scale\n",
    "    # of the original data-set.\n",
    "    y_pred_rescaled = y_scaler.inverse_transform(y_pred[0])\n",
    "    \n",
    "    signal = 0\n",
    "    \n",
    "    # Get the output-signal predicted by the model.\n",
    "    signal_pred = y_pred_rescaled[:, signal]\n",
    "    \n",
    "    # Get the true output-signal from the data-set.\n",
    "    signal_true = y_true[:, signal]\n",
    "\n",
    "    # Make the plotting-canvas bigger.\n",
    "    plt.figure(figsize=(15,5))\n",
    "    \n",
    "    # Plot and compare the two signals.\n",
    "    plt.plot(signal_true, label='true')\n",
    "    plt.plot(signal_pred, label='pred')\n",
    "    \n",
    "    # Plot grey box for warmup-period.\n",
    "    p = plt.axvspan(0, warmup_steps, facecolor='black', alpha=0.15)\n",
    "    \n",
    "    # Plot labels etc.\n",
    "    plt.ylabel(target_names[signal])\n",
    "    # plt.xlabel(np.array(dt_index.date))\n",
    "    \n",
    "    plt.legend()\n",
    "    plt.show()\n",
    "\n",
    "    # return signal_true, signal_pred"
   ]
  },
  {
   "cell_type": "code",
   "execution_count": 24,
   "metadata": {
    "colab": {
     "base_uri": "https://localhost:8080/",
     "height": 623
    },
    "colab_type": "code",
    "id": "AZAygZO9dyZA",
    "outputId": "ca0dbb4d-6a98-4524-b04f-0da2e51bb9ad",
    "scrolled": false
   },
   "outputs": [
    {
     "data": {
      "image/png": "[encoded data removed]",
      "text/plain": [
       "<Figure size 1080x360 with 1 Axes>"
      ]
     },
     "metadata": {
      "needs_background": "light"
     },
     "output_type": "display_data"
    },
    {
     "data": {
      "image/png": "[encoded data removed]",
      "text/plain": [
       "<Figure size 1080x360 with 1 Axes>"
      ]
     },
     "metadata": {
      "needs_background": "light"
     },
     "output_type": "display_data"
    }
   ],
   "source": [
    "# stock_asia을 이용한 예측\n",
    "plot_comparison(start_idx=0, length=len(y_train), train=True)\n",
    "plot_comparison(start_idx=0, length=len(y_test), train=False)"
   ]
  }
 ],
 "metadata": {
  "accelerator": "GPU",
  "colab": {
   "collapsed_sections": [],
   "name": "Predict_stock",
   "provenance": []
  },
  "kernelspec": {
   "display_name": "Python 3",
   "language": "python",
   "name": "python3"
  },
  "language_info": {
   "codemirror_mode": {
    "name": "ipython",
    "version": 3
   },
   "file_extension": ".py",
   "mimetype": "text/x-python",
   "name": "python",
   "nbconvert_exporter": "python",
   "pygments_lexer": "ipython3",
   "version": "3.7.6"
  }
 },
 "nbformat": 4,
 "nbformat_minor": 1
}
